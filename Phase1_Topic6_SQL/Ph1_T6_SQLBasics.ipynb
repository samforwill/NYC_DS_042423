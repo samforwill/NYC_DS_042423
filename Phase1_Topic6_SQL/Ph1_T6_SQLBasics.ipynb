{
 "cells": [
  {
   "cell_type": "markdown",
   "metadata": {
    "slideshow": {
     "slide_type": "slide"
    }
   },
   "source": [
    "<div style=\"color:white;\n",
    "           display:fill;\n",
    "           border-radius:5px;\n",
    "           background-color:#5642C5;\n",
    "           font-size:200%;\n",
    "           font-family:Arial;letter-spacing:0.5px\">\n",
    "\n",
    "<p width = 20%, style=\"padding: 10px;\n",
    "              color:white;\">\n",
    "SQL: Introduction and Basic Querying\n",
    "</p>\n",
    "</div>\n",
    "\n",
    "Data Science Cohort Live NYC Feb 2022\n",
    "<p>Phase 1: Topic 4</p>\n",
    "<br>\n",
    "<br>\n",
    "\n",
    "<div align = \"right\">\n",
    "<img src=\"Images/flatiron-school-logo.png\" align = \"right\" width=\"200\"/>\n",
    "</div>\n",
    "    "
   ]
  },
  {
   "cell_type": "markdown",
   "metadata": {
    "cell_style": "split",
    "slideshow": {
     "slide_type": "slide"
    }
   },
   "source": [
    "#### Databases\n",
    "\n",
    "Data for organizations: typically stored in a **database**.\n",
    "\n",
    "- Database: organized collection of structured information.\n",
    "- Typically fairly large and hosted by dedicated servers.\n",
    "- A database controlled by a database management system (DBMS).\n",
    "\n"
   ]
  },
  {
   "cell_type": "markdown",
   "metadata": {
    "cell_style": "split",
    "slideshow": {
     "slide_type": "fragment"
    }
   },
   "source": [
    "<div align = \"center\">\n",
    "    <center><img src=\"Images/dbms.jpg\" align = \"center\" width=\"500\"/></center>\n",
    "</div>"
   ]
  },
  {
   "cell_type": "markdown",
   "metadata": {
    "cell_style": "split",
    "slideshow": {
     "slide_type": "fragment"
    }
   },
   "source": [
    "With DBMS: store, update, share, and access specific subset of database. \n",
    "\n",
    "- CSVs and JSONs are often extracts of some data from a database."
   ]
  },
  {
   "cell_type": "markdown",
   "metadata": {
    "slideshow": {
     "slide_type": "slide"
    }
   },
   "source": [
    "#### The relational database\n",
    "<br>\n",
    "<div align = \"center\">\n",
    "    <center><img src=\"Images/tables_relational.png\" align = \"center\" width=\"700\"/></center>\n",
    "</div>\n",
    "  "
   ]
  },
  {
   "cell_type": "markdown",
   "metadata": {
    "slideshow": {
     "slide_type": "fragment"
    }
   },
   "source": [
    "Tables are linked together by relationships.\n",
    "\n",
    "  Why relational databases are great and what came before (first 5 modules): <br>\n",
    "  https://mariadb.com/kb/en/database-theory/"
   ]
  },
  {
   "cell_type": "markdown",
   "metadata": {
    "slideshow": {
     "slide_type": "slide"
    }
   },
   "source": [
    "Common DBMS for Relational Databases\n",
    "<br>\n",
    "<div>\n",
    "    <center><img src=\"Images/postgresql.png\"  width=\"200\"/></center>\n",
    "    <center><img src=\"Images/mysql.png\"  width=\"300\"/></center>\n",
    "    <center><img src=\"Images/SQLite-Python.jpg\" align = \"center\" width=\"200\"/></center>\n",
    "</div>\n",
    "      \n",
    "</div>"
   ]
  },
  {
   "cell_type": "markdown",
   "metadata": {
    "slideshow": {
     "slide_type": "slide"
    }
   },
   "source": [
    "#### Structured Query Language\n",
    "\n",
    "- De-facto king of languages for interacting with relational databases and their DBMS.\n",
    "- Invaluable for you in almost any data role. \n",
    "- You will use it often to get the data that you need for your analyses.\n",
    "\n",
    "Let's get into using SQL!\n"
   ]
  },
  {
   "cell_type": "code",
   "execution_count": 4,
   "metadata": {
    "slideshow": {
     "slide_type": "slide"
    }
   },
   "outputs": [],
   "source": [
    "# import sqlite\n",
    "import sqlite3\n",
    "import pandas as pd"
   ]
  },
  {
   "cell_type": "markdown",
   "metadata": {
    "cell_style": "split",
    "slideshow": {
     "slide_type": "slide"
    }
   },
   "source": [
    "Interacting with a sqlite database.\n",
    "- Connect to database \n",
    "- Create interface to ask database for stuff\n",
    "- After connection established:\n",
    "    1. Execute query \n",
    "    2. Fetch result \n",
    "- Close connection to database when done with queries.\n"
   ]
  },
  {
   "cell_type": "markdown",
   "metadata": {
    "cell_style": "split",
    "slideshow": {
     "slide_type": "fragment"
    }
   },
   "source": [
    "Commands:\n",
    "- conn = sqlite3.connect(database)\n",
    "- cursor_obj = conn.cursor()\n",
    "- Query database/get result:\n",
    "    1. cursor.execute(SQL_query)\n",
    "    2. cursor.fetchall()\n",
    "- conn.close()\n"
   ]
  },
  {
   "cell_type": "markdown",
   "metadata": {
    "slideshow": {
     "slide_type": "slide"
    }
   },
   "source": [
    "This opens a connection to the flights database and creates cursor object."
   ]
  },
  {
   "cell_type": "code",
   "execution_count": 5,
   "metadata": {
    "slideshow": {
     "slide_type": "fragment"
    }
   },
   "outputs": [],
   "source": [
    "con = sqlite3.connect('data/flights.db')\n",
    "cursor_obj = con.cursor()"
   ]
  },
  {
   "cell_type": "markdown",
   "metadata": {
    "slideshow": {
     "slide_type": "slide"
    }
   },
   "source": [
    "See tables in the sqlite database via command line."
   ]
  },
  {
   "cell_type": "code",
   "execution_count": 6,
   "metadata": {
    "slideshow": {
     "slide_type": "fragment"
    }
   },
   "outputs": [
    {
     "name": "stdout",
     "output_type": "stream",
     "text": [
      "airlines  airports  routes  \n"
     ]
    }
   ],
   "source": [
    "%%bash \n",
    "\n",
    "sqlite3 data/flights.db\n",
    ".tables"
   ]
  },
  {
   "cell_type": "markdown",
   "metadata": {
    "slideshow": {
     "slide_type": "slide"
    }
   },
   "source": [
    "Get schema of sqlite database: whole or single table"
   ]
  },
  {
   "cell_type": "code",
   "execution_count": 4,
   "metadata": {
    "scrolled": true,
    "slideshow": {
     "slide_type": "fragment"
    }
   },
   "outputs": [
    {
     "name": "stdout",
     "output_type": "stream",
     "text": [
      "CREATE TABLE airports (\n",
      "[index] INTEGER,\n",
      "  [id] TEXT,\n",
      "  [name] TEXT,\n",
      "  [city] TEXT,\n",
      "  [country] TEXT,\n",
      "  [code] TEXT,\n",
      "  [icao] TEXT,\n",
      "  [latitude] TEXT,\n",
      "  [longitude] TEXT,\n",
      "  [altitude] TEXT,\n",
      "  [offset] TEXT,\n",
      "  [dst] TEXT,\n",
      "  [timezone] TEXT\n",
      ");\n",
      "CREATE INDEX ix_airports_index ON airports ([index]);\n",
      "CREATE TABLE airlines (\n",
      "[index] INTEGER,\n",
      "  [id] TEXT,\n",
      "  [name] TEXT,\n",
      "  [alias] TEXT,\n",
      "  [iata] TEXT,\n",
      "  [icao] TEXT,\n",
      "  [callsign] TEXT,\n",
      "  [country] TEXT,\n",
      "  [active] TEXT\n",
      ");\n",
      "CREATE INDEX ix_airlines_index ON airlines ([index]);\n",
      "CREATE TABLE routes (\n",
      "[index] INTEGER,\n",
      "  [airline] TEXT,\n",
      "  [airline_id] TEXT,\n",
      "  [source] TEXT,\n",
      "  [source_id] TEXT,\n",
      "  [dest] TEXT,\n",
      "  [dest_id] TEXT,\n",
      "  [codeshare] TEXT,\n",
      "  [stops] TEXT,\n",
      "  [equipment] TEXT\n",
      ");\n",
      "CREATE INDEX ix_routes_index ON routes ([index]);\n"
     ]
    }
   ],
   "source": [
    "%%bash\n",
    "sqlite3 data/flights.db\n",
    ".schema "
   ]
  },
  {
   "cell_type": "markdown",
   "metadata": {
    "slideshow": {
     "slide_type": "slide"
    }
   },
   "source": [
    "#### SELECT statement\n",
    "\n",
    "Let's explore the following clauses and structure:\n",
    "\n",
    "```sql\n",
    "SELECT columns ( * for all fields)\n",
    "FROM table\n",
    "WHERE condition\n",
    "ORDER BY columns\n",
    "LIMIT number (limits to first n entries of table)\n",
    "```"
   ]
  },
  {
   "cell_type": "markdown",
   "metadata": {
    "slideshow": {
     "slide_type": "slide"
    }
   },
   "source": [
    "Execute SQL command:"
   ]
  },
  {
   "cell_type": "code",
<<<<<<< HEAD
   "execution_count": 5,
=======
   "execution_count": 13,
>>>>>>> upstream/main
   "metadata": {
    "cell_style": "split",
    "slideshow": {
     "slide_type": "fragment"
    }
   },
   "outputs": [
    {
     "data": {
      "text/plain": [
       "<sqlite3.Cursor at 0x1b8537f3a40>"
      ]
     },
     "execution_count": 13,
     "metadata": {},
     "output_type": "execute_result"
    }
   ],
   "source": [
    "query = cursor_obj.execute(\"\"\"\n",
    "SELECT * \n",
    "FROM airports \n",
    "LIMIT 1\n",
    "\"\"\")\n",
    "\n",
    "query"
   ]
  },
  {
   "cell_type": "code",
<<<<<<< HEAD
   "execution_count": 6,
=======
   "execution_count": 12,
>>>>>>> upstream/main
   "metadata": {
    "cell_style": "split",
    "scrolled": true,
    "slideshow": {
     "slide_type": "fragment"
    }
   },
   "outputs": [
    {
     "data": {
      "text/plain": [
       "[(0,\n",
       "  '1',\n",
       "  'Goroka',\n",
       "  'Goroka',\n",
       "  'Papua New Guinea',\n",
       "  'GKA',\n",
       "  'AYGA',\n",
       "  '-6.081689',\n",
       "  '145.391881',\n",
       "  '5282',\n",
       "  '10',\n",
       "  'U',\n",
       "  'Pacific/Port_Moresby'),\n",
       " (1,\n",
       "  '2',\n",
       "  'Madang',\n",
       "  'Madang',\n",
       "  'Papua New Guinea',\n",
       "  'MAG',\n",
       "  'AYMD',\n",
       "  '-5.207083',\n",
       "  '145.7887',\n",
       "  '20',\n",
       "  '10',\n",
       "  'U',\n",
       "  'Pacific/Port_Moresby')]"
      ]
     },
<<<<<<< HEAD
     "execution_count": 6,
=======
     "execution_count": 12,
>>>>>>> upstream/main
     "metadata": {},
     "output_type": "execute_result"
    }
   ],
   "source": [
    "query.fetchall()"
   ]
  },
  {
   "cell_type": "markdown",
   "metadata": {
    "slideshow": {
     "slide_type": "slide"
    }
   },
   "source": [
    "**Exercise**\n",
    "\n",
    "Use the cursor object to execute and retrieve the results of the following query:\n",
    "\n",
    "Retrieve all fields for the first five entries of the airports table and store in a list of tuples."
   ]
  },
  {
   "cell_type": "code",
   "execution_count": 17,
   "metadata": {
    "cell_style": "split",
    "slideshow": {
     "slide_type": "subslide"
    }
   },
   "outputs": [],
   "source": [
    "# EXECUTE THAT QUERY\n",
    "\n",
    "query = cursor_obj.execute(\"\"\"\n",
    "SELECT * \n",
    "FROM airports \n",
    "LIMIT 5\n",
    "\"\"\")"
   ]
  },
  {
   "cell_type": "code",
   "execution_count": 18,
   "metadata": {
    "cell_style": "split",
    "slideshow": {
     "slide_type": "fragment"
    }
   },
   "outputs": [
    {
     "data": {
      "text/plain": [
       "5"
      ]
     },
     "execution_count": 18,
     "metadata": {},
     "output_type": "execute_result"
    }
   ],
   "source": [
    "# FETCH DEM RESULTS\n",
    "\n",
    "saved_q = query.fetchall()\n",
    "len(saved_q)"
   ]
  },
  {
   "cell_type": "markdown",
   "metadata": {
    "slideshow": {
     "slide_type": "slide"
    }
   },
   "source": [
    "- execute, fetchall protocol gets data in python list form.\n",
    "- can issue commands to create things in database.\n",
    "\n",
    "Now close the connection to the database when you are done."
   ]
  },
  {
   "cell_type": "code",
   "execution_count": 19,
   "metadata": {
    "slideshow": {
     "slide_type": "fragment"
    }
   },
   "outputs": [
    {
     "data": {
      "text/plain": [
<<<<<<< HEAD
       "<sqlite3.Connection at 0x7f94ec82ad50>"
=======
       "<sqlite3.Connection at 0x1b8537bed50>"
>>>>>>> upstream/main
      ]
     },
     "execution_count": 19,
     "metadata": {},
     "output_type": "execute_result"
    }
   ],
   "source": [
    "con.close()\n",
    "con"
   ]
  },
  {
   "cell_type": "markdown",
   "metadata": {
    "slideshow": {
     "slide_type": "slide"
    }
   },
   "source": [
    "When *just retrieving* tabular data:\n",
    "\n",
    "- Pandas has pd.read_sql(query, database_connection) command."
   ]
  },
  {
   "cell_type": "code",
   "execution_count": 20,
   "metadata": {
    "slideshow": {
     "slide_type": "slide"
    }
   },
   "outputs": [],
   "source": [
    "airports_query = \\\n",
    "\"\"\"\n",
    "SELECT *\n",
    "FROM airports\n",
    "\"\"\""
   ]
  },
  {
   "cell_type": "markdown",
   "metadata": {
    "slideshow": {
     "slide_type": "fragment"
    }
   },
   "source": [
    "Make sure you have a connection to the sql database open."
   ]
  },
  {
   "cell_type": "code",
   "execution_count": 21,
   "metadata": {
    "slideshow": {
     "slide_type": "fragment"
    }
   },
   "outputs": [],
   "source": [
    "con = sqlite3.connect('data/flights.db')"
   ]
  },
  {
   "cell_type": "code",
<<<<<<< HEAD
   "execution_count": 12,
=======
   "execution_count": 25,
>>>>>>> upstream/main
   "metadata": {
    "scrolled": true,
    "slideshow": {
     "slide_type": "-"
    }
   },
   "outputs": [
    {
     "name": "stdout",
     "output_type": "stream",
     "text": [
      "<class 'pandas.core.frame.DataFrame'>\n",
      "RangeIndex: 8107 entries, 0 to 8106\n",
      "Data columns (total 13 columns):\n",
      " #   Column     Non-Null Count  Dtype \n",
      "---  ------     --------------  ----- \n",
      " 0   index      8107 non-null   int64 \n",
      " 1   id         8107 non-null   object\n",
      " 2   name       8107 non-null   object\n",
      " 3   city       8107 non-null   object\n",
      " 4   country    8107 non-null   object\n",
      " 5   code       5880 non-null   object\n",
      " 6   icao       8043 non-null   object\n",
      " 7   latitude   8107 non-null   object\n",
      " 8   longitude  8107 non-null   object\n",
      " 9   altitude   8107 non-null   object\n",
      " 10  offset     8107 non-null   object\n",
      " 11  dst        8107 non-null   object\n",
      " 12  timezone   8107 non-null   object\n",
      "dtypes: int64(1), object(12)\n",
      "memory usage: 823.5+ KB\n"
     ]
    }
   ],
   "source": [
    "# requires reference to open database connection\n",
    "query_result_df = pd.read_sql(airports_query, con)\n",
    "query_result_df.info()\n"
   ]
  },
  {
   "cell_type": "markdown",
   "metadata": {
    "slideshow": {
     "slide_type": "slide"
    }
   },
   "source": [
    "Selecting particular columns:"
   ]
  },
  {
   "cell_type": "code",
   "execution_count": 16,
   "metadata": {
    "hidden": true,
    "slideshow": {
     "slide_type": "fragment"
    }
   },
   "outputs": [
    {
     "data": {
      "text/html": [
       "<div>\n",
       "<style scoped>\n",
       "    .dataframe tbody tr th:only-of-type {\n",
       "        vertical-align: middle;\n",
       "    }\n",
       "\n",
       "    .dataframe tbody tr th {\n",
       "        vertical-align: top;\n",
       "    }\n",
       "\n",
       "    .dataframe thead th {\n",
       "        text-align: right;\n",
       "    }\n",
       "</style>\n",
       "<table border=\"1\" class=\"dataframe\">\n",
       "  <thead>\n",
       "    <tr style=\"text-align: right;\">\n",
       "      <th></th>\n",
       "      <th>city</th>\n",
       "      <th>country</th>\n",
       "    </tr>\n",
       "  </thead>\n",
       "  <tbody>\n",
       "    <tr>\n",
       "      <th>0</th>\n",
       "      <td>Goroka</td>\n",
       "      <td>Papua New Guinea</td>\n",
       "    </tr>\n",
       "    <tr>\n",
       "      <th>1</th>\n",
       "      <td>Madang</td>\n",
       "      <td>Papua New Guinea</td>\n",
       "    </tr>\n",
       "    <tr>\n",
       "      <th>2</th>\n",
       "      <td>Mount Hagen</td>\n",
       "      <td>Papua New Guinea</td>\n",
       "    </tr>\n",
       "    <tr>\n",
       "      <th>3</th>\n",
       "      <td>Nadzab</td>\n",
       "      <td>Papua New Guinea</td>\n",
       "    </tr>\n",
       "    <tr>\n",
       "      <th>4</th>\n",
       "      <td>Port Moresby</td>\n",
       "      <td>Papua New Guinea</td>\n",
       "    </tr>\n",
       "  </tbody>\n",
       "</table>\n",
       "</div>"
      ],
      "text/plain": [
       "           city           country\n",
       "0        Goroka  Papua New Guinea\n",
       "1        Madang  Papua New Guinea\n",
       "2   Mount Hagen  Papua New Guinea\n",
       "3        Nadzab  Papua New Guinea\n",
       "4  Port Moresby  Papua New Guinea"
      ]
     },
     "execution_count": 16,
     "metadata": {},
     "output_type": "execute_result"
    }
   ],
   "source": [
    "query_result_df = pd.read_sql(\"\"\"\n",
    "\n",
    "SELECT city, country\n",
    "FROM airports\n",
    "\n",
    "\"\"\", con)\n",
    "\n",
    "query_result_df.head(5)"
   ]
  },
  {
   "cell_type": "markdown",
   "metadata": {
    "heading_collapsed": true,
    "hidden": true,
    "slideshow": {
     "slide_type": "slide"
    }
   },
   "source": [
    "#### DISTINCT\n",
    "- Select only unique results of query."
   ]
  },
  {
   "cell_type": "code",
<<<<<<< HEAD
   "execution_count": 19,
=======
   "execution_count": 27,
>>>>>>> upstream/main
   "metadata": {
    "hidden": true,
    "slideshow": {
     "slide_type": "fragment"
    }
   },
   "outputs": [
    {
     "data": {
      "text/html": [
       "<div>\n",
       "<style scoped>\n",
       "    .dataframe tbody tr th:only-of-type {\n",
       "        vertical-align: middle;\n",
       "    }\n",
       "\n",
       "    .dataframe tbody tr th {\n",
       "        vertical-align: top;\n",
       "    }\n",
       "\n",
       "    .dataframe thead th {\n",
       "        text-align: right;\n",
       "    }\n",
       "</style>\n",
       "<table border=\"1\" class=\"dataframe\">\n",
       "  <thead>\n",
       "    <tr style=\"text-align: right;\">\n",
       "      <th></th>\n",
       "      <th>country</th>\n",
       "    </tr>\n",
       "  </thead>\n",
       "  <tbody>\n",
       "    <tr>\n",
       "      <th>0</th>\n",
       "      <td>Papua New Guinea</td>\n",
       "    </tr>\n",
       "    <tr>\n",
       "      <th>1</th>\n",
       "      <td>Greenland</td>\n",
       "    </tr>\n",
       "    <tr>\n",
       "      <th>2</th>\n",
       "      <td>Iceland</td>\n",
       "    </tr>\n",
       "    <tr>\n",
       "      <th>3</th>\n",
       "      <td>Canada</td>\n",
       "    </tr>\n",
       "    <tr>\n",
       "      <th>4</th>\n",
       "      <td>Algeria</td>\n",
       "    </tr>\n",
       "    <tr>\n",
       "      <th>...</th>\n",
       "      <td>...</td>\n",
       "    </tr>\n",
       "    <tr>\n",
       "      <th>235</th>\n",
       "      <td>South Georgia and the Islands</td>\n",
       "    </tr>\n",
       "    <tr>\n",
       "      <th>236</th>\n",
       "      <td>Myanmar</td>\n",
       "    </tr>\n",
       "    <tr>\n",
       "      <th>237</th>\n",
       "      <td>Svalbard</td>\n",
       "    </tr>\n",
       "    <tr>\n",
       "      <th>238</th>\n",
       "      <td>North Korea</td>\n",
       "    </tr>\n",
       "    <tr>\n",
       "      <th>239</th>\n",
       "      <td>Wake Island</td>\n",
       "    </tr>\n",
       "  </tbody>\n",
       "</table>\n",
       "<p>240 rows × 1 columns</p>\n",
       "</div>"
      ],
      "text/plain": [
       "                           country\n",
       "0                 Papua New Guinea\n",
       "1                        Greenland\n",
       "2                          Iceland\n",
       "3                           Canada\n",
       "4                          Algeria\n",
       "..                             ...\n",
       "235  South Georgia and the Islands\n",
       "236                        Myanmar\n",
       "237                       Svalbard\n",
       "238                    North Korea\n",
       "239                    Wake Island\n",
       "\n",
       "[240 rows x 1 columns]"
      ]
     },
<<<<<<< HEAD
     "execution_count": 19,
=======
     "execution_count": 27,
>>>>>>> upstream/main
     "metadata": {},
     "output_type": "execute_result"
    }
   ],
   "source": [
    "query_result = pd.read_sql(\"\"\"\n",
    "\n",
    "SELECT DISTINCT country\n",
    "FROM airports\n",
    "\n",
    "\"\"\", con)\n",
    "\n",
    "query_result"
   ]
  },
  {
   "cell_type": "markdown",
   "metadata": {
    "slideshow": {
     "slide_type": "slide"
    }
   },
   "source": [
    "**Exercise**\n",
    "\n",
    "Get a list of the distinct cities in the database and store it as a pandas Series. What is the number of cities represented in this database? "
   ]
  },
  {
   "cell_type": "code",
<<<<<<< HEAD
   "execution_count": 20,
=======
   "execution_count": 28,
>>>>>>> upstream/main
   "metadata": {
    "slideshow": {
     "slide_type": "fragment"
    }
   },
   "outputs": [
    {
     "data": {
      "text/html": [
       "<div>\n",
       "<style scoped>\n",
       "    .dataframe tbody tr th:only-of-type {\n",
       "        vertical-align: middle;\n",
       "    }\n",
       "\n",
       "    .dataframe tbody tr th {\n",
       "        vertical-align: top;\n",
       "    }\n",
       "\n",
       "    .dataframe thead th {\n",
       "        text-align: right;\n",
       "    }\n",
       "</style>\n",
       "<table border=\"1\" class=\"dataframe\">\n",
       "  <thead>\n",
       "    <tr style=\"text-align: right;\">\n",
       "      <th></th>\n",
       "      <th>city</th>\n",
       "    </tr>\n",
       "  </thead>\n",
       "  <tbody>\n",
       "    <tr>\n",
       "      <th>0</th>\n",
       "      <td>Goroka</td>\n",
       "    </tr>\n",
       "    <tr>\n",
       "      <th>1</th>\n",
       "      <td>Madang</td>\n",
       "    </tr>\n",
       "    <tr>\n",
       "      <th>2</th>\n",
       "      <td>Mount Hagen</td>\n",
       "    </tr>\n",
       "    <tr>\n",
       "      <th>3</th>\n",
       "      <td>Nadzab</td>\n",
       "    </tr>\n",
       "    <tr>\n",
       "      <th>4</th>\n",
       "      <td>Port Moresby</td>\n",
       "    </tr>\n",
       "    <tr>\n",
       "      <th>...</th>\n",
       "      <td>...</td>\n",
       "    </tr>\n",
       "    <tr>\n",
       "      <th>6972</th>\n",
       "      <td>Pender Harbour</td>\n",
       "    </tr>\n",
       "    <tr>\n",
       "      <th>6973</th>\n",
       "      <td>Mansons Landing</td>\n",
       "    </tr>\n",
       "    <tr>\n",
       "      <th>6974</th>\n",
       "      <td>Port McNeill</td>\n",
       "    </tr>\n",
       "    <tr>\n",
       "      <th>6975</th>\n",
       "      <td>Sullivan Bay</td>\n",
       "    </tr>\n",
       "    <tr>\n",
       "      <th>6976</th>\n",
       "      <td>Deer Harbor</td>\n",
       "    </tr>\n",
       "  </tbody>\n",
       "</table>\n",
       "<p>6977 rows × 1 columns</p>\n",
       "</div>"
      ],
      "text/plain": [
       "                 city\n",
       "0              Goroka\n",
       "1              Madang\n",
       "2         Mount Hagen\n",
       "3              Nadzab\n",
       "4        Port Moresby\n",
       "...               ...\n",
       "6972   Pender Harbour\n",
       "6973  Mansons Landing\n",
       "6974     Port McNeill\n",
       "6975     Sullivan Bay\n",
       "6976      Deer Harbor\n",
       "\n",
       "[6977 rows x 1 columns]"
      ]
     },
<<<<<<< HEAD
     "execution_count": 20,
=======
     "execution_count": 28,
>>>>>>> upstream/main
     "metadata": {},
     "output_type": "execute_result"
    }
   ],
   "source": [
    "# Do it.\n",
    "query_result = pd.read_sql(\"\"\"\n",
    "SELECT DISTINCT city\n",
    "FROM airports\n",
    "\"\"\", con)\n",
    "   \n",
    "query_result"
   ]
  },
  {
   "cell_type": "code",
<<<<<<< HEAD
   "execution_count": 21,
=======
   "execution_count": 29,
>>>>>>> upstream/main
   "metadata": {},
   "outputs": [
    {
     "data": {
      "text/plain": [
       "6977"
      ]
     },
<<<<<<< HEAD
     "execution_count": 21,
=======
     "execution_count": 29,
>>>>>>> upstream/main
     "metadata": {},
     "output_type": "execute_result"
    }
   ],
   "source": [
    "len(query_result)"
   ]
  },
  {
   "cell_type": "code",
<<<<<<< HEAD
   "execution_count": 22,
=======
   "execution_count": 30,
>>>>>>> upstream/main
   "metadata": {},
   "outputs": [
    {
     "data": {
      "text/plain": [
       "(6977, 1)"
      ]
     },
<<<<<<< HEAD
     "execution_count": 22,
=======
     "execution_count": 30,
>>>>>>> upstream/main
     "metadata": {},
     "output_type": "execute_result"
    }
   ],
   "source": [
    "query_result.shape"
   ]
  },
  {
   "cell_type": "markdown",
   "metadata": {
    "slideshow": {
     "slide_type": "slide"
    }
   },
   "source": [
    "**Exercise**\n",
    "\n",
    "Get the cities for each airport in the database and store it as a pandas Series. \n",
    "\n",
    "Then get me the number of airports in each city and the number of unique cities. You can use Pandas functions for this.\n"
   ]
  },
  {
   "cell_type": "code",
   "execution_count": 23,
   "metadata": {
    "slideshow": {
     "slide_type": "fragment"
    }
   },
   "outputs": [
    {
     "data": {
      "text/plain": [
       "city\n",
       "London         21\n",
       "New York       13\n",
       "Hong Kong      12\n",
       "Paris          10\n",
       "Berlin         10\n",
       "               ..\n",
       "Hemavan         1\n",
       "Helsingborg     1\n",
       "Hellwege        1\n",
       "Hell-Bourg      1\n",
       "Žilina          1\n",
       "Name: name, Length: 6977, dtype: int64"
      ]
     },
     "execution_count": 23,
     "metadata": {},
     "output_type": "execute_result"
    }
   ],
   "source": [
    "cities = pd.read_sql(\"\"\"\n",
    "SELECT city, name\n",
    "FROM airports\n",
    "\n",
    "\"\"\", con)\n",
    "\n",
    "cities.groupby('city').count()['name'].sort_values(ascending = False)"
   ]
  },
  {
   "cell_type": "markdown",
   "metadata": {
    "slideshow": {
     "slide_type": "slide"
    }
   },
   "source": [
    "#### AS modifier\n",
    "\n",
    "`AS`: renaming a column in the query and returned result."
   ]
  },
  {
   "cell_type": "code",
   "execution_count": 31,
   "metadata": {
    "hidden": true,
    "scrolled": true,
    "slideshow": {
     "slide_type": "fragment"
    }
   },
   "outputs": [
    {
     "data": {
      "text/html": [
       "<div>\n",
       "<style scoped>\n",
       "    .dataframe tbody tr th:only-of-type {\n",
       "        vertical-align: middle;\n",
       "    }\n",
       "\n",
       "    .dataframe tbody tr th {\n",
       "        vertical-align: top;\n",
       "    }\n",
       "\n",
       "    .dataframe thead th {\n",
       "        text-align: right;\n",
       "    }\n",
       "</style>\n",
       "<table border=\"1\" class=\"dataframe\">\n",
       "  <thead>\n",
       "    <tr style=\"text-align: right;\">\n",
       "      <th></th>\n",
       "      <th>Airport_City</th>\n",
       "      <th>Airport_Country</th>\n",
       "    </tr>\n",
       "  </thead>\n",
       "  <tbody>\n",
       "    <tr>\n",
       "      <th>0</th>\n",
       "      <td>Goroka</td>\n",
       "      <td>Papua New Guinea</td>\n",
       "    </tr>\n",
       "    <tr>\n",
       "      <th>1</th>\n",
       "      <td>Madang</td>\n",
       "      <td>Papua New Guinea</td>\n",
       "    </tr>\n",
       "    <tr>\n",
       "      <th>2</th>\n",
       "      <td>Mount Hagen</td>\n",
       "      <td>Papua New Guinea</td>\n",
       "    </tr>\n",
       "    <tr>\n",
       "      <th>3</th>\n",
       "      <td>Nadzab</td>\n",
       "      <td>Papua New Guinea</td>\n",
       "    </tr>\n",
       "    <tr>\n",
       "      <th>4</th>\n",
       "      <td>Port Moresby</td>\n",
       "      <td>Papua New Guinea</td>\n",
       "    </tr>\n",
       "    <tr>\n",
       "      <th>...</th>\n",
       "      <td>...</td>\n",
       "      <td>...</td>\n",
       "    </tr>\n",
       "    <tr>\n",
       "      <th>8102</th>\n",
       "      <td>Mansons Landing</td>\n",
       "      <td>Canada</td>\n",
       "    </tr>\n",
       "    <tr>\n",
       "      <th>8103</th>\n",
       "      <td>Port McNeill</td>\n",
       "      <td>Canada</td>\n",
       "    </tr>\n",
       "    <tr>\n",
       "      <th>8104</th>\n",
       "      <td>Sullivan Bay</td>\n",
       "      <td>Canada</td>\n",
       "    </tr>\n",
       "    <tr>\n",
       "      <th>8105</th>\n",
       "      <td>Deer Harbor</td>\n",
       "      <td>United States</td>\n",
       "    </tr>\n",
       "    <tr>\n",
       "      <th>8106</th>\n",
       "      <td>San Diego</td>\n",
       "      <td>United States</td>\n",
       "    </tr>\n",
       "  </tbody>\n",
       "</table>\n",
       "<p>8107 rows × 2 columns</p>\n",
       "</div>"
      ],
      "text/plain": [
       "         Airport_City   Airport_Country\n",
       "0              Goroka  Papua New Guinea\n",
       "1              Madang  Papua New Guinea\n",
       "2         Mount Hagen  Papua New Guinea\n",
       "3              Nadzab  Papua New Guinea\n",
       "4        Port Moresby  Papua New Guinea\n",
       "...               ...               ...\n",
       "8102  Mansons Landing            Canada\n",
       "8103     Port McNeill            Canada\n",
       "8104     Sullivan Bay            Canada\n",
       "8105      Deer Harbor     United States\n",
       "8106        San Diego     United States\n",
       "\n",
       "[8107 rows x 2 columns]"
      ]
     },
     "execution_count": 31,
     "metadata": {},
     "output_type": "execute_result"
    }
   ],
   "source": [
    "sql_query = pd.read_sql(\"\"\"\n",
    "\n",
    "SELECT city AS \"Airport_City\", \n",
    "       country AS \"Airport_Country\"\n",
    "FROM airports\n",
    "\n",
    "\"\"\", con)\n",
    "\n",
    "sql_query"
   ]
  },
  {
   "cell_type": "markdown",
   "metadata": {
    "slideshow": {
     "slide_type": "subslide"
    }
   },
   "source": [
    "Some SQL dialects do not require the AS statement:"
   ]
  },
  {
   "cell_type": "code",
   "execution_count": 26,
   "metadata": {},
   "outputs": [
    {
     "data": {
      "text/html": [
       "<div>\n",
       "<style scoped>\n",
       "    .dataframe tbody tr th:only-of-type {\n",
       "        vertical-align: middle;\n",
       "    }\n",
       "\n",
       "    .dataframe tbody tr th {\n",
       "        vertical-align: top;\n",
       "    }\n",
       "\n",
       "    .dataframe thead th {\n",
       "        text-align: right;\n",
       "    }\n",
       "</style>\n",
       "<table border=\"1\" class=\"dataframe\">\n",
       "  <thead>\n",
       "    <tr style=\"text-align: right;\">\n",
       "      <th></th>\n",
       "      <th>Airport City</th>\n",
       "      <th>Airport Country</th>\n",
       "    </tr>\n",
       "  </thead>\n",
       "  <tbody>\n",
       "    <tr>\n",
       "      <th>0</th>\n",
       "      <td>Goroka</td>\n",
       "      <td>Papua New Guinea</td>\n",
       "    </tr>\n",
       "    <tr>\n",
       "      <th>1</th>\n",
       "      <td>Madang</td>\n",
       "      <td>Papua New Guinea</td>\n",
       "    </tr>\n",
       "    <tr>\n",
       "      <th>2</th>\n",
       "      <td>Mount Hagen</td>\n",
       "      <td>Papua New Guinea</td>\n",
       "    </tr>\n",
       "    <tr>\n",
       "      <th>3</th>\n",
       "      <td>Nadzab</td>\n",
       "      <td>Papua New Guinea</td>\n",
       "    </tr>\n",
       "    <tr>\n",
       "      <th>4</th>\n",
       "      <td>Port Moresby</td>\n",
       "      <td>Papua New Guinea</td>\n",
       "    </tr>\n",
       "  </tbody>\n",
       "</table>\n",
       "</div>"
      ],
      "text/plain": [
       "   Airport City   Airport Country\n",
       "0        Goroka  Papua New Guinea\n",
       "1        Madang  Papua New Guinea\n",
       "2   Mount Hagen  Papua New Guinea\n",
       "3        Nadzab  Papua New Guinea\n",
       "4  Port Moresby  Papua New Guinea"
      ]
     },
     "execution_count": 26,
     "metadata": {},
     "output_type": "execute_result"
    }
   ],
   "source": [
    "sql_query = pd.read_sql(\"\"\"\n",
    "\n",
    "SELECT city \"Airport City\", \n",
    "       country \"Airport Country\"\n",
    "FROM airports\n",
    "\n",
    "\"\"\", con)\n",
    "\n",
    "sql_query.head()"
   ]
  },
  {
   "cell_type": "markdown",
   "metadata": {
    "cell_style": "split",
    "hidden": true,
    "slideshow": {
     "slide_type": "slide"
    }
   },
   "source": [
    "#### Functions\n",
    "Can use predefined functions in SELECT statements:\n",
    "<br>\n",
    "<br>\n",
    "SELECT FUNCTION(columns)\n",
    "<br>\n",
    "FROM table\n",
    "\n",
    "Applies function to the each column and spits out new table."
   ]
  },
  {
   "cell_type": "markdown",
   "metadata": {
    "cell_style": "split",
    "slideshow": {
     "slide_type": "fragment"
    }
   },
   "source": [
    "Functions can be: \n",
    "- Transformations on columns:\n",
    "    - Convert each element in a string column to upper case.\n",
    "- Aggregation:\n",
    "    - statistic on each field in a table \n",
    "    - e.g. max, min, mean, sum, etc."
   ]
  },
  {
   "cell_type": "markdown",
   "metadata": {
    "slideshow": {
     "slide_type": "slide"
    }
   },
   "source": [
    "#### Transformation"
   ]
  },
  {
   "cell_type": "code",
   "execution_count": 28,
   "metadata": {
    "hidden": true,
    "scrolled": true,
    "slideshow": {
     "slide_type": "fragment"
    }
   },
   "outputs": [
    {
     "data": {
      "text/html": [
       "<div>\n",
       "<style scoped>\n",
       "    .dataframe tbody tr th:only-of-type {\n",
       "        vertical-align: middle;\n",
       "    }\n",
       "\n",
       "    .dataframe tbody tr th {\n",
       "        vertical-align: top;\n",
       "    }\n",
       "\n",
       "    .dataframe thead th {\n",
       "        text-align: right;\n",
       "    }\n",
       "</style>\n",
       "<table border=\"1\" class=\"dataframe\">\n",
       "  <thead>\n",
       "    <tr style=\"text-align: right;\">\n",
       "      <th></th>\n",
       "      <th>UPPER(name)</th>\n",
       "      <th>LENGTH(name)</th>\n",
       "    </tr>\n",
       "  </thead>\n",
       "  <tbody>\n",
       "    <tr>\n",
       "      <th>0</th>\n",
       "      <td>GOROKA</td>\n",
       "      <td>6</td>\n",
       "    </tr>\n",
       "    <tr>\n",
       "      <th>1</th>\n",
       "      <td>MADANG</td>\n",
       "      <td>6</td>\n",
       "    </tr>\n",
       "    <tr>\n",
       "      <th>2</th>\n",
       "      <td>MOUNT HAGEN</td>\n",
       "      <td>11</td>\n",
       "    </tr>\n",
       "    <tr>\n",
       "      <th>3</th>\n",
       "      <td>NADZAB</td>\n",
       "      <td>6</td>\n",
       "    </tr>\n",
       "    <tr>\n",
       "      <th>4</th>\n",
       "      <td>PORT MORESBY JACKSONS INTL</td>\n",
       "      <td>26</td>\n",
       "    </tr>\n",
       "    <tr>\n",
       "      <th>...</th>\n",
       "      <td>...</td>\n",
       "      <td>...</td>\n",
       "    </tr>\n",
       "    <tr>\n",
       "      <th>8102</th>\n",
       "      <td>MANSONS LANDING WATER AERODROME</td>\n",
       "      <td>31</td>\n",
       "    </tr>\n",
       "    <tr>\n",
       "      <th>8103</th>\n",
       "      <td>PORT MCNEILL AIRPORT</td>\n",
       "      <td>20</td>\n",
       "    </tr>\n",
       "    <tr>\n",
       "      <th>8104</th>\n",
       "      <td>SULLIVAN BAY WATER AERODROME</td>\n",
       "      <td>28</td>\n",
       "    </tr>\n",
       "    <tr>\n",
       "      <th>8105</th>\n",
       "      <td>DEER HARBOR SEAPLANE</td>\n",
       "      <td>20</td>\n",
       "    </tr>\n",
       "    <tr>\n",
       "      <th>8106</th>\n",
       "      <td>SAN DIEGO OLD TOWN TRANSIT CENTER</td>\n",
       "      <td>33</td>\n",
       "    </tr>\n",
       "  </tbody>\n",
       "</table>\n",
       "<p>8107 rows × 2 columns</p>\n",
       "</div>"
      ],
      "text/plain": [
       "                            UPPER(name)  LENGTH(name)\n",
       "0                                GOROKA             6\n",
       "1                                MADANG             6\n",
       "2                           MOUNT HAGEN            11\n",
       "3                                NADZAB             6\n",
       "4            PORT MORESBY JACKSONS INTL            26\n",
       "...                                 ...           ...\n",
       "8102    MANSONS LANDING WATER AERODROME            31\n",
       "8103               PORT MCNEILL AIRPORT            20\n",
       "8104       SULLIVAN BAY WATER AERODROME            28\n",
       "8105               DEER HARBOR SEAPLANE            20\n",
       "8106  SAN DIEGO OLD TOWN TRANSIT CENTER            33\n",
       "\n",
       "[8107 rows x 2 columns]"
      ]
     },
     "execution_count": 28,
     "metadata": {},
     "output_type": "execute_result"
    }
   ],
   "source": [
    "sql_query_df = pd.read_sql(\"\"\"\n",
    "\n",
    "SELECT UPPER(name),\n",
    "       LENGTH(name) \n",
    "       \n",
    "FROM airports\n",
    "\n",
    "\"\"\", con)\n",
    "\n",
    "sql_query_df"
   ]
  },
  {
   "cell_type": "markdown",
   "metadata": {
    "slideshow": {
     "slide_type": "fragment"
    }
   },
   "source": [
    "But thats a little ugly. What can we do to make this nicer?"
   ]
  },
  {
   "cell_type": "markdown",
   "metadata": {
    "slideshow": {
     "slide_type": "slide"
    }
   },
   "source": [
    "**Exercise**\n",
    "\n",
    "Perform the same query with these derived fields named in a better way."
   ]
  },
  {
   "cell_type": "code",
<<<<<<< HEAD
   "execution_count": 29,
=======
   "execution_count": 32,
>>>>>>> upstream/main
   "metadata": {
    "slideshow": {
     "slide_type": "fragment"
    }
   },
   "outputs": [
    {
     "data": {
      "text/html": [
       "<div>\n",
       "<style scoped>\n",
       "    .dataframe tbody tr th:only-of-type {\n",
       "        vertical-align: middle;\n",
       "    }\n",
       "\n",
       "    .dataframe tbody tr th {\n",
       "        vertical-align: top;\n",
       "    }\n",
       "\n",
       "    .dataframe thead th {\n",
       "        text-align: right;\n",
       "    }\n",
       "</style>\n",
       "<table border=\"1\" class=\"dataframe\">\n",
       "  <thead>\n",
       "    <tr style=\"text-align: right;\">\n",
       "      <th></th>\n",
       "      <th>Airport_Names</th>\n",
       "      <th>Airport_Names_Lengths</th>\n",
       "    </tr>\n",
       "  </thead>\n",
       "  <tbody>\n",
       "    <tr>\n",
       "      <th>0</th>\n",
       "      <td>GOROKA</td>\n",
       "      <td>6</td>\n",
       "    </tr>\n",
       "    <tr>\n",
       "      <th>1</th>\n",
       "      <td>MADANG</td>\n",
       "      <td>6</td>\n",
       "    </tr>\n",
       "    <tr>\n",
       "      <th>2</th>\n",
       "      <td>MOUNT HAGEN</td>\n",
       "      <td>11</td>\n",
       "    </tr>\n",
       "    <tr>\n",
       "      <th>3</th>\n",
       "      <td>NADZAB</td>\n",
       "      <td>6</td>\n",
       "    </tr>\n",
       "    <tr>\n",
       "      <th>4</th>\n",
       "      <td>PORT MORESBY JACKSONS INTL</td>\n",
       "      <td>26</td>\n",
       "    </tr>\n",
       "  </tbody>\n",
       "</table>\n",
       "</div>"
      ],
      "text/plain": [
       "                Airport_Names  Airport_Names_Lengths\n",
       "0                      GOROKA                      6\n",
       "1                      MADANG                      6\n",
       "2                 MOUNT HAGEN                     11\n",
       "3                      NADZAB                      6\n",
       "4  PORT MORESBY JACKSONS INTL                     26"
      ]
     },
<<<<<<< HEAD
     "execution_count": 29,
=======
     "execution_count": 32,
>>>>>>> upstream/main
     "metadata": {},
     "output_type": "execute_result"
    }
   ],
   "source": [
    "sql_query_df = pd.read_sql(\"\"\"\n",
    "\n",
    "SELECT UPPER (name) as Airport_Names, \n",
    "    LENGTH (name) as Airport_Names_Lengths\n",
    "    FROM airports\n",
    "\"\"\", con)\n",
    "\n",
    "sql_query_df.head()"
   ]
  },
  {
   "cell_type": "markdown",
   "metadata": {
    "heading_collapsed": true,
    "hidden": true,
    "slideshow": {
     "slide_type": "slide"
    }
   },
   "source": [
    "#### Aggregation\n",
    "- MAX()\n",
    "- MIN()\n",
    "- SUM()\n",
    "- AVG()\n",
    "- COUNT()"
   ]
  },
  {
   "cell_type": "markdown",
   "metadata": {
    "slideshow": {
     "slide_type": "subslide"
    }
   },
   "source": [
    "Get count of entries in table:"
   ]
  },
  {
   "cell_type": "code",
   "execution_count": 30,
   "metadata": {
    "slideshow": {
     "slide_type": "fragment"
    }
   },
   "outputs": [
    {
     "data": {
      "text/html": [
       "<div>\n",
       "<style scoped>\n",
       "    .dataframe tbody tr th:only-of-type {\n",
       "        vertical-align: middle;\n",
       "    }\n",
       "\n",
       "    .dataframe tbody tr th {\n",
       "        vertical-align: top;\n",
       "    }\n",
       "\n",
       "    .dataframe thead th {\n",
       "        text-align: right;\n",
       "    }\n",
       "</style>\n",
       "<table border=\"1\" class=\"dataframe\">\n",
       "  <thead>\n",
       "    <tr style=\"text-align: right;\">\n",
       "      <th></th>\n",
       "      <th>count</th>\n",
       "    </tr>\n",
       "  </thead>\n",
       "  <tbody>\n",
       "    <tr>\n",
       "      <th>0</th>\n",
       "      <td>8107</td>\n",
       "    </tr>\n",
       "  </tbody>\n",
       "</table>\n",
       "</div>"
      ],
      "text/plain": [
       "   count\n",
       "0   8107"
      ]
     },
     "execution_count": 30,
     "metadata": {},
     "output_type": "execute_result"
    }
   ],
   "source": [
    "sql_query_df = pd.read_sql(\"\"\"\n",
    "\n",
    "SELECT COUNT(*) AS count\n",
    "FROM airports\n",
    "\n",
    "\n",
    "\"\"\", con)\n",
    "\n",
    "sql_query_df"
   ]
  },
  {
   "cell_type": "markdown",
   "metadata": {
    "slideshow": {
     "slide_type": "slide"
    }
   },
   "source": [
    "Get count of non-missing entries in a given field:\n",
    "\n",
    "\n",
    "SELECT COUNT(field_name)\n",
    "FROM table"
   ]
  },
  {
   "cell_type": "code",
   "execution_count": 31,
   "metadata": {
    "slideshow": {
     "slide_type": "fragment"
    }
   },
   "outputs": [
    {
     "data": {
      "text/html": [
       "<div>\n",
       "<style scoped>\n",
       "    .dataframe tbody tr th:only-of-type {\n",
       "        vertical-align: middle;\n",
       "    }\n",
       "\n",
       "    .dataframe tbody tr th {\n",
       "        vertical-align: top;\n",
       "    }\n",
       "\n",
       "    .dataframe thead th {\n",
       "        text-align: right;\n",
       "    }\n",
       "</style>\n",
       "<table border=\"1\" class=\"dataframe\">\n",
       "  <thead>\n",
       "    <tr style=\"text-align: right;\">\n",
       "      <th></th>\n",
       "      <th>code_count</th>\n",
       "    </tr>\n",
       "  </thead>\n",
       "  <tbody>\n",
       "    <tr>\n",
       "      <th>0</th>\n",
       "      <td>5880</td>\n",
       "    </tr>\n",
       "  </tbody>\n",
       "</table>\n",
       "</div>"
      ],
      "text/plain": [
       "   code_count\n",
       "0        5880"
      ]
     },
     "execution_count": 31,
     "metadata": {},
     "output_type": "execute_result"
    }
   ],
   "source": [
    "sql_query_df = pd.read_sql(\"\"\"\n",
    "\n",
    "SELECT COUNT(code) as code_count\n",
    "FROM airports\n",
    "\n",
    "\n",
    "\"\"\", con)\n",
    "\n",
    "sql_query_df"
   ]
  },
  {
   "cell_type": "markdown",
   "metadata": {
    "slideshow": {
     "slide_type": "slide"
    }
   },
   "source": [
    "Distinct countries in country field of airports table:"
   ]
  },
  {
   "cell_type": "code",
   "execution_count": 32,
   "metadata": {
    "slideshow": {
     "slide_type": "fragment"
    }
   },
   "outputs": [
    {
     "data": {
      "text/html": [
       "<div>\n",
       "<style scoped>\n",
       "    .dataframe tbody tr th:only-of-type {\n",
       "        vertical-align: middle;\n",
       "    }\n",
       "\n",
       "    .dataframe tbody tr th {\n",
       "        vertical-align: top;\n",
       "    }\n",
       "\n",
       "    .dataframe thead th {\n",
       "        text-align: right;\n",
       "    }\n",
       "</style>\n",
       "<table border=\"1\" class=\"dataframe\">\n",
       "  <thead>\n",
       "    <tr style=\"text-align: right;\">\n",
       "      <th></th>\n",
       "      <th>city_count</th>\n",
       "    </tr>\n",
       "  </thead>\n",
       "  <tbody>\n",
       "    <tr>\n",
       "      <th>0</th>\n",
       "      <td>6977</td>\n",
       "    </tr>\n",
       "  </tbody>\n",
       "</table>\n",
       "</div>"
      ],
      "text/plain": [
       "   city_count\n",
       "0        6977"
      ]
     },
     "execution_count": 32,
     "metadata": {},
     "output_type": "execute_result"
    }
   ],
   "source": [
    "\n",
    "sql_query_df = pd.read_sql(\"\"\"\n",
    "\n",
    "SELECT COUNT(DISTINCT city) AS city_count\n",
    "FROM airports\n",
    "\n",
    "\n",
    "\"\"\", con)\n",
    "\n",
    "sql_query_df"
   ]
  },
  {
   "cell_type": "markdown",
   "metadata": {
    "slideshow": {
     "slide_type": "slide"
    }
   },
   "source": [
    "Let's take a look at our original table again."
   ]
  },
  {
   "cell_type": "code",
   "execution_count": 33,
   "metadata": {
    "cell_style": "center",
    "hidden": true,
    "slideshow": {
     "slide_type": "fragment"
    }
   },
   "outputs": [
    {
     "data": {
      "text/html": [
       "<div>\n",
       "<style scoped>\n",
       "    .dataframe tbody tr th:only-of-type {\n",
       "        vertical-align: middle;\n",
       "    }\n",
       "\n",
       "    .dataframe tbody tr th {\n",
       "        vertical-align: top;\n",
       "    }\n",
       "\n",
       "    .dataframe thead th {\n",
       "        text-align: right;\n",
       "    }\n",
       "</style>\n",
       "<table border=\"1\" class=\"dataframe\">\n",
       "  <thead>\n",
       "    <tr style=\"text-align: right;\">\n",
       "      <th></th>\n",
       "      <th>index</th>\n",
       "      <th>id</th>\n",
       "      <th>name</th>\n",
       "      <th>city</th>\n",
       "      <th>country</th>\n",
       "      <th>code</th>\n",
       "      <th>icao</th>\n",
       "      <th>latitude</th>\n",
       "      <th>longitude</th>\n",
       "      <th>altitude</th>\n",
       "      <th>offset</th>\n",
       "      <th>dst</th>\n",
       "      <th>timezone</th>\n",
       "    </tr>\n",
       "  </thead>\n",
       "  <tbody>\n",
       "    <tr>\n",
       "      <th>0</th>\n",
       "      <td>0</td>\n",
       "      <td>1</td>\n",
       "      <td>Goroka</td>\n",
       "      <td>Goroka</td>\n",
       "      <td>Papua New Guinea</td>\n",
       "      <td>GKA</td>\n",
       "      <td>AYGA</td>\n",
       "      <td>-6.081689</td>\n",
       "      <td>145.391881</td>\n",
       "      <td>5282</td>\n",
       "      <td>10</td>\n",
       "      <td>U</td>\n",
       "      <td>Pacific/Port_Moresby</td>\n",
       "    </tr>\n",
       "    <tr>\n",
       "      <th>1</th>\n",
       "      <td>1</td>\n",
       "      <td>2</td>\n",
       "      <td>Madang</td>\n",
       "      <td>Madang</td>\n",
       "      <td>Papua New Guinea</td>\n",
       "      <td>MAG</td>\n",
       "      <td>AYMD</td>\n",
       "      <td>-5.207083</td>\n",
       "      <td>145.7887</td>\n",
       "      <td>20</td>\n",
       "      <td>10</td>\n",
       "      <td>U</td>\n",
       "      <td>Pacific/Port_Moresby</td>\n",
       "    </tr>\n",
       "    <tr>\n",
       "      <th>2</th>\n",
       "      <td>2</td>\n",
       "      <td>3</td>\n",
       "      <td>Mount Hagen</td>\n",
       "      <td>Mount Hagen</td>\n",
       "      <td>Papua New Guinea</td>\n",
       "      <td>HGU</td>\n",
       "      <td>AYMH</td>\n",
       "      <td>-5.826789</td>\n",
       "      <td>144.295861</td>\n",
       "      <td>5388</td>\n",
       "      <td>10</td>\n",
       "      <td>U</td>\n",
       "      <td>Pacific/Port_Moresby</td>\n",
       "    </tr>\n",
       "    <tr>\n",
       "      <th>3</th>\n",
       "      <td>3</td>\n",
       "      <td>4</td>\n",
       "      <td>Nadzab</td>\n",
       "      <td>Nadzab</td>\n",
       "      <td>Papua New Guinea</td>\n",
       "      <td>LAE</td>\n",
       "      <td>AYNZ</td>\n",
       "      <td>-6.569828</td>\n",
       "      <td>146.726242</td>\n",
       "      <td>239</td>\n",
       "      <td>10</td>\n",
       "      <td>U</td>\n",
       "      <td>Pacific/Port_Moresby</td>\n",
       "    </tr>\n",
       "    <tr>\n",
       "      <th>4</th>\n",
       "      <td>4</td>\n",
       "      <td>5</td>\n",
       "      <td>Port Moresby Jacksons Intl</td>\n",
       "      <td>Port Moresby</td>\n",
       "      <td>Papua New Guinea</td>\n",
       "      <td>POM</td>\n",
       "      <td>AYPY</td>\n",
       "      <td>-9.443383</td>\n",
       "      <td>147.22005</td>\n",
       "      <td>146</td>\n",
       "      <td>10</td>\n",
       "      <td>U</td>\n",
       "      <td>Pacific/Port_Moresby</td>\n",
       "    </tr>\n",
       "  </tbody>\n",
       "</table>\n",
       "</div>"
      ],
      "text/plain": [
       "   index id                        name          city           country code  \\\n",
       "0      0  1                      Goroka        Goroka  Papua New Guinea  GKA   \n",
       "1      1  2                      Madang        Madang  Papua New Guinea  MAG   \n",
       "2      2  3                 Mount Hagen   Mount Hagen  Papua New Guinea  HGU   \n",
       "3      3  4                      Nadzab        Nadzab  Papua New Guinea  LAE   \n",
       "4      4  5  Port Moresby Jacksons Intl  Port Moresby  Papua New Guinea  POM   \n",
       "\n",
       "   icao   latitude   longitude altitude offset dst              timezone  \n",
       "0  AYGA  -6.081689  145.391881     5282     10   U  Pacific/Port_Moresby  \n",
       "1  AYMD  -5.207083    145.7887       20     10   U  Pacific/Port_Moresby  \n",
       "2  AYMH  -5.826789  144.295861     5388     10   U  Pacific/Port_Moresby  \n",
       "3  AYNZ  -6.569828  146.726242      239     10   U  Pacific/Port_Moresby  \n",
       "4  AYPY  -9.443383   147.22005      146     10   U  Pacific/Port_Moresby  "
      ]
     },
     "execution_count": 33,
     "metadata": {},
     "output_type": "execute_result"
    }
   ],
   "source": [
    "sql_query_df = pd.read_sql(\"\"\"\n",
    "\n",
    "SELECT * \n",
    "FROM airports\n",
    "LIMIT 5\n",
    "\n",
    "\"\"\", con)\n",
    "\n",
    "sql_query_df"
   ]
  },
  {
   "cell_type": "markdown",
   "metadata": {
    "slideshow": {
     "slide_type": "slide"
    }
   },
   "source": [
    "Get maximum altitude in dataset along with corresponding airport. "
   ]
  },
  {
   "cell_type": "code",
   "execution_count": 35,
   "metadata": {
    "hidden": true,
    "slideshow": {
     "slide_type": "fragment"
    }
   },
   "outputs": [
    {
     "data": {
      "text/html": [
       "<div>\n",
       "<style scoped>\n",
       "    .dataframe tbody tr th:only-of-type {\n",
       "        vertical-align: middle;\n",
       "    }\n",
       "\n",
       "    .dataframe tbody tr th {\n",
       "        vertical-align: top;\n",
       "    }\n",
       "\n",
       "    .dataframe thead th {\n",
       "        text-align: right;\n",
       "    }\n",
       "</style>\n",
       "<table border=\"1\" class=\"dataframe\">\n",
       "  <thead>\n",
       "    <tr style=\"text-align: right;\">\n",
       "      <th></th>\n",
       "      <th>Airport Name</th>\n",
       "      <th>Altitude (ft)</th>\n",
       "    </tr>\n",
       "  </thead>\n",
       "  <tbody>\n",
       "    <tr>\n",
       "      <th>0</th>\n",
       "      <td>Dauphin Barker</td>\n",
       "      <td>999</td>\n",
       "    </tr>\n",
       "  </tbody>\n",
       "</table>\n",
       "</div>"
      ],
      "text/plain": [
       "     Airport Name Altitude (ft)\n",
       "0  Dauphin Barker           999"
      ]
     },
     "execution_count": 35,
     "metadata": {},
     "output_type": "execute_result"
    }
   ],
   "source": [
    "sql_query_df = pd.read_sql(\"\"\"\n",
    "\n",
    "SELECT name AS \"Airport Name\", \n",
    "    MAX(altitude) AS \"Altitude (ft)\"      \n",
    "FROM airports\n",
    "\n",
    "\"\"\", con)\n",
    "\n",
    "sql_query_df"
   ]
  },
  {
   "cell_type": "markdown",
   "metadata": {
    "slideshow": {
     "slide_type": "fragment"
    }
   },
   "source": [
    "Something is wrong here. Make sure that your column is the right datatype for the function to avoid unexpected results."
   ]
  },
  {
   "cell_type": "markdown",
   "metadata": {
    "heading_collapsed": true,
    "hidden": true,
    "slideshow": {
     "slide_type": "slide"
    }
   },
   "source": [
    "#### `CAST()`\n",
    "\n",
    "- can enforce typing on a given field."
   ]
  },
  {
   "cell_type": "code",
<<<<<<< HEAD
   "execution_count": 36,
=======
   "execution_count": 37,
>>>>>>> upstream/main
   "metadata": {
    "hidden": true,
    "slideshow": {
     "slide_type": "fragment"
    }
   },
   "outputs": [
    {
     "data": {
      "text/html": [
       "<div>\n",
       "<style scoped>\n",
       "    .dataframe tbody tr th:only-of-type {\n",
       "        vertical-align: middle;\n",
       "    }\n",
       "\n",
       "    .dataframe tbody tr th {\n",
       "        vertical-align: top;\n",
       "    }\n",
       "\n",
       "    .dataframe thead th {\n",
       "        text-align: right;\n",
       "    }\n",
       "</style>\n",
       "<table border=\"1\" class=\"dataframe\">\n",
       "  <thead>\n",
       "    <tr style=\"text-align: right;\">\n",
       "      <th></th>\n",
       "      <th>Airport Name</th>\n",
       "      <th>Altitude (ft)</th>\n",
       "    </tr>\n",
       "  </thead>\n",
       "  <tbody>\n",
       "    <tr>\n",
       "      <th>0</th>\n",
       "      <td>Yading Daocheng</td>\n",
       "      <td>14472</td>\n",
       "    </tr>\n",
       "  </tbody>\n",
       "</table>\n",
       "</div>"
      ],
      "text/plain": [
       "      Airport Name  Altitude (ft)\n",
       "0  Yading Daocheng          14472"
      ]
     },
<<<<<<< HEAD
     "execution_count": 36,
=======
     "execution_count": 37,
>>>>>>> upstream/main
     "metadata": {},
     "output_type": "execute_result"
    }
   ],
   "source": [
    "sql_query_df = pd.read_sql(\"\"\"\n",
    "\n",
    "SELECT name AS \"Airport Name\", \n",
    "       MAX(CAST(Altitude as int)) AS \"Altitude (ft)\"\n",
    "       \n",
    "FROM airports\n",
    "\n",
    "\"\"\", con)\n",
    "\n",
    "sql_query_df"
   ]
  },
  {
   "cell_type": "markdown",
   "metadata": {
    "slideshow": {
     "slide_type": "slide"
    }
   },
   "source": [
    "Let's get the average altitude:"
   ]
  },
  {
   "cell_type": "code",
   "execution_count": 37,
   "metadata": {
    "cell_style": "center",
    "slideshow": {
     "slide_type": "fragment"
    }
   },
   "outputs": [
    {
     "data": {
      "text/html": [
       "<div>\n",
       "<style scoped>\n",
       "    .dataframe tbody tr th:only-of-type {\n",
       "        vertical-align: middle;\n",
       "    }\n",
       "\n",
       "    .dataframe tbody tr th {\n",
       "        vertical-align: top;\n",
       "    }\n",
       "\n",
       "    .dataframe thead th {\n",
       "        text-align: right;\n",
       "    }\n",
       "</style>\n",
       "<table border=\"1\" class=\"dataframe\">\n",
       "  <thead>\n",
       "    <tr style=\"text-align: right;\">\n",
       "      <th></th>\n",
       "      <th>Average Altitude (ft)</th>\n",
       "    </tr>\n",
       "  </thead>\n",
       "  <tbody>\n",
       "    <tr>\n",
       "      <th>0</th>\n",
       "      <td>933.449365</td>\n",
       "    </tr>\n",
       "  </tbody>\n",
       "</table>\n",
       "</div>"
      ],
      "text/plain": [
       "   Average Altitude (ft)\n",
       "0             933.449365"
      ]
     },
     "execution_count": 37,
     "metadata": {},
     "output_type": "execute_result"
    }
   ],
   "source": [
    "sql_query_df = pd.read_sql(\"\"\"\n",
    "\n",
    "SELECT \n",
    "AVG(CAST(altitude as int)) AS \"Average Altitude (ft)\"\n",
    "FROM airports\n",
    "\n",
    "\"\"\", con)\n",
    "\n",
    "sql_query_df"
   ]
  },
  {
   "cell_type": "markdown",
   "metadata": {
    "hidden": true,
    "slideshow": {
     "slide_type": "slide"
    }
   },
   "source": [
    "#### Exercise\n",
    "\n",
    "Which country has the northern-most airport? Get me the country, airport and altitude.\n",
    "\n",
    "*Hint*: Look for the highest latitude."
   ]
  },
  {
   "cell_type": "code",
   "execution_count": 38,
   "metadata": {
    "hidden": true,
    "slideshow": {
     "slide_type": "-"
    }
   },
   "outputs": [
    {
     "data": {
      "text/html": [
       "<div>\n",
       "<style scoped>\n",
       "    .dataframe tbody tr th:only-of-type {\n",
       "        vertical-align: middle;\n",
       "    }\n",
       "\n",
       "    .dataframe tbody tr th {\n",
       "        vertical-align: top;\n",
       "    }\n",
       "\n",
       "    .dataframe thead th {\n",
       "        text-align: right;\n",
       "    }\n",
       "</style>\n",
       "<table border=\"1\" class=\"dataframe\">\n",
       "  <thead>\n",
       "    <tr style=\"text-align: right;\">\n",
       "      <th></th>\n",
       "      <th>latitude</th>\n",
       "      <th>name</th>\n",
       "      <th>country</th>\n",
       "      <th>altitude</th>\n",
       "    </tr>\n",
       "  </thead>\n",
       "  <tbody>\n",
       "    <tr>\n",
       "      <th>0</th>\n",
       "      <td>82.517778</td>\n",
       "      <td>Alert</td>\n",
       "      <td>Canada</td>\n",
       "      <td>100</td>\n",
       "    </tr>\n",
       "  </tbody>\n",
       "</table>\n",
       "</div>"
      ],
      "text/plain": [
       "    latitude   name country altitude\n",
       "0  82.517778  Alert  Canada      100"
      ]
     },
     "execution_count": 38,
     "metadata": {},
     "output_type": "execute_result"
    }
   ],
   "source": [
    "# Help me do this!\n",
    "\n",
    "pd.read_sql(\"\"\"\n",
    "\n",
    "SELECT MAX(cast(latitude AS float)) AS latitude, name, country, altitude \n",
    "FROM airports\n",
    "\n",
    "\n",
    "\"\"\", con)"
   ]
  },
  {
   "cell_type": "markdown",
   "metadata": {
    "slideshow": {
     "slide_type": "slide"
    }
   },
   "source": [
    "So far:\n",
    "- Selecting fields (columns) and computing functions of them.\n",
    "\n",
    "Want to: \n",
    "- Select records (rows) matching particular criteria."
   ]
  },
  {
   "cell_type": "markdown",
   "metadata": {
    "cell_style": "split",
    "heading_collapsed": true,
    "hidden": true,
    "slideshow": {
     "slide_type": "subslide"
    }
   },
   "source": [
    "#### WHERE: Selecting rows via filtering\n",
    "\n",
    "SELECT columns\n",
    "<br>\n",
    "FROM table\n",
    "<br>\n",
    "WHERE filter_column meets condition"
   ]
  },
  {
   "cell_type": "markdown",
   "metadata": {
    "cell_style": "split",
    "slideshow": {
     "slide_type": "fragment"
    }
   },
   "source": [
    "WHERE statement occurs after main SELECT and FROM clause."
   ]
  },
  {
   "cell_type": "markdown",
   "metadata": {
    "cell_style": "center",
    "slideshow": {
     "slide_type": "subslide"
    }
   },
   "source": [
    "#### Filtering by comparison: WHERE statement\n",
    "\n",
    "Commonly filter by how column compares to a value.\n",
    "\n",
    "SELECT column1, column2 \n",
    "FROM table\n",
    "WHERE column2 > number\n",
    "\n",
    "| Operator | Meaning | \n",
    "| --- | --- |\n",
    "| \\= | equal |\n",
    "| \\<> | not equal |\n",
    "| \\<  |  less than |\n",
    "| \\> | greater than |\n",
    "| \\<=  | less than or equal to |\n",
    "| \\>= | greater than or equal to |\n"
   ]
  },
  {
   "cell_type": "code",
   "execution_count": 41,
   "metadata": {
    "hidden": true,
    "slideshow": {
     "slide_type": "subslide"
    }
   },
   "outputs": [
    {
     "data": {
      "text/html": [
       "<div>\n",
       "<style scoped>\n",
       "    .dataframe tbody tr th:only-of-type {\n",
       "        vertical-align: middle;\n",
       "    }\n",
       "\n",
       "    .dataframe tbody tr th {\n",
       "        vertical-align: top;\n",
       "    }\n",
       "\n",
       "    .dataframe thead th {\n",
       "        text-align: right;\n",
       "    }\n",
       "</style>\n",
       "<table border=\"1\" class=\"dataframe\">\n",
       "  <thead>\n",
       "    <tr style=\"text-align: right;\">\n",
       "      <th></th>\n",
       "      <th>Airport Name</th>\n",
       "      <th>Airport Latitude</th>\n",
       "      <th>Altitude_ft</th>\n",
       "    </tr>\n",
       "  </thead>\n",
       "  <tbody>\n",
       "    <tr>\n",
       "      <th>0</th>\n",
       "      <td>El Alto Intl</td>\n",
       "      <td>-16.513339</td>\n",
<<<<<<< HEAD
       "      <td>13325.0</td>\n",
=======
       "      <td>13325</td>\n",
>>>>>>> upstream/main
       "    </tr>\n",
       "    <tr>\n",
       "      <th>1</th>\n",
       "      <td>Capitan Nicolas Rojas</td>\n",
       "      <td>-19.543069</td>\n",
<<<<<<< HEAD
       "      <td>12913.0</td>\n",
=======
       "      <td>12913</td>\n",
>>>>>>> upstream/main
       "    </tr>\n",
       "    <tr>\n",
       "      <th>2</th>\n",
       "      <td>Juliaca</td>\n",
       "      <td>-15.467103</td>\n",
<<<<<<< HEAD
       "      <td>12552.0</td>\n",
=======
       "      <td>12552</td>\n",
>>>>>>> upstream/main
       "    </tr>\n",
       "    <tr>\n",
       "      <th>3</th>\n",
       "      <td>Lhasa-Gonggar</td>\n",
       "      <td>29.297778</td>\n",
<<<<<<< HEAD
       "      <td>13136.0</td>\n",
=======
       "      <td>13136</td>\n",
>>>>>>> upstream/main
       "    </tr>\n",
       "    <tr>\n",
       "      <th>4</th>\n",
       "      <td>Qamdo Bangda Airport</td>\n",
       "      <td>30.553600</td>\n",
<<<<<<< HEAD
       "      <td>14219.0</td>\n",
=======
       "      <td>14219</td>\n",
>>>>>>> upstream/main
       "    </tr>\n",
       "    <tr>\n",
       "      <th>5</th>\n",
       "      <td>Irkutsk-2</td>\n",
       "      <td>52.367800</td>\n",
<<<<<<< HEAD
       "      <td>13411.0</td>\n",
=======
       "      <td>13411</td>\n",
>>>>>>> upstream/main
       "    </tr>\n",
       "    <tr>\n",
       "      <th>6</th>\n",
       "      <td>Yushu Batang</td>\n",
       "      <td>32.825000</td>\n",
<<<<<<< HEAD
       "      <td>13000.0</td>\n",
=======
       "      <td>13000</td>\n",
>>>>>>> upstream/main
       "    </tr>\n",
       "    <tr>\n",
       "      <th>7</th>\n",
       "      <td>Gunsa</td>\n",
       "      <td>32.100270</td>\n",
<<<<<<< HEAD
       "      <td>13780.0</td>\n",
=======
       "      <td>13780</td>\n",
>>>>>>> upstream/main
       "    </tr>\n",
       "    <tr>\n",
       "      <th>8</th>\n",
       "      <td>Kangding Airport</td>\n",
       "      <td>30.157500</td>\n",
<<<<<<< HEAD
       "      <td>14042.0</td>\n",
=======
       "      <td>14042</td>\n",
>>>>>>> upstream/main
       "    </tr>\n",
       "    <tr>\n",
       "      <th>9</th>\n",
       "      <td>Copacabana Airport</td>\n",
       "      <td>-16.183326</td>\n",
<<<<<<< HEAD
       "      <td>12591.0</td>\n",
=======
       "      <td>12591</td>\n",
>>>>>>> upstream/main
       "    </tr>\n",
       "    <tr>\n",
       "      <th>10</th>\n",
       "      <td>Yading Daocheng</td>\n",
       "      <td>29.323100</td>\n",
<<<<<<< HEAD
       "      <td>14472.0</td>\n",
=======
       "      <td>14472</td>\n",
>>>>>>> upstream/main
       "    </tr>\n",
       "  </tbody>\n",
       "</table>\n",
       "</div>"
      ],
      "text/plain": [
       "             Airport Name  Airport Latitude  Altitude_ft\n",
<<<<<<< HEAD
       "0            El Alto Intl        -16.513339      13325.0\n",
       "1   Capitan Nicolas Rojas        -19.543069      12913.0\n",
       "2                 Juliaca        -15.467103      12552.0\n",
       "3           Lhasa-Gonggar         29.297778      13136.0\n",
       "4    Qamdo Bangda Airport         30.553600      14219.0\n",
       "5               Irkutsk-2         52.367800      13411.0\n",
       "6            Yushu Batang         32.825000      13000.0\n",
       "7                   Gunsa         32.100270      13780.0\n",
       "8        Kangding Airport         30.157500      14042.0\n",
       "9      Copacabana Airport        -16.183326      12591.0\n",
       "10        Yading Daocheng         29.323100      14472.0"
=======
       "0            El Alto Intl        -16.513339        13325\n",
       "1   Capitan Nicolas Rojas        -19.543069        12913\n",
       "2                 Juliaca        -15.467103        12552\n",
       "3           Lhasa-Gonggar         29.297778        13136\n",
       "4    Qamdo Bangda Airport         30.553600        14219\n",
       "5               Irkutsk-2         52.367800        13411\n",
       "6            Yushu Batang         32.825000        13000\n",
       "7                   Gunsa         32.100270        13780\n",
       "8        Kangding Airport         30.157500        14042\n",
       "9      Copacabana Airport        -16.183326        12591\n",
       "10        Yading Daocheng         29.323100        14472"
>>>>>>> upstream/main
      ]
     },
     "execution_count": 41,
     "metadata": {},
     "output_type": "execute_result"
    }
   ],
   "source": [
    "sql_query_df = pd.read_sql(\"\"\"\n",
    "\n",
    "SELECT name AS \"Airport Name\", \n",
    "       CAST(latitude AS float) AS \"Airport Latitude\",\n",
<<<<<<< HEAD
    "       CAST(altitude AS float) AS Altitude_ft\n",
=======
    "       CAST(altitude AS int) AS Altitude_ft\n",
>>>>>>> upstream/main
    "       \n",
    "FROM airports\n",
    "\n",
    "WHERE Altitude_ft > 12500\n",
    "\n",
    "\"\"\", con)\n",
    "\n",
    "sql_query_df"
   ]
  },
  {
   "cell_type": "markdown",
   "metadata": {
    "slideshow": {
     "slide_type": "slide"
    }
   },
   "source": [
    "**Exercise**\n",
    "\n",
    "Get a airport, their name, city and country for which the airport's altitude is less than sea level."
   ]
  },
  {
   "cell_type": "code",
<<<<<<< HEAD
   "execution_count": 43,
=======
   "execution_count": 42,
>>>>>>> upstream/main
   "metadata": {
    "slideshow": {
     "slide_type": "fragment"
    }
   },
   "outputs": [
    {
     "data": {
      "text/html": [
       "<div>\n",
       "<style scoped>\n",
       "    .dataframe tbody tr th:only-of-type {\n",
       "        vertical-align: middle;\n",
       "    }\n",
       "\n",
       "    .dataframe tbody tr th {\n",
       "        vertical-align: top;\n",
       "    }\n",
       "\n",
       "    .dataframe thead th {\n",
       "        text-align: right;\n",
       "    }\n",
       "</style>\n",
       "<table border=\"1\" class=\"dataframe\">\n",
       "  <thead>\n",
       "    <tr style=\"text-align: right;\">\n",
       "      <th></th>\n",
       "      <th>Airport Name</th>\n",
       "      <th>city</th>\n",
       "      <th>country</th>\n",
       "    </tr>\n",
       "  </thead>\n",
       "  <tbody>\n",
       "    <tr>\n",
       "      <th>0</th>\n",
       "      <td>Schiphol</td>\n",
       "      <td>Amsterdam</td>\n",
       "      <td>Netherlands</td>\n",
       "    </tr>\n",
       "    <tr>\n",
       "      <th>1</th>\n",
       "      <td>Lelystad</td>\n",
       "      <td>Lelystad</td>\n",
       "      <td>Netherlands</td>\n",
       "    </tr>\n",
       "    <tr>\n",
       "      <th>2</th>\n",
       "      <td>Rotterdam</td>\n",
       "      <td>Rotterdam</td>\n",
       "      <td>Netherlands</td>\n",
       "    </tr>\n",
       "    <tr>\n",
       "      <th>3</th>\n",
       "      <td>Alexandria Intl</td>\n",
       "      <td>Alexandria</td>\n",
       "      <td>Egypt</td>\n",
       "    </tr>\n",
       "    <tr>\n",
       "      <th>4</th>\n",
       "      <td>En Yahav</td>\n",
       "      <td>Eyn-yahav</td>\n",
       "      <td>Israel</td>\n",
       "    </tr>\n",
       "    <tr>\n",
       "      <th>5</th>\n",
       "      <td>I Bar Yehuda</td>\n",
       "      <td>Metzada</td>\n",
       "      <td>Israel</td>\n",
       "    </tr>\n",
       "    <tr>\n",
       "      <th>6</th>\n",
       "      <td>Rasht</td>\n",
       "      <td>Rasht</td>\n",
       "      <td>Iran</td>\n",
       "    </tr>\n",
       "    <tr>\n",
       "      <th>7</th>\n",
       "      <td>Ramsar</td>\n",
       "      <td>Ramsar</td>\n",
       "      <td>Iran</td>\n",
       "    </tr>\n",
       "    <tr>\n",
       "      <th>8</th>\n",
       "      <td>Astrakhan</td>\n",
       "      <td>Astrakhan</td>\n",
       "      <td>Russia</td>\n",
       "    </tr>\n",
       "    <tr>\n",
       "      <th>9</th>\n",
       "      <td>Imperial Co</td>\n",
       "      <td>Imperial</td>\n",
       "      <td>United States</td>\n",
       "    </tr>\n",
       "    <tr>\n",
       "      <th>10</th>\n",
       "      <td>El Centro Naf</td>\n",
       "      <td>El Centro</td>\n",
       "      <td>United States</td>\n",
       "    </tr>\n",
       "    <tr>\n",
       "      <th>11</th>\n",
       "      <td>Noshahr Airport</td>\n",
       "      <td>Noshahr</td>\n",
       "      <td>Iran</td>\n",
       "    </tr>\n",
       "    <tr>\n",
       "      <th>12</th>\n",
       "      <td>Gorgan Airport</td>\n",
       "      <td>Gorgan</td>\n",
       "      <td>Iran</td>\n",
       "    </tr>\n",
       "  </tbody>\n",
       "</table>\n",
       "</div>"
      ],
      "text/plain": [
       "       Airport Name        city        country\n",
       "0          Schiphol   Amsterdam    Netherlands\n",
       "1          Lelystad    Lelystad    Netherlands\n",
       "2         Rotterdam   Rotterdam    Netherlands\n",
       "3   Alexandria Intl  Alexandria          Egypt\n",
       "4          En Yahav   Eyn-yahav         Israel\n",
       "5      I Bar Yehuda     Metzada         Israel\n",
       "6             Rasht       Rasht           Iran\n",
       "7            Ramsar      Ramsar           Iran\n",
       "8         Astrakhan   Astrakhan         Russia\n",
       "9       Imperial Co    Imperial  United States\n",
       "10    El Centro Naf   El Centro  United States\n",
       "11  Noshahr Airport     Noshahr           Iran\n",
       "12   Gorgan Airport      Gorgan           Iran"
      ]
     },
<<<<<<< HEAD
     "execution_count": 43,
=======
     "execution_count": 42,
>>>>>>> upstream/main
     "metadata": {},
     "output_type": "execute_result"
    }
   ],
   "source": [
    "sql_query_df = pd.read_sql(\"\"\"\n",
    "\n",
    "SELECT name AS 'Airport Name', city, country\n",
    "from airports\n",
    "\n",
    "WHERE CAST(altitude as int) < 0\n",
    "\n",
    "\"\"\", con)\n",
    "\n",
    "sql_query_df"
   ]
  },
  {
   "cell_type": "markdown",
   "metadata": {
    "slideshow": {
     "slide_type": "slide"
    }
   },
   "source": [
    "#### NOT operator\n",
    "- Before condition in `WHERE` clause.\n",
    "- Negates condition."
   ]
  },
  {
   "cell_type": "code",
<<<<<<< HEAD
   "execution_count": 44,
=======
   "execution_count": 43,
>>>>>>> upstream/main
   "metadata": {
    "scrolled": true,
    "slideshow": {
     "slide_type": "subslide"
    }
   },
   "outputs": [
    {
     "data": {
      "text/html": [
       "<div>\n",
       "<style scoped>\n",
       "    .dataframe tbody tr th:only-of-type {\n",
       "        vertical-align: middle;\n",
       "    }\n",
       "\n",
       "    .dataframe tbody tr th {\n",
       "        vertical-align: top;\n",
       "    }\n",
       "\n",
       "    .dataframe thead th {\n",
       "        text-align: right;\n",
       "    }\n",
       "</style>\n",
       "<table border=\"1\" class=\"dataframe\">\n",
       "  <thead>\n",
       "    <tr style=\"text-align: right;\">\n",
       "      <th></th>\n",
       "      <th>Airport Name</th>\n",
       "      <th>Airport Latitude</th>\n",
       "      <th>Altitude (ft)</th>\n",
       "    </tr>\n",
       "  </thead>\n",
       "  <tbody>\n",
       "    <tr>\n",
       "      <th>0</th>\n",
       "      <td>El Alto Intl</td>\n",
       "      <td>-16</td>\n",
       "      <td>13325</td>\n",
       "    </tr>\n",
       "    <tr>\n",
       "      <th>1</th>\n",
       "      <td>Capitan Nicolas Rojas</td>\n",
       "      <td>-19</td>\n",
       "      <td>12913</td>\n",
       "    </tr>\n",
       "    <tr>\n",
       "      <th>2</th>\n",
       "      <td>Juliaca</td>\n",
       "      <td>-15</td>\n",
       "      <td>12552</td>\n",
       "    </tr>\n",
       "    <tr>\n",
       "      <th>3</th>\n",
       "      <td>Lhasa-Gonggar</td>\n",
       "      <td>29</td>\n",
       "      <td>13136</td>\n",
       "    </tr>\n",
       "    <tr>\n",
       "      <th>4</th>\n",
       "      <td>Qamdo Bangda Airport</td>\n",
       "      <td>30</td>\n",
       "      <td>14219</td>\n",
       "    </tr>\n",
       "    <tr>\n",
       "      <th>5</th>\n",
       "      <td>Irkutsk-2</td>\n",
       "      <td>52</td>\n",
       "      <td>13411</td>\n",
       "    </tr>\n",
       "    <tr>\n",
       "      <th>6</th>\n",
       "      <td>Yushu Batang</td>\n",
       "      <td>32</td>\n",
       "      <td>13000</td>\n",
       "    </tr>\n",
       "    <tr>\n",
       "      <th>7</th>\n",
       "      <td>Gunsa</td>\n",
       "      <td>32</td>\n",
       "      <td>13780</td>\n",
       "    </tr>\n",
       "    <tr>\n",
       "      <th>8</th>\n",
       "      <td>Kangding Airport</td>\n",
       "      <td>30</td>\n",
       "      <td>14042</td>\n",
       "    </tr>\n",
       "    <tr>\n",
       "      <th>9</th>\n",
       "      <td>Copacabana Airport</td>\n",
       "      <td>-16</td>\n",
       "      <td>12591</td>\n",
       "    </tr>\n",
       "    <tr>\n",
       "      <th>10</th>\n",
       "      <td>Yading Daocheng</td>\n",
       "      <td>29</td>\n",
       "      <td>14472</td>\n",
       "    </tr>\n",
       "  </tbody>\n",
       "</table>\n",
       "</div>"
      ],
      "text/plain": [
       "             Airport Name  Airport Latitude  Altitude (ft)\n",
       "0            El Alto Intl               -16          13325\n",
       "1   Capitan Nicolas Rojas               -19          12913\n",
       "2                 Juliaca               -15          12552\n",
       "3           Lhasa-Gonggar                29          13136\n",
       "4    Qamdo Bangda Airport                30          14219\n",
       "5               Irkutsk-2                52          13411\n",
       "6            Yushu Batang                32          13000\n",
       "7                   Gunsa                32          13780\n",
       "8        Kangding Airport                30          14042\n",
       "9      Copacabana Airport               -16          12591\n",
       "10        Yading Daocheng                29          14472"
      ]
     },
<<<<<<< HEAD
     "execution_count": 44,
=======
     "execution_count": 43,
>>>>>>> upstream/main
     "metadata": {},
     "output_type": "execute_result"
    }
   ],
   "source": [
    "sql_query_df = pd.read_sql(\"\"\"\n",
    "\n",
    "SELECT name AS \"Airport Name\", \n",
    "       CAST(latitude AS int) AS \"Airport Latitude\",\n",
    "       CAST(altitude AS int) AS \"Altitude (ft)\"\n",
    "       \n",
    "FROM airports\n",
    "\n",
    "WHERE NOT \"Altitude (ft)\" <= 12500\n",
    "\n",
    "\"\"\", con)\n",
    "\n",
    "sql_query_df"
   ]
  },
  {
   "cell_type": "markdown",
   "metadata": {
    "slideshow": {
     "slide_type": "slide"
    }
   },
   "source": [
    "#### Chaining conditionals for filtering\n",
    "- AND\n",
    "- OR\n"
   ]
  },
  {
   "cell_type": "markdown",
   "metadata": {
    "slideshow": {
     "slide_type": "subslide"
    }
   },
   "source": [
    "#### AND\n",
    "Get all airports with:\n",
    "- Altitude > 12500 ft.\n",
    "- Latitude > 30 degrees"
   ]
  },
  {
   "cell_type": "code",
<<<<<<< HEAD
   "execution_count": 46,
=======
   "execution_count": 44,
>>>>>>> upstream/main
   "metadata": {
    "slideshow": {
     "slide_type": "subslide"
    }
   },
   "outputs": [
    {
     "data": {
      "text/html": [
       "<div>\n",
       "<style scoped>\n",
       "    .dataframe tbody tr th:only-of-type {\n",
       "        vertical-align: middle;\n",
       "    }\n",
       "\n",
       "    .dataframe tbody tr th {\n",
       "        vertical-align: top;\n",
       "    }\n",
       "\n",
       "    .dataframe thead th {\n",
       "        text-align: right;\n",
       "    }\n",
       "</style>\n",
       "<table border=\"1\" class=\"dataframe\">\n",
       "  <thead>\n",
       "    <tr style=\"text-align: right;\">\n",
       "      <th></th>\n",
       "      <th>Airport Name</th>\n",
       "      <th>Airport Latitude</th>\n",
       "      <th>Altitude (ft)</th>\n",
       "    </tr>\n",
       "  </thead>\n",
       "  <tbody>\n",
       "    <tr>\n",
       "      <th>0</th>\n",
       "      <td>Qamdo Bangda Airport</td>\n",
       "      <td>30.55360</td>\n",
       "      <td>14219</td>\n",
       "    </tr>\n",
       "    <tr>\n",
       "      <th>1</th>\n",
       "      <td>Irkutsk-2</td>\n",
       "      <td>52.36780</td>\n",
       "      <td>13411</td>\n",
       "    </tr>\n",
       "    <tr>\n",
       "      <th>2</th>\n",
       "      <td>Yushu Batang</td>\n",
       "      <td>32.82500</td>\n",
       "      <td>13000</td>\n",
       "    </tr>\n",
       "    <tr>\n",
       "      <th>3</th>\n",
       "      <td>Gunsa</td>\n",
       "      <td>32.10027</td>\n",
       "      <td>13780</td>\n",
       "    </tr>\n",
       "    <tr>\n",
       "      <th>4</th>\n",
       "      <td>Kangding Airport</td>\n",
       "      <td>30.15750</td>\n",
       "      <td>14042</td>\n",
       "    </tr>\n",
       "  </tbody>\n",
       "</table>\n",
       "</div>"
      ],
      "text/plain": [
       "           Airport Name  Airport Latitude  Altitude (ft)\n",
       "0  Qamdo Bangda Airport          30.55360          14219\n",
       "1             Irkutsk-2          52.36780          13411\n",
       "2          Yushu Batang          32.82500          13000\n",
       "3                 Gunsa          32.10027          13780\n",
       "4      Kangding Airport          30.15750          14042"
      ]
     },
<<<<<<< HEAD
     "execution_count": 46,
=======
     "execution_count": 44,
>>>>>>> upstream/main
     "metadata": {},
     "output_type": "execute_result"
    }
   ],
   "source": [
    "sql_query_df = pd.read_sql(\"\"\"\n",
    "\n",
    "SELECT name AS \"Airport Name\", \n",
    "       CAST(latitude AS float) AS \"Airport Latitude\",\n",
    "       CAST(altitude AS int) AS \"Altitude (ft)\"\n",
    "       \n",
    "FROM airports\n",
    "\n",
    "WHERE Altitude (ft)\" > 12500 \n",
    "AND \n",
    "\"Airport Latitude\" > 30\n",
    "\n",
    "\"\"\", con)\n",
    "\n",
    "sql_query_df"
   ]
  },
  {
   "cell_type": "markdown",
   "metadata": {
    "slideshow": {
     "slide_type": "slide"
    }
   },
   "source": [
    "#### OR\n",
    "Get all airports and their latitude/longitude in Iceland and Denmark."
   ]
  },
  {
   "cell_type": "code",
   "execution_count": 47,
   "metadata": {
    "slideshow": {
     "slide_type": "subslide"
    }
   },
   "outputs": [
    {
     "data": {
      "text/html": [
       "<div>\n",
       "<style scoped>\n",
       "    .dataframe tbody tr th:only-of-type {\n",
       "        vertical-align: middle;\n",
       "    }\n",
       "\n",
       "    .dataframe tbody tr th {\n",
       "        vertical-align: top;\n",
       "    }\n",
       "\n",
       "    .dataframe thead th {\n",
       "        text-align: right;\n",
       "    }\n",
       "</style>\n",
       "<table border=\"1\" class=\"dataframe\">\n",
       "  <thead>\n",
       "    <tr style=\"text-align: right;\">\n",
       "      <th></th>\n",
       "      <th>Airport Name</th>\n",
       "      <th>country</th>\n",
       "      <th>Latitude</th>\n",
       "      <th>Longitude</th>\n",
       "    </tr>\n",
       "  </thead>\n",
       "  <tbody>\n",
       "    <tr>\n",
       "      <th>0</th>\n",
       "      <td>Akureyri</td>\n",
       "      <td>Iceland</td>\n",
       "      <td>65</td>\n",
       "      <td>-18</td>\n",
       "    </tr>\n",
       "    <tr>\n",
       "      <th>1</th>\n",
       "      <td>Egilsstadir</td>\n",
       "      <td>Iceland</td>\n",
       "      <td>65</td>\n",
       "      <td>-14</td>\n",
       "    </tr>\n",
       "    <tr>\n",
       "      <th>2</th>\n",
       "      <td>Hornafjordur</td>\n",
       "      <td>Iceland</td>\n",
       "      <td>64</td>\n",
       "      <td>-15</td>\n",
       "    </tr>\n",
       "    <tr>\n",
       "      <th>3</th>\n",
       "      <td>Husavik</td>\n",
       "      <td>Iceland</td>\n",
       "      <td>65</td>\n",
       "      <td>-17</td>\n",
       "    </tr>\n",
       "    <tr>\n",
       "      <th>4</th>\n",
       "      <td>Isafjordur</td>\n",
       "      <td>Iceland</td>\n",
       "      <td>66</td>\n",
       "      <td>-23</td>\n",
       "    </tr>\n",
       "    <tr>\n",
       "      <th>5</th>\n",
       "      <td>Keflavik International Airport</td>\n",
       "      <td>Iceland</td>\n",
       "      <td>63</td>\n",
       "      <td>-22</td>\n",
       "    </tr>\n",
       "    <tr>\n",
       "      <th>6</th>\n",
       "      <td>Patreksfjordur</td>\n",
       "      <td>Iceland</td>\n",
       "      <td>65</td>\n",
       "      <td>-23</td>\n",
       "    </tr>\n",
       "    <tr>\n",
       "      <th>7</th>\n",
       "      <td>Reykjavik</td>\n",
       "      <td>Iceland</td>\n",
       "      <td>64</td>\n",
       "      <td>-21</td>\n",
       "    </tr>\n",
       "    <tr>\n",
       "      <th>8</th>\n",
       "      <td>Siglufjordur</td>\n",
       "      <td>Iceland</td>\n",
       "      <td>66</td>\n",
       "      <td>-18</td>\n",
       "    </tr>\n",
       "    <tr>\n",
       "      <th>9</th>\n",
       "      <td>Vestmannaeyjar</td>\n",
       "      <td>Iceland</td>\n",
       "      <td>63</td>\n",
       "      <td>-20</td>\n",
       "    </tr>\n",
       "    <tr>\n",
       "      <th>10</th>\n",
       "      <td>Aarhus</td>\n",
       "      <td>Denmark</td>\n",
       "      <td>56</td>\n",
       "      <td>10</td>\n",
       "    </tr>\n",
       "    <tr>\n",
       "      <th>11</th>\n",
       "      <td>Billund</td>\n",
       "      <td>Denmark</td>\n",
       "      <td>55</td>\n",
       "      <td>9</td>\n",
       "    </tr>\n",
       "  </tbody>\n",
       "</table>\n",
       "</div>"
      ],
      "text/plain": [
       "                      Airport Name  country  Latitude  Longitude\n",
       "0                         Akureyri  Iceland        65        -18\n",
       "1                      Egilsstadir  Iceland        65        -14\n",
       "2                     Hornafjordur  Iceland        64        -15\n",
       "3                          Husavik  Iceland        65        -17\n",
       "4                       Isafjordur  Iceland        66        -23\n",
       "5   Keflavik International Airport  Iceland        63        -22\n",
       "6                   Patreksfjordur  Iceland        65        -23\n",
       "7                        Reykjavik  Iceland        64        -21\n",
       "8                     Siglufjordur  Iceland        66        -18\n",
       "9                   Vestmannaeyjar  Iceland        63        -20\n",
       "10                          Aarhus  Denmark        56         10\n",
       "11                         Billund  Denmark        55          9"
      ]
     },
     "execution_count": 47,
     "metadata": {},
     "output_type": "execute_result"
    }
   ],
   "source": [
    "sql_query_df = pd.read_sql(\"\"\"\n",
    "\n",
    "SELECT name AS \"Airport Name\", \n",
    "        country,\n",
    "       CAST(latitude AS int) AS \"Latitude\",\n",
    "       CAST(longitude AS int) AS \"Longitude\"\n",
    "       \n",
    "FROM airports\n",
    "\n",
    "WHERE (country = \"Iceland\") OR (country = \"Denmark\")\n",
    "\n",
    "\"\"\", con)\n",
    "\n",
    "sql_query_df.head(12)"
   ]
  },
  {
   "cell_type": "markdown",
   "metadata": {
    "slideshow": {
     "slide_type": "slide"
    }
   },
   "source": [
    "#### Exercise\n",
    "\n",
    "Get the name, lat/long, and altitude for the airport with the maximum altitude considering only airports in Chile and Argentina."
   ]
  },
  {
   "cell_type": "code",
<<<<<<< HEAD
   "execution_count": 50,
=======
   "execution_count": 45,
>>>>>>> upstream/main
   "metadata": {},
   "outputs": [
    {
     "data": {
      "text/html": [
       "<div>\n",
       "<style scoped>\n",
       "    .dataframe tbody tr th:only-of-type {\n",
       "        vertical-align: middle;\n",
       "    }\n",
       "\n",
       "    .dataframe tbody tr th {\n",
       "        vertical-align: top;\n",
       "    }\n",
       "\n",
       "    .dataframe thead th {\n",
       "        text-align: right;\n",
       "    }\n",
       "</style>\n",
       "<table border=\"1\" class=\"dataframe\">\n",
       "  <thead>\n",
       "    <tr style=\"text-align: right;\">\n",
       "      <th></th>\n",
       "      <th>name</th>\n",
       "      <th>latitude</th>\n",
       "      <th>longitude</th>\n",
       "      <th>altitude</th>\n",
       "    </tr>\n",
       "  </thead>\n",
       "  <tbody>\n",
       "    <tr>\n",
       "      <th>0</th>\n",
       "      <td>La Quiaca</td>\n",
       "      <td>-22.150556</td>\n",
       "      <td>-65.5775</td>\n",
       "      <td>11414</td>\n",
       "    </tr>\n",
       "  </tbody>\n",
       "</table>\n",
       "</div>"
      ],
      "text/plain": [
       "        name    latitude longitude  altitude\n",
       "0  La Quiaca  -22.150556  -65.5775     11414"
      ]
     },
<<<<<<< HEAD
     "execution_count": 50,
=======
     "execution_count": 45,
>>>>>>> upstream/main
     "metadata": {},
     "output_type": "execute_result"
    }
   ],
   "source": [
    "# You can do it!\n",
    "\n",
    "sql_query_df = pd.read_sql(\"\"\"\n",
    "\n",
<<<<<<< HEAD
    "SELECT name, latitude, longitude, MAX(CAST(altitude as int)) AS altitude\n",
=======
    "SELECT name, \n",
    "latitude, \n",
    "longitude, \n",
    "MAX(CAST(altitude as int)) AS altit\n",
    "\n",
>>>>>>> upstream/main
    "FROM airports\n",
    "WHERE country = 'Chile' OR country = 'Argentina'\n",
    "\n",
    "\"\"\", con)\n",
    "\n",
    "sql_query_df"
   ]
  },
  {
   "cell_type": "markdown",
   "metadata": {
    "slideshow": {
     "slide_type": "slide"
    }
   },
   "source": [
    "#### BETWEEN\n",
    "\n",
    "- Writing multiple inequalities for selecting ranges with `WHERE` statement: annoying.\n",
    "\n",
    "- BETWEEN ... AND ... solves this problem.\n"
   ]
  },
  {
   "cell_type": "code",
   "execution_count": 51,
   "metadata": {
    "slideshow": {
     "slide_type": "subslide"
    }
   },
   "outputs": [
    {
     "data": {
      "text/html": [
       "<div>\n",
       "<style scoped>\n",
       "    .dataframe tbody tr th:only-of-type {\n",
       "        vertical-align: middle;\n",
       "    }\n",
       "\n",
       "    .dataframe tbody tr th {\n",
       "        vertical-align: top;\n",
       "    }\n",
       "\n",
       "    .dataframe thead th {\n",
       "        text-align: right;\n",
       "    }\n",
       "</style>\n",
       "<table border=\"1\" class=\"dataframe\">\n",
       "  <thead>\n",
       "    <tr style=\"text-align: right;\">\n",
       "      <th></th>\n",
       "      <th>Airport Name</th>\n",
       "      <th>country</th>\n",
       "      <th>Latitude</th>\n",
       "      <th>Longitude</th>\n",
       "    </tr>\n",
       "  </thead>\n",
       "  <tbody>\n",
       "    <tr>\n",
       "      <th>0</th>\n",
       "      <td>Winnipeg St Andrews</td>\n",
       "      <td>Canada</td>\n",
       "      <td>50.056389</td>\n",
       "      <td>-97.032500</td>\n",
       "    </tr>\n",
       "    <tr>\n",
       "      <th>1</th>\n",
       "      <td>Tofino</td>\n",
       "      <td>Canada</td>\n",
       "      <td>49.082222</td>\n",
       "      <td>-125.772500</td>\n",
       "    </tr>\n",
       "    <tr>\n",
       "      <th>2</th>\n",
       "      <td>Baie Comeau</td>\n",
       "      <td>Canada</td>\n",
       "      <td>49.132500</td>\n",
       "      <td>-68.204444</td>\n",
       "    </tr>\n",
       "    <tr>\n",
       "      <th>3</th>\n",
       "      <td>Bagotville</td>\n",
       "      <td>Canada</td>\n",
       "      <td>48.330555</td>\n",
       "      <td>-70.996391</td>\n",
       "    </tr>\n",
       "    <tr>\n",
       "      <th>4</th>\n",
       "      <td>Campbell River</td>\n",
       "      <td>Canada</td>\n",
       "      <td>49.950832</td>\n",
       "      <td>-125.270833</td>\n",
       "    </tr>\n",
       "    <tr>\n",
       "      <th>...</th>\n",
       "      <td>...</td>\n",
       "      <td>...</td>\n",
       "      <td>...</td>\n",
       "      <td>...</td>\n",
       "    </tr>\n",
       "    <tr>\n",
       "      <th>562</th>\n",
       "      <td>Pender Harbour Water Aerodrome</td>\n",
       "      <td>Canada</td>\n",
       "      <td>49.616667</td>\n",
       "      <td>-124.016667</td>\n",
       "    </tr>\n",
       "    <tr>\n",
       "      <th>563</th>\n",
       "      <td>Mansons Landing Water Aerodrome</td>\n",
       "      <td>Canada</td>\n",
       "      <td>50.066667</td>\n",
       "      <td>-124.983333</td>\n",
       "    </tr>\n",
       "    <tr>\n",
       "      <th>564</th>\n",
       "      <td>Port McNeill Airport</td>\n",
       "      <td>Canada</td>\n",
       "      <td>50.575556</td>\n",
       "      <td>-127.028611</td>\n",
       "    </tr>\n",
       "    <tr>\n",
       "      <th>565</th>\n",
       "      <td>Sullivan Bay Water Aerodrome</td>\n",
       "      <td>Canada</td>\n",
       "      <td>50.883333</td>\n",
       "      <td>-126.833333</td>\n",
       "    </tr>\n",
       "    <tr>\n",
       "      <th>566</th>\n",
       "      <td>Deer Harbor Seaplane</td>\n",
       "      <td>United States</td>\n",
       "      <td>48.618397</td>\n",
       "      <td>-123.005960</td>\n",
       "    </tr>\n",
       "  </tbody>\n",
       "</table>\n",
       "<p>567 rows × 4 columns</p>\n",
       "</div>"
      ],
      "text/plain": [
       "                        Airport Name        country   Latitude   Longitude\n",
       "0                Winnipeg St Andrews         Canada  50.056389  -97.032500\n",
       "1                             Tofino         Canada  49.082222 -125.772500\n",
       "2                        Baie Comeau         Canada  49.132500  -68.204444\n",
       "3                         Bagotville         Canada  48.330555  -70.996391\n",
       "4                     Campbell River         Canada  49.950832 -125.270833\n",
       "..                               ...            ...        ...         ...\n",
       "562   Pender Harbour Water Aerodrome         Canada  49.616667 -124.016667\n",
       "563  Mansons Landing Water Aerodrome         Canada  50.066667 -124.983333\n",
       "564             Port McNeill Airport         Canada  50.575556 -127.028611\n",
       "565     Sullivan Bay Water Aerodrome         Canada  50.883333 -126.833333\n",
       "566             Deer Harbor Seaplane  United States  48.618397 -123.005960\n",
       "\n",
       "[567 rows x 4 columns]"
      ]
     },
     "execution_count": 51,
     "metadata": {},
     "output_type": "execute_result"
    }
   ],
   "source": [
    "sql_query_df = pd.read_sql(\"\"\"\n",
    "\n",
    "SELECT name AS \"Airport Name\", \n",
    "        country,\n",
    "       CAST(latitude AS float) AS \"Latitude\",\n",
    "       CAST(longitude AS float) AS \"Longitude\"\n",
    "       \n",
    "FROM airports\n",
    "\n",
    "WHERE Latitude BETWEEN 48 AND 51\n",
    "\"\"\", con)\n",
    "\n",
    "sql_query_df"
   ]
  },
  {
   "cell_type": "markdown",
   "metadata": {
    "slideshow": {
     "slide_type": "slide"
    }
   },
   "source": [
    "#### Exercise\n",
    "\n",
    "Get the name, lat/long, and altitude for the airports with altitude between 0 and 2000 ft considering only airports in Chile and Argentina."
   ]
  },
  {
   "cell_type": "code",
   "execution_count": 55,
   "metadata": {},
   "outputs": [
    {
     "data": {
      "text/html": [
       "<div>\n",
       "<style scoped>\n",
       "    .dataframe tbody tr th:only-of-type {\n",
       "        vertical-align: middle;\n",
       "    }\n",
       "\n",
       "    .dataframe tbody tr th {\n",
       "        vertical-align: top;\n",
       "    }\n",
       "\n",
       "    .dataframe thead th {\n",
       "        text-align: right;\n",
       "    }\n",
       "</style>\n",
       "<table border=\"1\" class=\"dataframe\">\n",
       "  <thead>\n",
       "    <tr style=\"text-align: right;\">\n",
       "      <th></th>\n",
       "      <th>name</th>\n",
       "      <th>latitude</th>\n",
       "      <th>longitude</th>\n",
       "      <th>altit</th>\n",
       "    </tr>\n",
       "  </thead>\n",
       "  <tbody>\n",
       "    <tr>\n",
       "      <th>0</th>\n",
       "      <td>Chos Malal</td>\n",
       "      <td>-37.444692</td>\n",
       "      <td>-70.222469</td>\n",
       "      <td>2788</td>\n",
       "    </tr>\n",
       "    <tr>\n",
       "      <th>1</th>\n",
       "      <td>El Plumerillo</td>\n",
       "      <td>-32.831717</td>\n",
       "      <td>-68.792856</td>\n",
       "      <td>2310</td>\n",
       "    </tr>\n",
       "    <tr>\n",
       "      <th>2</th>\n",
       "      <td>Malargue</td>\n",
       "      <td>-35.493597</td>\n",
       "      <td>-69.574267</td>\n",
       "      <td>4683</td>\n",
       "    </tr>\n",
       "    <tr>\n",
       "      <th>3</th>\n",
       "      <td>San Rafael</td>\n",
       "      <td>-34.588314</td>\n",
       "      <td>-68.403854</td>\n",
       "      <td>2470</td>\n",
       "    </tr>\n",
       "    <tr>\n",
       "      <th>4</th>\n",
       "      <td>Tinogasta</td>\n",
       "      <td>-28.03775</td>\n",
       "      <td>-67.580314</td>\n",
       "      <td>3968</td>\n",
       "    </tr>\n",
       "    <tr>\n",
       "      <th>5</th>\n",
       "      <td>Chilecito</td>\n",
       "      <td>-29.223888</td>\n",
       "      <td>-67.438889</td>\n",
       "      <td>3099</td>\n",
       "    </tr>\n",
       "    <tr>\n",
       "      <th>6</th>\n",
       "      <td>San Luis</td>\n",
       "      <td>-33.273192</td>\n",
       "      <td>-66.356422</td>\n",
       "      <td>2329</td>\n",
       "    </tr>\n",
       "    <tr>\n",
       "      <th>7</th>\n",
       "      <td>Salta</td>\n",
       "      <td>-24.855978</td>\n",
       "      <td>-65.486169</td>\n",
       "      <td>4088</td>\n",
       "    </tr>\n",
       "    <tr>\n",
       "      <th>8</th>\n",
       "      <td>Jujuy</td>\n",
       "      <td>-24.392778</td>\n",
       "      <td>-65.097778</td>\n",
       "      <td>3019</td>\n",
       "    </tr>\n",
       "    <tr>\n",
       "      <th>9</th>\n",
       "      <td>La Quiaca</td>\n",
       "      <td>-22.150556</td>\n",
       "      <td>-65.5775</td>\n",
       "      <td>11414</td>\n",
       "    </tr>\n",
       "    <tr>\n",
       "      <th>10</th>\n",
       "      <td>Esquel</td>\n",
       "      <td>-42.90795</td>\n",
       "      <td>-71.139472</td>\n",
       "      <td>2621</td>\n",
       "    </tr>\n",
       "    <tr>\n",
       "      <th>11</th>\n",
       "      <td>San Carlos De Bariloche</td>\n",
       "      <td>-41.151172</td>\n",
       "      <td>-71.157542</td>\n",
       "      <td>2776</td>\n",
       "    </tr>\n",
       "    <tr>\n",
       "      <th>12</th>\n",
       "      <td>Cutralco</td>\n",
       "      <td>-38.939683</td>\n",
       "      <td>-69.264642</td>\n",
       "      <td>2133</td>\n",
       "    </tr>\n",
       "    <tr>\n",
       "      <th>13</th>\n",
       "      <td>Aviador C Campos</td>\n",
       "      <td>-40.075383</td>\n",
       "      <td>-71.137294</td>\n",
       "      <td>2569</td>\n",
       "    </tr>\n",
       "    <tr>\n",
       "      <th>14</th>\n",
       "      <td>El Loa</td>\n",
       "      <td>-22.498175</td>\n",
       "      <td>-68.903575</td>\n",
       "      <td>7543</td>\n",
       "    </tr>\n",
       "    <tr>\n",
       "      <th>15</th>\n",
       "      <td>Eulogio Sanchez</td>\n",
       "      <td>-33.456278</td>\n",
       "      <td>-70.546667</td>\n",
       "      <td>2129</td>\n",
       "    </tr>\n",
       "    <tr>\n",
       "      <th>16</th>\n",
       "      <td>Ricardo García Posada Airport</td>\n",
       "      <td>-26.3111</td>\n",
       "      <td>-69.7652</td>\n",
       "      <td>5240</td>\n",
       "    </tr>\n",
       "    <tr>\n",
       "      <th>17</th>\n",
       "      <td>ZAPALA</td>\n",
       "      <td>-38.9755</td>\n",
       "      <td>-70.113581</td>\n",
       "      <td>3330</td>\n",
       "    </tr>\n",
       "    <tr>\n",
       "      <th>18</th>\n",
       "      <td>Ingeniero Jacobacci</td>\n",
       "      <td>-41.3</td>\n",
       "      <td>-69.5833</td>\n",
       "      <td>2936</td>\n",
       "    </tr>\n",
       "    <tr>\n",
       "      <th>19</th>\n",
       "      <td>Alto Rio Senguer Airport</td>\n",
       "      <td>-45.016667</td>\n",
       "      <td>-70.816667</td>\n",
       "      <td>2145</td>\n",
       "    </tr>\n",
       "    <tr>\n",
       "      <th>20</th>\n",
       "      <td>Jose de San Martin Airport</td>\n",
       "      <td>-44.016667</td>\n",
       "      <td>-70.466667</td>\n",
       "      <td>4359</td>\n",
       "    </tr>\n",
       "    <tr>\n",
       "      <th>21</th>\n",
       "      <td>Gilberto Lavaque</td>\n",
       "      <td>-26.06245</td>\n",
       "      <td>-65.932095</td>\n",
       "      <td>5523</td>\n",
       "    </tr>\n",
       "    <tr>\n",
       "      <th>22</th>\n",
       "      <td>San Pedro de Atacama Airport</td>\n",
       "      <td>-22.918888</td>\n",
       "      <td>-68.162777</td>\n",
       "      <td>7959</td>\n",
       "    </tr>\n",
       "  </tbody>\n",
       "</table>\n",
       "</div>"
      ],
      "text/plain": [
       "                             name    latitude   longitude  altit\n",
       "0                      Chos Malal  -37.444692  -70.222469   2788\n",
       "1                   El Plumerillo  -32.831717  -68.792856   2310\n",
       "2                        Malargue  -35.493597  -69.574267   4683\n",
       "3                      San Rafael  -34.588314  -68.403854   2470\n",
       "4                       Tinogasta   -28.03775  -67.580314   3968\n",
       "5                       Chilecito  -29.223888  -67.438889   3099\n",
       "6                        San Luis  -33.273192  -66.356422   2329\n",
       "7                           Salta  -24.855978  -65.486169   4088\n",
       "8                           Jujuy  -24.392778  -65.097778   3019\n",
       "9                       La Quiaca  -22.150556    -65.5775  11414\n",
       "10                         Esquel   -42.90795  -71.139472   2621\n",
       "11        San Carlos De Bariloche  -41.151172  -71.157542   2776\n",
       "12                       Cutralco  -38.939683  -69.264642   2133\n",
       "13               Aviador C Campos  -40.075383  -71.137294   2569\n",
       "14                         El Loa  -22.498175  -68.903575   7543\n",
       "15                Eulogio Sanchez  -33.456278  -70.546667   2129\n",
       "16  Ricardo García Posada Airport    -26.3111    -69.7652   5240\n",
       "17                         ZAPALA    -38.9755  -70.113581   3330\n",
       "18            Ingeniero Jacobacci       -41.3    -69.5833   2936\n",
       "19       Alto Rio Senguer Airport  -45.016667  -70.816667   2145\n",
       "20     Jose de San Martin Airport  -44.016667  -70.466667   4359\n",
       "21               Gilberto Lavaque   -26.06245  -65.932095   5523\n",
       "22   San Pedro de Atacama Airport  -22.918888  -68.162777   7959"
      ]
     },
     "execution_count": 55,
     "metadata": {},
     "output_type": "execute_result"
    }
   ],
   "source": [
    "# Yet another time for one of you to reveal your brilliance.\n",
    "\n",
    "sql_query_df = pd.read_sql(\"\"\"\n",
    "\n",
    "SELECT name, latitude, longitude, CAST(altitude as int) as altit\n",
    "FROM airports\n",
    "WHERE (country = 'Chile' OR country ='Argentina') AND altit NOT BETWEEN 0 AND 2000\n",
    "\n",
    "\"\"\", con)\n",
    "\n",
    "sql_query_df\n"
   ]
  },
  {
   "cell_type": "markdown",
   "metadata": {
    "slideshow": {
     "slide_type": "slide"
    }
   },
   "source": [
    "#### IN / NOT IN\n",
    "\n",
    "- Get all records with a given field taking on a set of values.\n",
    "\n",
    "SELECT col1, col2 <br> \n",
    "FROM table <br>\n",
    "WHERE col1 IN (col_value1, col_value2, ...) <br>\n",
    "- E.g.,\n",
    "\n",
    "    Get name, latitude, longitude for airports in Brazil, Argentina, Chile, and Uruguay "
   ]
  },
  {
   "cell_type": "code",
<<<<<<< HEAD
   "execution_count": 57,
=======
   "execution_count": 48,
>>>>>>> upstream/main
   "metadata": {
    "scrolled": true,
    "slideshow": {
     "slide_type": "subslide"
    }
   },
   "outputs": [
    {
     "data": {
      "text/html": [
       "<div>\n",
       "<style scoped>\n",
       "    .dataframe tbody tr th:only-of-type {\n",
       "        vertical-align: middle;\n",
       "    }\n",
       "\n",
       "    .dataframe tbody tr th {\n",
       "        vertical-align: top;\n",
       "    }\n",
       "\n",
       "    .dataframe thead th {\n",
       "        text-align: right;\n",
       "    }\n",
       "</style>\n",
       "<table border=\"1\" class=\"dataframe\">\n",
       "  <thead>\n",
       "    <tr style=\"text-align: right;\">\n",
       "      <th></th>\n",
       "      <th>Airport Name</th>\n",
       "      <th>country</th>\n",
       "      <th>Latitude</th>\n",
       "      <th>Longitude</th>\n",
       "    </tr>\n",
       "  </thead>\n",
       "  <tbody>\n",
       "    <tr>\n",
       "      <th>0</th>\n",
<<<<<<< HEAD
       "      <td>Chacalluta</td>\n",
       "      <td>Chile</td>\n",
       "      <td>-18.348531</td>\n",
       "      <td>-70.338742</td>\n",
       "    </tr>\n",
       "    <tr>\n",
       "      <th>1</th>\n",
       "      <td>Balmaceda</td>\n",
       "      <td>Chile</td>\n",
       "      <td>-45.916058</td>\n",
       "      <td>-71.689475</td>\n",
       "    </tr>\n",
       "    <tr>\n",
       "      <th>2</th>\n",
       "      <td>El Bosque</td>\n",
       "      <td>Chile</td>\n",
       "      <td>-33.561800</td>\n",
       "      <td>-70.688400</td>\n",
       "    </tr>\n",
       "    <tr>\n",
       "      <th>3</th>\n",
       "      <td>Chile Chico</td>\n",
       "      <td>Chile</td>\n",
       "      <td>-46.583341</td>\n",
       "      <td>-71.687405</td>\n",
       "    </tr>\n",
       "    <tr>\n",
       "      <th>4</th>\n",
       "      <td>El Loa</td>\n",
       "      <td>Chile</td>\n",
       "      <td>-22.498175</td>\n",
       "      <td>-68.903575</td>\n",
=======
       "      <td>Aeropuerto de Rafaela</td>\n",
       "      <td>Argentina</td>\n",
       "      <td>-31.282072</td>\n",
       "      <td>-61.501594</td>\n",
       "    </tr>\n",
       "    <tr>\n",
       "      <th>1</th>\n",
       "      <td>Comodoro Pierrestegui</td>\n",
       "      <td>Argentina</td>\n",
       "      <td>-31.296944</td>\n",
       "      <td>-57.996631</td>\n",
       "    </tr>\n",
       "    <tr>\n",
       "      <th>2</th>\n",
       "      <td>Gualeguaychu</td>\n",
       "      <td>Argentina</td>\n",
       "      <td>-33.010278</td>\n",
       "      <td>-58.613056</td>\n",
       "    </tr>\n",
       "    <tr>\n",
       "      <th>3</th>\n",
       "      <td>Junin</td>\n",
       "      <td>Argentina</td>\n",
       "      <td>-34.545889</td>\n",
       "      <td>-60.930556</td>\n",
       "    </tr>\n",
       "    <tr>\n",
       "      <th>4</th>\n",
       "      <td>General Urquiza</td>\n",
       "      <td>Argentina</td>\n",
       "      <td>-31.794778</td>\n",
       "      <td>-60.480361</td>\n",
>>>>>>> upstream/main
       "    </tr>\n",
       "    <tr>\n",
       "      <th>5</th>\n",
       "      <td>General Bernardo O Higgins</td>\n",
       "      <td>Chile</td>\n",
       "      <td>-36.582497</td>\n",
       "      <td>-72.031367</td>\n",
       "    </tr>\n",
       "    <tr>\n",
<<<<<<< HEAD
       "      <th>6</th>\n",
       "      <td>Carlos Ibanez Del Campo Intl</td>\n",
       "      <td>Chile</td>\n",
       "      <td>-53.002642</td>\n",
       "      <td>-70.854586</td>\n",
       "    </tr>\n",
       "    <tr>\n",
       "      <th>7</th>\n",
       "      <td>Teniente Vidal</td>\n",
       "      <td>Chile</td>\n",
       "      <td>-45.594211</td>\n",
       "      <td>-72.106133</td>\n",
       "    </tr>\n",
       "    <tr>\n",
       "      <th>8</th>\n",
       "      <td>Diego Aracena Intl</td>\n",
       "      <td>Chile</td>\n",
       "      <td>-20.535222</td>\n",
       "      <td>-70.181275</td>\n",
       "    </tr>\n",
       "    <tr>\n",
       "      <th>9</th>\n",
       "      <td>Arturo Merino Benitez Intl</td>\n",
       "      <td>Chile</td>\n",
       "      <td>-33.392975</td>\n",
       "      <td>-70.785803</td>\n",
       "    </tr>\n",
       "    <tr>\n",
       "      <th>10</th>\n",
       "      <td>Cerro Moreno Intl</td>\n",
       "      <td>Chile</td>\n",
       "      <td>-23.444478</td>\n",
       "      <td>-70.445100</td>\n",
       "    </tr>\n",
       "    <tr>\n",
       "      <th>11</th>\n",
       "      <td>Capitan Fuentes Martinez</td>\n",
       "      <td>Chile</td>\n",
       "      <td>-53.253700</td>\n",
       "      <td>-70.319228</td>\n",
       "    </tr>\n",
       "    <tr>\n",
       "      <th>12</th>\n",
       "      <td>Futaleufu</td>\n",
       "      <td>Chile</td>\n",
       "      <td>-43.189167</td>\n",
       "      <td>-71.851112</td>\n",
       "    </tr>\n",
       "    <tr>\n",
       "      <th>13</th>\n",
       "      <td>Maria Dolores</td>\n",
       "      <td>Chile</td>\n",
       "      <td>-37.401731</td>\n",
       "      <td>-72.425444</td>\n",
       "    </tr>\n",
       "    <tr>\n",
       "      <th>14</th>\n",
       "      <td>Guardiamarina Zanartu</td>\n",
       "      <td>Chile</td>\n",
       "      <td>-54.931072</td>\n",
       "      <td>-67.626261</td>\n",
       "    </tr>\n",
       "    <tr>\n",
       "      <th>15</th>\n",
       "      <td>Carriel Sur Intl</td>\n",
       "      <td>Chile</td>\n",
       "      <td>-36.772650</td>\n",
       "      <td>-73.063106</td>\n",
       "    </tr>\n",
       "    <tr>\n",
       "      <th>16</th>\n",
       "      <td>Mataveri Intl</td>\n",
       "      <td>Chile</td>\n",
       "      <td>-27.164792</td>\n",
       "      <td>-109.421831</td>\n",
       "    </tr>\n",
       "    <tr>\n",
       "      <th>17</th>\n",
       "      <td>Canal Bajo Carlos Hott Siebert</td>\n",
       "      <td>Chile</td>\n",
       "      <td>-40.611208</td>\n",
       "      <td>-73.061042</td>\n",
       "    </tr>\n",
       "    <tr>\n",
       "      <th>18</th>\n",
       "      <td>Vallenar</td>\n",
       "      <td>Chile</td>\n",
       "      <td>-28.596403</td>\n",
       "      <td>-70.755997</td>\n",
       "    </tr>\n",
       "    <tr>\n",
       "      <th>19</th>\n",
       "      <td>De La Independencia</td>\n",
       "      <td>Chile</td>\n",
       "      <td>-34.173694</td>\n",
       "      <td>-70.775694</td>\n",
       "    </tr>\n",
       "    <tr>\n",
       "      <th>20</th>\n",
       "      <td>La Florida</td>\n",
       "      <td>Chile</td>\n",
       "      <td>-29.916233</td>\n",
       "      <td>-71.199522</td>\n",
       "    </tr>\n",
       "    <tr>\n",
       "      <th>21</th>\n",
       "      <td>Eulogio Sanchez</td>\n",
       "      <td>Chile</td>\n",
       "      <td>-33.456278</td>\n",
       "      <td>-70.546667</td>\n",
       "    </tr>\n",
       "    <tr>\n",
       "      <th>22</th>\n",
       "      <td>Maquehue</td>\n",
       "      <td>Chile</td>\n",
       "      <td>-38.766819</td>\n",
       "      <td>-72.637097</td>\n",
       "    </tr>\n",
       "    <tr>\n",
       "      <th>23</th>\n",
       "      <td>El Tepual Intl</td>\n",
       "      <td>Chile</td>\n",
       "      <td>-41.438886</td>\n",
       "      <td>-73.093953</td>\n",
       "    </tr>\n",
       "    <tr>\n",
       "      <th>24</th>\n",
       "      <td>Chaiten</td>\n",
       "      <td>Chile</td>\n",
       "      <td>-42.932808</td>\n",
       "      <td>-72.699114</td>\n",
       "    </tr>\n",
       "    <tr>\n",
       "      <th>25</th>\n",
       "      <td>Pichoy</td>\n",
       "      <td>Chile</td>\n",
       "      <td>-39.649956</td>\n",
       "      <td>-73.086111</td>\n",
       "    </tr>\n",
       "    <tr>\n",
       "      <th>26</th>\n",
       "      <td>Angel S Adami</td>\n",
       "      <td>Uruguay</td>\n",
       "      <td>-34.789208</td>\n",
       "      <td>-56.264703</td>\n",
       "    </tr>\n",
       "    <tr>\n",
       "      <th>27</th>\n",
       "      <td>Santa Bernardina Intl</td>\n",
       "      <td>Uruguay</td>\n",
       "      <td>-33.358867</td>\n",
       "      <td>-56.499172</td>\n",
       "    </tr>\n",
       "    <tr>\n",
       "      <th>28</th>\n",
       "      <td>Carrasco Intl</td>\n",
       "      <td>Uruguay</td>\n",
       "      <td>-34.838417</td>\n",
       "      <td>-56.030806</td>\n",
       "    </tr>\n",
       "    <tr>\n",
       "      <th>29</th>\n",
       "      <td>Nueva Hesperides Intl</td>\n",
       "      <td>Uruguay</td>\n",
       "      <td>-31.438481</td>\n",
       "      <td>-57.985294</td>\n",
       "    </tr>\n",
       "    <tr>\n",
       "      <th>30</th>\n",
       "      <td>Copiapo</td>\n",
       "      <td>Chile</td>\n",
       "      <td>-27.000000</td>\n",
       "      <td>-70.000000</td>\n",
       "    </tr>\n",
       "    <tr>\n",
       "      <th>31</th>\n",
       "      <td>Pucón Airport</td>\n",
       "      <td>Chile</td>\n",
       "      <td>-39.292800</td>\n",
       "      <td>-71.915900</td>\n",
       "    </tr>\n",
       "    <tr>\n",
       "      <th>32</th>\n",
       "      <td>El Jaguel / Punta del Este Airport</td>\n",
       "      <td>Uruguay</td>\n",
       "      <td>-34.917000</td>\n",
       "      <td>-54.917000</td>\n",
       "    </tr>\n",
       "    <tr>\n",
       "      <th>33</th>\n",
       "      <td>Ricardo García Posada Airport</td>\n",
       "      <td>Chile</td>\n",
       "      <td>-26.311100</td>\n",
       "      <td>-69.765200</td>\n",
       "    </tr>\n",
       "    <tr>\n",
       "      <th>34</th>\n",
       "      <td>Capitan Corbeta C A Curbelo International Airport</td>\n",
       "      <td>Uruguay</td>\n",
       "      <td>-34.855139</td>\n",
       "      <td>-55.094278</td>\n",
       "    </tr>\n",
       "    <tr>\n",
       "      <th>35</th>\n",
       "      <td>Laguna de Los Patos International Airport</td>\n",
       "      <td>Uruguay</td>\n",
       "      <td>-34.456400</td>\n",
       "      <td>-57.770600</td>\n",
       "    </tr>\n",
       "    <tr>\n",
       "      <th>36</th>\n",
       "      <td>Camelo</td>\n",
       "      <td>Uruguay</td>\n",
       "      <td>-33.963882</td>\n",
       "      <td>-58.288612</td>\n",
       "    </tr>\n",
       "    <tr>\n",
       "      <th>37</th>\n",
       "      <td>Puerto Natales</td>\n",
       "      <td>Chile</td>\n",
       "      <td>-51.733333</td>\n",
       "      <td>-72.516667</td>\n",
       "    </tr>\n",
       "    <tr>\n",
       "      <th>38</th>\n",
       "      <td>Aeropuerto Capitan Fuentes Martinez</td>\n",
       "      <td>Chile</td>\n",
       "      <td>-53.253700</td>\n",
       "      <td>-70.319228</td>\n",
       "    </tr>\n",
       "    <tr>\n",
       "      <th>39</th>\n",
       "      <td>Casa Central</td>\n",
       "      <td>Uruguay</td>\n",
       "      <td>-34.902780</td>\n",
       "      <td>-56.213781</td>\n",
       "    </tr>\n",
       "    <tr>\n",
       "      <th>40</th>\n",
       "      <td>Puerto Franco</td>\n",
       "      <td>Uruguay</td>\n",
       "      <td>-34.474100</td>\n",
       "      <td>-57.843427</td>\n",
       "    </tr>\n",
       "    <tr>\n",
       "      <th>41</th>\n",
       "      <td>Tres Cruces</td>\n",
       "      <td>Uruguay</td>\n",
       "      <td>-34.893891</td>\n",
       "      <td>-56.166589</td>\n",
       "    </tr>\n",
       "    <tr>\n",
       "      <th>42</th>\n",
       "      <td>Vina Del Mar</td>\n",
       "      <td>Chile</td>\n",
       "      <td>-32.949611</td>\n",
       "      <td>-71.478583</td>\n",
       "    </tr>\n",
       "    <tr>\n",
       "      <th>43</th>\n",
       "      <td>Guardiamarina Zanartu Airport</td>\n",
       "      <td>Chile</td>\n",
       "      <td>-54.931100</td>\n",
       "      <td>-67.626300</td>\n",
       "    </tr>\n",
       "    <tr>\n",
       "      <th>44</th>\n",
       "      <td>Rivera Intl.</td>\n",
       "      <td>Uruguay</td>\n",
       "      <td>-31.112700</td>\n",
       "      <td>55.461100</td>\n",
       "    </tr>\n",
       "    <tr>\n",
       "      <th>45</th>\n",
       "      <td>General Freire</td>\n",
       "      <td>Chile</td>\n",
       "      <td>-34.966700</td>\n",
       "      <td>-71.216400</td>\n",
       "    </tr>\n",
       "    <tr>\n",
       "      <th>46</th>\n",
       "      <td>Isla San Felix</td>\n",
       "      <td>Chile</td>\n",
       "      <td>-26.293864</td>\n",
       "      <td>-80.096214</td>\n",
       "    </tr>\n",
       "    <tr>\n",
       "      <th>47</th>\n",
       "      <td>Rivera International Airport</td>\n",
       "      <td>Uruguay</td>\n",
       "      <td>-30.974444</td>\n",
       "      <td>-55.476111</td>\n",
       "    </tr>\n",
       "    <tr>\n",
       "      <th>48</th>\n",
       "      <td>Robinson Crusoe Airport</td>\n",
       "      <td>Chile</td>\n",
       "      <td>-33.665001</td>\n",
       "      <td>-78.929703</td>\n",
       "    </tr>\n",
       "    <tr>\n",
       "      <th>49</th>\n",
       "      <td>Caldera Airport</td>\n",
       "      <td>Chile</td>\n",
       "      <td>-27.078052</td>\n",
       "      <td>-70.795305</td>\n",
       "    </tr>\n",
       "    <tr>\n",
       "      <th>50</th>\n",
       "      <td>San Pedro de Atacama Airport</td>\n",
       "      <td>Chile</td>\n",
       "      <td>-22.918888</td>\n",
       "      <td>-68.162777</td>\n",
       "    </tr>\n",
       "  </tbody>\n",
       "</table>\n",
       "</div>"
      ],
      "text/plain": [
       "                                         Airport Name  country   Latitude  \\\n",
       "0                                          Chacalluta    Chile -18.348531   \n",
       "1                                           Balmaceda    Chile -45.916058   \n",
       "2                                           El Bosque    Chile -33.561800   \n",
       "3                                         Chile Chico    Chile -46.583341   \n",
       "4                                              El Loa    Chile -22.498175   \n",
       "5                          General Bernardo O Higgins    Chile -36.582497   \n",
       "6                        Carlos Ibanez Del Campo Intl    Chile -53.002642   \n",
       "7                                      Teniente Vidal    Chile -45.594211   \n",
       "8                                  Diego Aracena Intl    Chile -20.535222   \n",
       "9                          Arturo Merino Benitez Intl    Chile -33.392975   \n",
       "10                                  Cerro Moreno Intl    Chile -23.444478   \n",
       "11                           Capitan Fuentes Martinez    Chile -53.253700   \n",
       "12                                          Futaleufu    Chile -43.189167   \n",
       "13                                      Maria Dolores    Chile -37.401731   \n",
       "14                              Guardiamarina Zanartu    Chile -54.931072   \n",
       "15                                   Carriel Sur Intl    Chile -36.772650   \n",
       "16                                      Mataveri Intl    Chile -27.164792   \n",
       "17                     Canal Bajo Carlos Hott Siebert    Chile -40.611208   \n",
       "18                                           Vallenar    Chile -28.596403   \n",
       "19                                De La Independencia    Chile -34.173694   \n",
       "20                                         La Florida    Chile -29.916233   \n",
       "21                                    Eulogio Sanchez    Chile -33.456278   \n",
       "22                                           Maquehue    Chile -38.766819   \n",
       "23                                     El Tepual Intl    Chile -41.438886   \n",
       "24                                            Chaiten    Chile -42.932808   \n",
       "25                                             Pichoy    Chile -39.649956   \n",
       "26                                      Angel S Adami  Uruguay -34.789208   \n",
       "27                              Santa Bernardina Intl  Uruguay -33.358867   \n",
       "28                                      Carrasco Intl  Uruguay -34.838417   \n",
       "29                              Nueva Hesperides Intl  Uruguay -31.438481   \n",
       "30                                            Copiapo    Chile -27.000000   \n",
       "31                                      Pucón Airport    Chile -39.292800   \n",
       "32                 El Jaguel / Punta del Este Airport  Uruguay -34.917000   \n",
       "33                      Ricardo García Posada Airport    Chile -26.311100   \n",
       "34  Capitan Corbeta C A Curbelo International Airport  Uruguay -34.855139   \n",
       "35          Laguna de Los Patos International Airport  Uruguay -34.456400   \n",
       "36                                             Camelo  Uruguay -33.963882   \n",
       "37                                     Puerto Natales    Chile -51.733333   \n",
       "38                Aeropuerto Capitan Fuentes Martinez    Chile -53.253700   \n",
       "39                                       Casa Central  Uruguay -34.902780   \n",
       "40                                      Puerto Franco  Uruguay -34.474100   \n",
       "41                                        Tres Cruces  Uruguay -34.893891   \n",
       "42                                       Vina Del Mar    Chile -32.949611   \n",
       "43                      Guardiamarina Zanartu Airport    Chile -54.931100   \n",
       "44                                       Rivera Intl.  Uruguay -31.112700   \n",
       "45                                     General Freire    Chile -34.966700   \n",
       "46                                     Isla San Felix    Chile -26.293864   \n",
       "47                       Rivera International Airport  Uruguay -30.974444   \n",
       "48                            Robinson Crusoe Airport    Chile -33.665001   \n",
       "49                                    Caldera Airport    Chile -27.078052   \n",
       "50                       San Pedro de Atacama Airport    Chile -22.918888   \n",
       "\n",
       "     Longitude  \n",
       "0   -70.338742  \n",
       "1   -71.689475  \n",
       "2   -70.688400  \n",
       "3   -71.687405  \n",
       "4   -68.903575  \n",
       "5   -72.031367  \n",
       "6   -70.854586  \n",
       "7   -72.106133  \n",
       "8   -70.181275  \n",
       "9   -70.785803  \n",
       "10  -70.445100  \n",
       "11  -70.319228  \n",
       "12  -71.851112  \n",
       "13  -72.425444  \n",
       "14  -67.626261  \n",
       "15  -73.063106  \n",
       "16 -109.421831  \n",
       "17  -73.061042  \n",
       "18  -70.755997  \n",
       "19  -70.775694  \n",
       "20  -71.199522  \n",
       "21  -70.546667  \n",
       "22  -72.637097  \n",
       "23  -73.093953  \n",
       "24  -72.699114  \n",
       "25  -73.086111  \n",
       "26  -56.264703  \n",
       "27  -56.499172  \n",
       "28  -56.030806  \n",
       "29  -57.985294  \n",
       "30  -70.000000  \n",
       "31  -71.915900  \n",
       "32  -54.917000  \n",
       "33  -69.765200  \n",
       "34  -55.094278  \n",
       "35  -57.770600  \n",
       "36  -58.288612  \n",
       "37  -72.516667  \n",
       "38  -70.319228  \n",
       "39  -56.213781  \n",
       "40  -57.843427  \n",
       "41  -56.166589  \n",
       "42  -71.478583  \n",
       "43  -67.626300  \n",
       "44   55.461100  \n",
       "45  -71.216400  \n",
       "46  -80.096214  \n",
       "47  -55.476111  \n",
       "48  -78.929703  \n",
       "49  -70.795305  \n",
       "50  -68.162777  "
      ]
     },
     "execution_count": 57,
=======
       "      <th>362</th>\n",
       "      <td>Caldera Airport</td>\n",
       "      <td>Chile</td>\n",
       "      <td>-27.078052</td>\n",
       "      <td>-70.795305</td>\n",
       "    </tr>\n",
       "    <tr>\n",
       "      <th>363</th>\n",
       "      <td>San Pedro de Atacama Airport</td>\n",
       "      <td>Chile</td>\n",
       "      <td>-22.918888</td>\n",
       "      <td>-68.162777</td>\n",
       "    </tr>\n",
       "    <tr>\n",
       "      <th>364</th>\n",
       "      <td>Aeroporto Estadual Arthur Siqueira</td>\n",
       "      <td>Brazil</td>\n",
       "      <td>-22.979167</td>\n",
       "      <td>-46.537500</td>\n",
       "    </tr>\n",
       "    <tr>\n",
       "      <th>365</th>\n",
       "      <td>Americana</td>\n",
       "      <td>Brazil</td>\n",
       "      <td>-22.755800</td>\n",
       "      <td>-47.269402</td>\n",
       "    </tr>\n",
       "    <tr>\n",
       "      <th>366</th>\n",
       "      <td>Pampulha</td>\n",
       "      <td>Brazil</td>\n",
       "      <td>-19.851700</td>\n",
       "      <td>-43.950800</td>\n",
       "    </tr>\n",
       "  </tbody>\n",
       "</table>\n",
       "<p>367 rows × 4 columns</p>\n",
       "</div>"
      ],
      "text/plain": [
       "                           Airport Name    country   Latitude  Longitude\n",
       "0                 Aeropuerto de Rafaela  Argentina -31.282072 -61.501594\n",
       "1                 Comodoro Pierrestegui  Argentina -31.296944 -57.996631\n",
       "2                          Gualeguaychu  Argentina -33.010278 -58.613056\n",
       "3                                 Junin  Argentina -34.545889 -60.930556\n",
       "4                       General Urquiza  Argentina -31.794778 -60.480361\n",
       "..                                  ...        ...        ...        ...\n",
       "362                     Caldera Airport      Chile -27.078052 -70.795305\n",
       "363        San Pedro de Atacama Airport      Chile -22.918888 -68.162777\n",
       "364  Aeroporto Estadual Arthur Siqueira     Brazil -22.979167 -46.537500\n",
       "365                           Americana     Brazil -22.755800 -47.269402\n",
       "366                            Pampulha     Brazil -19.851700 -43.950800\n",
       "\n",
       "[367 rows x 4 columns]"
      ]
     },
     "execution_count": 48,
>>>>>>> upstream/main
     "metadata": {},
     "output_type": "execute_result"
    }
   ],
   "source": [
    "sql_query_df = pd.read_sql(\"\"\"\n",
    "\n",
    "SELECT name AS \"Airport Name\", \n",
    "        country,\n",
    "       CAST(latitude AS float) AS \"Latitude\",\n",
    "       CAST(longitude AS float) AS \"Longitude\"\n",
    "       \n",
    "FROM airports\n",
    "\n",
<<<<<<< HEAD
    "WHERE country IN (\"Chile\", \"Uruguay\")\n",
=======
    "WHERE country IN (\"Argentina\", \"Brazil\", \"Chile\", \"Uruguay\")\n",
>>>>>>> upstream/main
    "\"\"\", con)\n",
    "\n",
    "sql_query_df\n"
   ]
  },
  {
   "cell_type": "markdown",
   "metadata": {
    "heading_collapsed": true,
    "hidden": true,
    "slideshow": {
     "slide_type": "slide"
    }
   },
   "source": [
    "##### Filtering rows with null (or no null) values in `WHERE` statement\n",
    "- IS NULL\n",
    "- IS NOT NULL\n",
    "\n",
    "The `IS` operator:\n",
    "- necessary when working with `NULL` values \n",
    "- Cannot use = or <> operators here.  "
   ]
  },
  {
   "cell_type": "code",
<<<<<<< HEAD
   "execution_count": 58,
=======
   "execution_count": 50,
>>>>>>> upstream/main
   "metadata": {
    "hidden": true,
    "slideshow": {
     "slide_type": "subslide"
    }
   },
   "outputs": [
    {
     "data": {
      "text/html": [
       "<div>\n",
       "<style scoped>\n",
       "    .dataframe tbody tr th:only-of-type {\n",
       "        vertical-align: middle;\n",
       "    }\n",
       "\n",
       "    .dataframe tbody tr th {\n",
       "        vertical-align: top;\n",
       "    }\n",
       "\n",
       "    .dataframe thead th {\n",
       "        text-align: right;\n",
       "    }\n",
       "</style>\n",
       "<table border=\"1\" class=\"dataframe\">\n",
       "  <thead>\n",
       "    <tr style=\"text-align: right;\">\n",
       "      <th></th>\n",
       "      <th>Airport Name</th>\n",
       "      <th>Airport Code</th>\n",
       "    </tr>\n",
       "  </thead>\n",
       "  <tbody>\n",
       "    <tr>\n",
       "      <th>0</th>\n",
       "      <td>Forestville</td>\n",
       "      <td>None</td>\n",
       "    </tr>\n",
       "    <tr>\n",
       "      <th>1</th>\n",
       "      <td>Pitt Meadows</td>\n",
       "      <td>None</td>\n",
       "    </tr>\n",
       "    <tr>\n",
       "      <th>2</th>\n",
       "      <td>Blida</td>\n",
       "      <td>None</td>\n",
       "    </tr>\n",
       "    <tr>\n",
       "      <th>3</th>\n",
       "      <td>Bou Saada</td>\n",
       "      <td>None</td>\n",
       "    </tr>\n",
       "    <tr>\n",
       "      <th>4</th>\n",
       "      <td>Reggane</td>\n",
       "      <td>None</td>\n",
       "    </tr>\n",
       "    <tr>\n",
       "      <th>...</th>\n",
       "      <td>...</td>\n",
       "      <td>...</td>\n",
       "    </tr>\n",
       "    <tr>\n",
       "      <th>2222</th>\n",
       "      <td>Bus</td>\n",
       "      <td>None</td>\n",
       "    </tr>\n",
       "    <tr>\n",
       "      <th>2223</th>\n",
       "      <td>Bus</td>\n",
       "      <td>None</td>\n",
       "    </tr>\n",
       "    <tr>\n",
       "      <th>2224</th>\n",
       "      <td>Bus</td>\n",
       "      <td>None</td>\n",
       "    </tr>\n",
       "    <tr>\n",
       "      <th>2225</th>\n",
       "      <td>Main Station</td>\n",
       "      <td>None</td>\n",
       "    </tr>\n",
       "    <tr>\n",
       "      <th>2226</th>\n",
       "      <td>Algerciras Port</td>\n",
       "      <td>None</td>\n",
       "    </tr>\n",
       "  </tbody>\n",
       "</table>\n",
       "<p>2227 rows × 2 columns</p>\n",
       "</div>"
      ],
      "text/plain": [
       "         Airport Name Airport Code\n",
       "0         Forestville         None\n",
       "1        Pitt Meadows         None\n",
       "2               Blida         None\n",
       "3           Bou Saada         None\n",
       "4             Reggane         None\n",
       "...               ...          ...\n",
       "2222              Bus         None\n",
       "2223              Bus         None\n",
       "2224              Bus         None\n",
       "2225     Main Station         None\n",
       "2226  Algerciras Port         None\n",
       "\n",
       "[2227 rows x 2 columns]"
      ]
     },
<<<<<<< HEAD
     "execution_count": 58,
=======
     "execution_count": 50,
>>>>>>> upstream/main
     "metadata": {},
     "output_type": "execute_result"
    }
   ],
   "source": [
    "pd.read_sql(\"\"\"\n",
    "\n",
    "SELECT name AS \"Airport Name\",\n",
    "       code AS \"Airport Code\"\n",
    "       \n",
    "FROM airports\n",
    "\n",
    "WHERE \"Airport Code\" IS NULL\n",
    "\n",
    "\"\"\", con)"
   ]
  },
  {
   "cell_type": "markdown",
   "metadata": {
    "slideshow": {
     "slide_type": "slide"
    }
   },
   "source": [
    "#### Exercise:\n",
    "\n",
    "Get the count of records with nulls in the code column of the airport table"
   ]
  },
  {
   "cell_type": "code",
   "execution_count": 63,
   "metadata": {},
   "outputs": [
    {
     "data": {
      "text/html": [
       "<div>\n",
       "<style scoped>\n",
       "    .dataframe tbody tr th:only-of-type {\n",
       "        vertical-align: middle;\n",
       "    }\n",
       "\n",
       "    .dataframe tbody tr th {\n",
       "        vertical-align: top;\n",
       "    }\n",
       "\n",
       "    .dataframe thead th {\n",
       "        text-align: right;\n",
       "    }\n",
       "</style>\n",
       "<table border=\"1\" class=\"dataframe\">\n",
       "  <thead>\n",
       "    <tr style=\"text-align: right;\">\n",
       "      <th></th>\n",
       "      <th>COUNT(*)</th>\n",
       "    </tr>\n",
       "  </thead>\n",
       "  <tbody>\n",
       "    <tr>\n",
       "      <th>0</th>\n",
       "      <td>2227</td>\n",
       "    </tr>\n",
       "  </tbody>\n",
       "</table>\n",
       "</div>"
      ],
      "text/plain": [
       "   COUNT(*)\n",
       "0      2227"
      ]
     },
     "execution_count": 63,
     "metadata": {},
     "output_type": "execute_result"
    }
   ],
   "source": [
    "#### Gimme a hand!\n",
    "\n",
    "pd.read_sql(\"\"\"\n",
    "SELECT COUNT(*)\n",
    "FROM airports\n",
    "WHERE code IS NULL\n",
    "\n",
    "\n",
    "\"\"\", con)"
   ]
  },
  {
   "cell_type": "markdown",
   "metadata": {
    "heading_collapsed": true,
    "hidden": true,
    "slideshow": {
     "slide_type": "slide"
    }
   },
   "source": [
    "#### ORDER BY: Sorting Results"
   ]
  },
  {
   "cell_type": "markdown",
   "metadata": {
    "hidden": true,
    "slideshow": {
     "slide_type": "fragment"
    }
   },
   "source": [
    "Use `ORDER BY` to identify the column(s) you want to sort on:\n",
    "- `ASC` for ascending order (default)\n",
    "- `DESC` for descending order\n",
    "\n"
   ]
  },
  {
   "cell_type": "markdown",
   "metadata": {
    "slideshow": {
     "slide_type": "subslide"
    }
   },
   "source": [
    "Get the name and code of airports with:\n",
    "- top 10 highest altitudes.\n",
    "- in order of decreasing altitude. \n",
    "\n",
    "Then get lowest 10 in increasing order."
   ]
  },
  {
   "cell_type": "code",
<<<<<<< HEAD
   "execution_count": 64,
=======
   "execution_count": 52,
>>>>>>> upstream/main
   "metadata": {
    "hidden": true,
    "scrolled": true,
    "slideshow": {
     "slide_type": "subslide"
    }
   },
   "outputs": [
    {
     "data": {
      "text/html": [
       "<div>\n",
       "<style scoped>\n",
       "    .dataframe tbody tr th:only-of-type {\n",
       "        vertical-align: middle;\n",
       "    }\n",
       "\n",
       "    .dataframe tbody tr th {\n",
       "        vertical-align: top;\n",
       "    }\n",
       "\n",
       "    .dataframe thead th {\n",
       "        text-align: right;\n",
       "    }\n",
       "</style>\n",
       "<table border=\"1\" class=\"dataframe\">\n",
       "  <thead>\n",
       "    <tr style=\"text-align: right;\">\n",
       "      <th></th>\n",
       "      <th>Airport Name</th>\n",
       "      <th>code</th>\n",
       "      <th>Altitude (ft)</th>\n",
       "    </tr>\n",
       "  </thead>\n",
       "  <tbody>\n",
       "    <tr>\n",
       "      <th>0</th>\n",
       "      <td>Yading Daocheng</td>\n",
       "      <td>DCY</td>\n",
       "      <td>14472</td>\n",
       "    </tr>\n",
       "    <tr>\n",
       "      <th>1</th>\n",
       "      <td>Qamdo Bangda Airport</td>\n",
       "      <td>BPX</td>\n",
       "      <td>14219</td>\n",
       "    </tr>\n",
       "    <tr>\n",
       "      <th>2</th>\n",
       "      <td>Kangding Airport</td>\n",
       "      <td>KGT</td>\n",
       "      <td>14042</td>\n",
       "    </tr>\n",
       "    <tr>\n",
       "      <th>3</th>\n",
       "      <td>Gunsa</td>\n",
       "      <td>NGQ</td>\n",
       "      <td>13780</td>\n",
       "    </tr>\n",
       "    <tr>\n",
       "      <th>4</th>\n",
       "      <td>Irkutsk-2</td>\n",
       "      <td>None</td>\n",
       "      <td>13411</td>\n",
       "    </tr>\n",
       "    <tr>\n",
       "      <th>5</th>\n",
       "      <td>El Alto Intl</td>\n",
       "      <td>LPB</td>\n",
       "      <td>13325</td>\n",
       "    </tr>\n",
       "    <tr>\n",
       "      <th>6</th>\n",
       "      <td>Lhasa-Gonggar</td>\n",
       "      <td>LXA</td>\n",
       "      <td>13136</td>\n",
       "    </tr>\n",
       "    <tr>\n",
       "      <th>7</th>\n",
       "      <td>Yushu Batang</td>\n",
       "      <td>YUS</td>\n",
       "      <td>13000</td>\n",
       "    </tr>\n",
       "    <tr>\n",
       "      <th>8</th>\n",
       "      <td>Capitan Nicolas Rojas</td>\n",
       "      <td>POI</td>\n",
       "      <td>12913</td>\n",
       "    </tr>\n",
       "    <tr>\n",
       "      <th>9</th>\n",
       "      <td>Copacabana Airport</td>\n",
       "      <td>None</td>\n",
       "      <td>12591</td>\n",
       "    </tr>\n",
       "  </tbody>\n",
       "</table>\n",
       "</div>"
      ],
      "text/plain": [
       "            Airport Name  code  Altitude (ft)\n",
       "0        Yading Daocheng   DCY          14472\n",
       "1   Qamdo Bangda Airport   BPX          14219\n",
       "2       Kangding Airport   KGT          14042\n",
       "3                  Gunsa   NGQ          13780\n",
       "4              Irkutsk-2  None          13411\n",
       "5           El Alto Intl   LPB          13325\n",
       "6          Lhasa-Gonggar   LXA          13136\n",
       "7           Yushu Batang   YUS          13000\n",
       "8  Capitan Nicolas Rojas   POI          12913\n",
       "9     Copacabana Airport  None          12591"
      ]
     },
<<<<<<< HEAD
     "execution_count": 64,
=======
     "execution_count": 52,
>>>>>>> upstream/main
     "metadata": {},
     "output_type": "execute_result"
    }
   ],
   "source": [
    "pd.read_sql(\"\"\"\n",
    "\n",
    "SELECT name AS \"Airport Name\", \n",
    "       code,\n",
    "       CAST(altitude AS int) AS \"Altitude (ft)\"\n",
    "       \n",
    "FROM airports\n",
    "\n",
    "ORDER BY \"Altitude (ft)\" DESC\n",
    "\n",
    "LIMIT 10\n",
    "         \n",
    "\"\"\", con)"
   ]
  },
  {
   "cell_type": "markdown",
   "metadata": {
    "slideshow": {
     "slide_type": "slide"
    }
   },
   "source": [
    "Ordering on multiple columns:\n",
    "\n",
    "- Can order on one column first and then on another.\n",
    "\n",
    "E.g., order by:\n",
    "- decreasing latitudes\n",
    "- increasing longitudes\n",
    "- Altitude > 10000 ft."
   ]
  },
  {
   "cell_type": "code",
<<<<<<< HEAD
   "execution_count": 66,
=======
   "execution_count": 56,
>>>>>>> upstream/main
   "metadata": {
    "hidden": true,
    "scrolled": true,
    "slideshow": {
     "slide_type": "subslide"
    }
   },
   "outputs": [
    {
     "data": {
      "text/html": [
       "<div>\n",
       "<style scoped>\n",
       "    .dataframe tbody tr th:only-of-type {\n",
       "        vertical-align: middle;\n",
       "    }\n",
       "\n",
       "    .dataframe tbody tr th {\n",
       "        vertical-align: top;\n",
       "    }\n",
       "\n",
       "    .dataframe thead th {\n",
       "        text-align: right;\n",
       "    }\n",
       "</style>\n",
       "<table border=\"1\" class=\"dataframe\">\n",
       "  <thead>\n",
       "    <tr style=\"text-align: right;\">\n",
       "      <th></th>\n",
       "      <th>Airport Name</th>\n",
       "      <th>Altitude (ft)</th>\n",
       "      <th>Airport Latitude</th>\n",
       "      <th>Airport Longitude</th>\n",
       "    </tr>\n",
       "  </thead>\n",
       "  <tbody>\n",
       "    <tr>\n",
       "      <th>0</th>\n",
       "      <td>Summit Camp</td>\n",
       "      <td>11000</td>\n",
       "      <td>72</td>\n",
       "      <td>-38</td>\n",
       "    </tr>\n",
       "    <tr>\n",
       "      <th>1</th>\n",
       "      <td>Summit Camp</td>\n",
       "      <td>10552</td>\n",
       "      <td>72</td>\n",
       "      <td>-38</td>\n",
       "    </tr>\n",
       "    <tr>\n",
       "      <th>2</th>\n",
       "      <td>Irkutsk-2</td>\n",
       "      <td>13411</td>\n",
       "      <td>52</td>\n",
       "      <td>104</td>\n",
       "    </tr>\n",
       "    <tr>\n",
       "      <th>3</th>\n",
       "      <td>Leh</td>\n",
       "      <td>10682</td>\n",
       "      <td>34</td>\n",
       "      <td>77</td>\n",
       "    </tr>\n",
       "    <tr>\n",
       "      <th>4</th>\n",
       "      <td>Gannan</td>\n",
       "      <td>10466</td>\n",
       "      <td>34</td>\n",
       "      <td>102</td>\n",
       "    </tr>\n",
       "    <tr>\n",
       "      <th>5</th>\n",
       "      <td>Maiwa</td>\n",
       "      <td>11500</td>\n",
       "      <td>33</td>\n",
       "      <td>102</td>\n",
       "    </tr>\n",
       "    <tr>\n",
       "      <th>6</th>\n",
       "      <td>Gunsa</td>\n",
       "      <td>13780</td>\n",
       "      <td>32</td>\n",
       "      <td>80</td>\n",
       "    </tr>\n",
       "    <tr>\n",
       "      <th>7</th>\n",
       "      <td>Yushu Batang</td>\n",
       "      <td>13000</td>\n",
       "      <td>32</td>\n",
       "      <td>97</td>\n",
       "    </tr>\n",
       "    <tr>\n",
       "      <th>8</th>\n",
       "      <td>Hongyuan Airfield</td>\n",
       "      <td>11500</td>\n",
       "      <td>32</td>\n",
       "      <td>102</td>\n",
       "    </tr>\n",
       "    <tr>\n",
       "      <th>9</th>\n",
       "      <td>Jiuzhaigou Huanglong</td>\n",
       "      <td>11311</td>\n",
       "      <td>32</td>\n",
       "      <td>103</td>\n",
       "    </tr>\n",
       "    <tr>\n",
       "      <th>10</th>\n",
       "      <td>Qamdo Bangda Airport</td>\n",
       "      <td>14219</td>\n",
       "      <td>30</td>\n",
       "      <td>97</td>\n",
       "    </tr>\n",
       "    <tr>\n",
       "      <th>11</th>\n",
       "      <td>Kangding Airport</td>\n",
       "      <td>14042</td>\n",
       "      <td>30</td>\n",
       "      <td>101</td>\n",
       "    </tr>\n",
       "    <tr>\n",
       "      <th>12</th>\n",
       "      <td>Shigatse Peace Airport</td>\n",
       "      <td>12408</td>\n",
       "      <td>29</td>\n",
       "      <td>89</td>\n",
       "    </tr>\n",
       "    <tr>\n",
       "      <th>13</th>\n",
       "      <td>Lhasa-Gonggar</td>\n",
       "      <td>13136</td>\n",
       "      <td>29</td>\n",
       "      <td>90</td>\n",
       "    </tr>\n",
       "    <tr>\n",
       "      <th>14</th>\n",
       "      <td>Yading Daocheng</td>\n",
       "      <td>14472</td>\n",
       "      <td>29</td>\n",
       "      <td>100</td>\n",
       "    </tr>\n",
       "    <tr>\n",
       "      <th>15</th>\n",
       "      <td>Manang</td>\n",
       "      <td>11000</td>\n",
       "      <td>28</td>\n",
       "      <td>84</td>\n",
       "    </tr>\n",
       "    <tr>\n",
       "      <th>16</th>\n",
       "      <td>Syangboche</td>\n",
       "      <td>12309</td>\n",
       "      <td>27</td>\n",
       "      <td>86</td>\n",
       "    </tr>\n",
       "    <tr>\n",
       "      <th>17</th>\n",
       "      <td>Francisco Carle</td>\n",
       "      <td>11034</td>\n",
       "      <td>-11</td>\n",
       "      <td>-75</td>\n",
       "    </tr>\n",
       "    <tr>\n",
       "      <th>18</th>\n",
       "      <td>Andahuaylas</td>\n",
       "      <td>11300</td>\n",
       "      <td>-13</td>\n",
       "      <td>-73</td>\n",
       "    </tr>\n",
       "    <tr>\n",
       "      <th>19</th>\n",
       "      <td>Poroy Train Station</td>\n",
       "      <td>11710</td>\n",
       "      <td>-13</td>\n",
       "      <td>-72</td>\n",
       "    </tr>\n",
       "    <tr>\n",
       "      <th>20</th>\n",
       "      <td>Teniente Alejandro Velasco Astete Intl</td>\n",
       "      <td>10860</td>\n",
       "      <td>-13</td>\n",
       "      <td>-71</td>\n",
       "    </tr>\n",
       "    <tr>\n",
       "      <th>21</th>\n",
       "      <td>Juliaca</td>\n",
       "      <td>12552</td>\n",
       "      <td>-15</td>\n",
       "      <td>-70</td>\n",
       "    </tr>\n",
       "    <tr>\n",
       "      <th>22</th>\n",
       "      <td>Copacabana Airport</td>\n",
       "      <td>12591</td>\n",
       "      <td>-16</td>\n",
       "      <td>-69</td>\n",
       "    </tr>\n",
       "    <tr>\n",
       "      <th>23</th>\n",
       "      <td>El Alto Intl</td>\n",
       "      <td>13325</td>\n",
       "      <td>-16</td>\n",
       "      <td>-68</td>\n",
       "    </tr>\n",
       "    <tr>\n",
       "      <th>24</th>\n",
       "      <td>Juan Mendoza</td>\n",
       "      <td>12146</td>\n",
       "      <td>-17</td>\n",
       "      <td>-67</td>\n",
       "    </tr>\n",
       "    <tr>\n",
       "      <th>25</th>\n",
       "      <td>Capitan Nicolas Rojas</td>\n",
       "      <td>12913</td>\n",
       "      <td>-19</td>\n",
       "      <td>-65</td>\n",
       "    </tr>\n",
       "    <tr>\n",
       "      <th>26</th>\n",
       "      <td>Salar de Uyuni</td>\n",
       "      <td>12000</td>\n",
       "      <td>-20</td>\n",
       "      <td>-67</td>\n",
       "    </tr>\n",
       "    <tr>\n",
       "      <th>27</th>\n",
       "      <td>Isla Pescado</td>\n",
       "      <td>12020</td>\n",
       "      <td>-20</td>\n",
       "      <td>-67</td>\n",
       "    </tr>\n",
       "    <tr>\n",
       "      <th>28</th>\n",
       "      <td>Uyuni Airport</td>\n",
       "      <td>11990</td>\n",
       "      <td>-20</td>\n",
       "      <td>-66</td>\n",
       "    </tr>\n",
       "    <tr>\n",
       "      <th>29</th>\n",
       "      <td>La Quiaca</td>\n",
       "      <td>11414</td>\n",
       "      <td>-22</td>\n",
       "      <td>-65</td>\n",
       "    </tr>\n",
       "  </tbody>\n",
       "</table>\n",
       "</div>"
      ],
      "text/plain": [
       "                              Airport Name  Altitude (ft)  Airport Latitude  \\\n",
       "0                              Summit Camp          11000                72   \n",
       "1                              Summit Camp          10552                72   \n",
       "2                                Irkutsk-2          13411                52   \n",
       "3                                      Leh          10682                34   \n",
       "4                                   Gannan          10466                34   \n",
       "5                                    Maiwa          11500                33   \n",
       "6                                    Gunsa          13780                32   \n",
       "7                             Yushu Batang          13000                32   \n",
       "8                        Hongyuan Airfield          11500                32   \n",
       "9                     Jiuzhaigou Huanglong          11311                32   \n",
       "10                    Qamdo Bangda Airport          14219                30   \n",
       "11                        Kangding Airport          14042                30   \n",
       "12                  Shigatse Peace Airport          12408                29   \n",
       "13                           Lhasa-Gonggar          13136                29   \n",
       "14                         Yading Daocheng          14472                29   \n",
       "15                                  Manang          11000                28   \n",
       "16                              Syangboche          12309                27   \n",
       "17                         Francisco Carle          11034               -11   \n",
       "18                             Andahuaylas          11300               -13   \n",
       "19                     Poroy Train Station          11710               -13   \n",
       "20  Teniente Alejandro Velasco Astete Intl          10860               -13   \n",
       "21                                 Juliaca          12552               -15   \n",
       "22                      Copacabana Airport          12591               -16   \n",
       "23                            El Alto Intl          13325               -16   \n",
       "24                            Juan Mendoza          12146               -17   \n",
       "25                   Capitan Nicolas Rojas          12913               -19   \n",
       "26                          Salar de Uyuni          12000               -20   \n",
       "27                            Isla Pescado          12020               -20   \n",
       "28                           Uyuni Airport          11990               -20   \n",
       "29                               La Quiaca          11414               -22   \n",
       "\n",
       "    Airport Longitude  \n",
       "0                 -38  \n",
       "1                 -38  \n",
       "2                 104  \n",
       "3                  77  \n",
       "4                 102  \n",
       "5                 102  \n",
       "6                  80  \n",
       "7                  97  \n",
       "8                 102  \n",
       "9                 103  \n",
       "10                 97  \n",
       "11                101  \n",
       "12                 89  \n",
       "13                 90  \n",
       "14                100  \n",
       "15                 84  \n",
       "16                 86  \n",
       "17                -75  \n",
       "18                -73  \n",
       "19                -72  \n",
       "20                -71  \n",
       "21                -70  \n",
       "22                -69  \n",
       "23                -68  \n",
       "24                -67  \n",
       "25                -65  \n",
       "26                -67  \n",
       "27                -67  \n",
       "28                -66  \n",
       "29                -65  "
      ]
     },
<<<<<<< HEAD
     "execution_count": 66,
=======
     "execution_count": 56,
>>>>>>> upstream/main
     "metadata": {},
     "output_type": "execute_result"
    }
   ],
   "source": [
    "pd.read_sql(\"\"\"\n",
    "\n",
    "SELECT name AS \"Airport Name\",\n",
    "       CAST(altitude AS int) AS \"Altitude (ft)\",\n",
    "       CAST(latitude AS int) AS \"Airport Latitude\",\n",
    "       CAST(longitude AS int) AS \"Airport Longitude\"    \n",
    "FROM airports\n",
    "WHERE \"Altitude (ft)\" > 10000\n",
    "ORDER BY \"Airport Latitude\" DESC, \"Airport Longitude\"\n",
    "\n",
    "\"\"\", con)"
   ]
  },
  {
   "cell_type": "markdown",
   "metadata": {
    "cell_style": "split",
    "slideshow": {
     "slide_type": "slide"
    }
   },
   "source": [
    "#### CASE WHEN STATEMENTS\n",
    "Use `CASE` to create new columns using conditional logic:\n",
    "\n",
    "E.g. partition altitudes into high, medium and low."
   ]
  },
  {
   "cell_type": "markdown",
   "metadata": {
    "cell_style": "split",
    "slideshow": {
     "slide_type": "fragment"
    }
   },
   "source": [
    "- Really useful for partitioning continuous data into groups.\n",
    "\n",
    "- Also for generating groups that meet certain complex conditions based off of the data\n",
    "\n",
    "Can be used to devastating effect when combined with groupbys."
   ]
  },
  {
   "cell_type": "code",
   "execution_count": 77,
   "metadata": {
    "slideshow": {
     "slide_type": "subslide"
    }
   },
   "outputs": [
    {
     "data": {
      "text/html": [
       "<div>\n",
       "<style scoped>\n",
       "    .dataframe tbody tr th:only-of-type {\n",
       "        vertical-align: middle;\n",
       "    }\n",
       "\n",
       "    .dataframe tbody tr th {\n",
       "        vertical-align: top;\n",
       "    }\n",
       "\n",
       "    .dataframe thead th {\n",
       "        text-align: right;\n",
       "    }\n",
       "</style>\n",
       "<table border=\"1\" class=\"dataframe\">\n",
       "  <thead>\n",
       "    <tr style=\"text-align: right;\">\n",
       "      <th></th>\n",
       "      <th>Airport Name</th>\n",
       "      <th>Altitude (ft)</th>\n",
       "      <th>rel height</th>\n",
       "    </tr>\n",
       "  </thead>\n",
       "  <tbody>\n",
       "    <tr>\n",
       "      <th>0</th>\n",
       "      <td>Goroka</td>\n",
       "      <td>5282</td>\n",
       "      <td>High</td>\n",
       "    </tr>\n",
       "    <tr>\n",
       "      <th>1</th>\n",
       "      <td>Madang</td>\n",
       "      <td>20</td>\n",
       "      <td>Low</td>\n",
       "    </tr>\n",
       "    <tr>\n",
       "      <th>2</th>\n",
       "      <td>Mount Hagen</td>\n",
       "      <td>5388</td>\n",
       "      <td>High</td>\n",
       "    </tr>\n",
       "    <tr>\n",
       "      <th>3</th>\n",
       "      <td>Nadzab</td>\n",
       "      <td>239</td>\n",
       "      <td>Moderate</td>\n",
       "    </tr>\n",
       "    <tr>\n",
       "      <th>4</th>\n",
       "      <td>Port Moresby Jacksons Intl</td>\n",
       "      <td>146</td>\n",
       "      <td>Moderate</td>\n",
       "    </tr>\n",
       "    <tr>\n",
       "      <th>5</th>\n",
       "      <td>Wewak Intl</td>\n",
       "      <td>19</td>\n",
       "      <td>Low</td>\n",
       "    </tr>\n",
       "    <tr>\n",
       "      <th>6</th>\n",
       "      <td>Narsarsuaq</td>\n",
       "      <td>112</td>\n",
       "      <td>Moderate</td>\n",
       "    </tr>\n",
       "    <tr>\n",
       "      <th>7</th>\n",
       "      <td>Nuuk</td>\n",
       "      <td>283</td>\n",
       "      <td>Moderate</td>\n",
       "    </tr>\n",
       "    <tr>\n",
       "      <th>8</th>\n",
       "      <td>Sondre Stromfjord</td>\n",
       "      <td>165</td>\n",
       "      <td>Moderate</td>\n",
       "    </tr>\n",
       "    <tr>\n",
       "      <th>9</th>\n",
       "      <td>Thule Air Base</td>\n",
       "      <td>251</td>\n",
       "      <td>Moderate</td>\n",
       "    </tr>\n",
       "    <tr>\n",
       "      <th>10</th>\n",
       "      <td>Akureyri</td>\n",
       "      <td>6</td>\n",
       "      <td>Low</td>\n",
       "    </tr>\n",
       "    <tr>\n",
       "      <th>11</th>\n",
       "      <td>Egilsstadir</td>\n",
       "      <td>76</td>\n",
       "      <td>Low</td>\n",
       "    </tr>\n",
       "    <tr>\n",
       "      <th>12</th>\n",
       "      <td>Hornafjordur</td>\n",
       "      <td>24</td>\n",
       "      <td>Low</td>\n",
       "    </tr>\n",
       "    <tr>\n",
       "      <th>13</th>\n",
       "      <td>Husavik</td>\n",
       "      <td>48</td>\n",
       "      <td>Low</td>\n",
       "    </tr>\n",
       "    <tr>\n",
       "      <th>14</th>\n",
       "      <td>Isafjordur</td>\n",
       "      <td>8</td>\n",
       "      <td>Low</td>\n",
       "    </tr>\n",
       "    <tr>\n",
       "      <th>15</th>\n",
       "      <td>Keflavik International Airport</td>\n",
       "      <td>171</td>\n",
       "      <td>Moderate</td>\n",
       "    </tr>\n",
       "    <tr>\n",
       "      <th>16</th>\n",
       "      <td>Patreksfjordur</td>\n",
       "      <td>11</td>\n",
       "      <td>Low</td>\n",
       "    </tr>\n",
       "    <tr>\n",
       "      <th>17</th>\n",
       "      <td>Reykjavik</td>\n",
       "      <td>48</td>\n",
       "      <td>Low</td>\n",
       "    </tr>\n",
       "    <tr>\n",
       "      <th>18</th>\n",
       "      <td>Siglufjordur</td>\n",
       "      <td>10</td>\n",
       "      <td>Low</td>\n",
       "    </tr>\n",
       "    <tr>\n",
       "      <th>19</th>\n",
       "      <td>Vestmannaeyjar</td>\n",
       "      <td>326</td>\n",
       "      <td>Moderate</td>\n",
       "    </tr>\n",
       "  </tbody>\n",
       "</table>\n",
       "</div>"
      ],
      "text/plain": [
       "                      Airport Name  Altitude (ft) rel height\n",
       "0                           Goroka           5282       High\n",
       "1                           Madang             20        Low\n",
       "2                      Mount Hagen           5388       High\n",
       "3                           Nadzab            239   Moderate\n",
       "4       Port Moresby Jacksons Intl            146   Moderate\n",
       "5                       Wewak Intl             19        Low\n",
       "6                       Narsarsuaq            112   Moderate\n",
       "7                             Nuuk            283   Moderate\n",
       "8                Sondre Stromfjord            165   Moderate\n",
       "9                   Thule Air Base            251   Moderate\n",
       "10                        Akureyri              6        Low\n",
       "11                     Egilsstadir             76        Low\n",
       "12                    Hornafjordur             24        Low\n",
       "13                         Husavik             48        Low\n",
       "14                      Isafjordur              8        Low\n",
       "15  Keflavik International Airport            171   Moderate\n",
       "16                  Patreksfjordur             11        Low\n",
       "17                       Reykjavik             48        Low\n",
       "18                    Siglufjordur             10        Low\n",
       "19                  Vestmannaeyjar            326   Moderate"
      ]
     },
     "execution_count": 77,
     "metadata": {},
     "output_type": "execute_result"
    }
   ],
   "source": [
    "sql_query = pd.read_sql(\"\"\"\n",
    "\n",
    "SELECT name AS \"Airport Name\", \n",
    "       CAST(altitude AS int) AS \"Altitude (ft)\",\n",
    "       CASE \n",
    "            WHEN CAST(altitude AS int) > 1000 THEN \"High\"\n",
    "            WHEN CAST(altitude AS int) < 100 THEN \"Low\"\n",
    "            ELSE \"Moderate\"\n",
    "       END AS \"rel height\"\n",
    "FROM airports\n",
    "         \n",
    "LIMIT 20\n",
    "\n",
    "\"\"\", con)\n",
    "\n",
    "sql_query"
   ]
  },
  {
   "cell_type": "markdown",
   "metadata": {
    "slideshow": {
     "slide_type": "slide"
    }
   },
   "source": [
    "That was fairly ugly. Lets make this nicer and more informative."
   ]
  },
  {
   "cell_type": "code",
<<<<<<< HEAD
   "execution_count": 80,
=======
   "execution_count": 58,
>>>>>>> upstream/main
   "metadata": {
    "slideshow": {
     "slide_type": "-"
    }
   },
   "outputs": [
    {
     "data": {
      "text/html": [
       "<div>\n",
       "<style scoped>\n",
       "    .dataframe tbody tr th:only-of-type {\n",
       "        vertical-align: middle;\n",
       "    }\n",
       "\n",
       "    .dataframe tbody tr th {\n",
       "        vertical-align: top;\n",
       "    }\n",
       "\n",
       "    .dataframe thead th {\n",
       "        text-align: right;\n",
       "    }\n",
       "</style>\n",
       "<table border=\"1\" class=\"dataframe\">\n",
       "  <thead>\n",
       "    <tr style=\"text-align: right;\">\n",
       "      <th></th>\n",
       "      <th>Airport Name</th>\n",
       "      <th>alt_ft</th>\n",
       "      <th>height_category</th>\n",
       "    </tr>\n",
       "  </thead>\n",
       "  <tbody>\n",
       "    <tr>\n",
       "      <th>0</th>\n",
       "      <td>Goroka</td>\n",
       "      <td>5282</td>\n",
       "      <td>High</td>\n",
       "    </tr>\n",
       "    <tr>\n",
       "      <th>1</th>\n",
       "      <td>Madang</td>\n",
       "      <td>20</td>\n",
       "      <td>Low</td>\n",
       "    </tr>\n",
       "    <tr>\n",
       "      <th>2</th>\n",
       "      <td>Mount Hagen</td>\n",
       "      <td>5388</td>\n",
       "      <td>High</td>\n",
       "    </tr>\n",
       "    <tr>\n",
       "      <th>3</th>\n",
       "      <td>Nadzab</td>\n",
       "      <td>239</td>\n",
       "      <td>Moderate</td>\n",
       "    </tr>\n",
       "    <tr>\n",
       "      <th>4</th>\n",
       "      <td>Port Moresby Jacksons Intl</td>\n",
       "      <td>146</td>\n",
       "      <td>Moderate</td>\n",
       "    </tr>\n",
       "    <tr>\n",
       "      <th>5</th>\n",
       "      <td>Wewak Intl</td>\n",
       "      <td>19</td>\n",
       "      <td>Low</td>\n",
       "    </tr>\n",
       "    <tr>\n",
       "      <th>6</th>\n",
       "      <td>Narsarsuaq</td>\n",
       "      <td>112</td>\n",
       "      <td>Moderate</td>\n",
       "    </tr>\n",
       "    <tr>\n",
       "      <th>7</th>\n",
       "      <td>Nuuk</td>\n",
       "      <td>283</td>\n",
       "      <td>Moderate</td>\n",
       "    </tr>\n",
       "    <tr>\n",
       "      <th>8</th>\n",
       "      <td>Sondre Stromfjord</td>\n",
       "      <td>165</td>\n",
       "      <td>Moderate</td>\n",
       "    </tr>\n",
       "    <tr>\n",
       "      <th>9</th>\n",
       "      <td>Thule Air Base</td>\n",
       "      <td>251</td>\n",
       "      <td>Moderate</td>\n",
       "    </tr>\n",
       "    <tr>\n",
       "      <th>10</th>\n",
       "      <td>Akureyri</td>\n",
       "      <td>6</td>\n",
       "      <td>Low</td>\n",
       "    </tr>\n",
       "    <tr>\n",
       "      <th>11</th>\n",
       "      <td>Egilsstadir</td>\n",
       "      <td>76</td>\n",
       "      <td>Low</td>\n",
       "    </tr>\n",
       "    <tr>\n",
       "      <th>12</th>\n",
       "      <td>Hornafjordur</td>\n",
       "      <td>24</td>\n",
       "      <td>Low</td>\n",
       "    </tr>\n",
       "    <tr>\n",
       "      <th>13</th>\n",
       "      <td>Husavik</td>\n",
       "      <td>48</td>\n",
       "      <td>Low</td>\n",
       "    </tr>\n",
       "    <tr>\n",
       "      <th>14</th>\n",
       "      <td>Isafjordur</td>\n",
       "      <td>8</td>\n",
       "      <td>Low</td>\n",
       "    </tr>\n",
       "    <tr>\n",
       "      <th>15</th>\n",
       "      <td>Keflavik International Airport</td>\n",
       "      <td>171</td>\n",
       "      <td>Moderate</td>\n",
       "    </tr>\n",
       "    <tr>\n",
       "      <th>16</th>\n",
       "      <td>Patreksfjordur</td>\n",
       "      <td>11</td>\n",
       "      <td>Low</td>\n",
       "    </tr>\n",
       "    <tr>\n",
       "      <th>17</th>\n",
       "      <td>Reykjavik</td>\n",
       "      <td>48</td>\n",
       "      <td>Low</td>\n",
       "    </tr>\n",
       "    <tr>\n",
       "      <th>18</th>\n",
       "      <td>Siglufjordur</td>\n",
       "      <td>10</td>\n",
       "      <td>Low</td>\n",
       "    </tr>\n",
       "    <tr>\n",
       "      <th>19</th>\n",
       "      <td>Vestmannaeyjar</td>\n",
       "      <td>326</td>\n",
       "      <td>Moderate</td>\n",
       "    </tr>\n",
       "  </tbody>\n",
       "</table>\n",
       "</div>"
      ],
      "text/plain": [
       "                      Airport Name  alt_ft height_category\n",
       "0                           Goroka    5282            High\n",
       "1                           Madang      20             Low\n",
       "2                      Mount Hagen    5388            High\n",
       "3                           Nadzab     239        Moderate\n",
       "4       Port Moresby Jacksons Intl     146        Moderate\n",
       "5                       Wewak Intl      19             Low\n",
       "6                       Narsarsuaq     112        Moderate\n",
       "7                             Nuuk     283        Moderate\n",
       "8                Sondre Stromfjord     165        Moderate\n",
       "9                   Thule Air Base     251        Moderate\n",
       "10                        Akureyri       6             Low\n",
       "11                     Egilsstadir      76             Low\n",
       "12                    Hornafjordur      24             Low\n",
       "13                         Husavik      48             Low\n",
       "14                      Isafjordur       8             Low\n",
       "15  Keflavik International Airport     171        Moderate\n",
       "16                  Patreksfjordur      11             Low\n",
       "17                       Reykjavik      48             Low\n",
       "18                    Siglufjordur      10             Low\n",
       "19                  Vestmannaeyjar     326        Moderate"
      ]
     },
<<<<<<< HEAD
     "execution_count": 80,
=======
     "execution_count": 58,
>>>>>>> upstream/main
     "metadata": {},
     "output_type": "execute_result"
    }
   ],
   "source": [
    "sql_query = pd.read_sql(\"\"\"\n",
    "\n",
    "SELECT name AS \"Airport Name\", \n",
    "       CAST(altitude AS int) AS alt_ft,\n",
    "       CASE \n",
    "            WHEN CAST(altitude AS int) > 1000 THEN \"High\"\n",
    "            WHEN CAST(altitude AS int) < 100 THEN \"Low\"\n",
    "            ELSE \"Moderate\"\n",
    "       END AS height_category\n",
    "       \n",
    "FROM airports\n",
    "         \n",
    "LIMIT 20\n",
    "\n",
    "\"\"\", con)\n",
    "\n",
    "sql_query"
   ]
  },
  {
   "cell_type": "markdown",
   "metadata": {
    "slideshow": {
     "slide_type": "slide"
    }
   },
   "source": [
    "**Exercise**\n",
    "\n",
    "- Partition the airports into three latitude regions: \n",
    "\n",
    "- northern (>= 30), central (30,-30), and southern zones (<=-30).\n",
    "\n",
    "Get me all the airports in the central and southern zones:\n",
    "- whose altitude is greater than 3000 ft.\n",
    "- and anywhere but in Brazil, Venezuela, Papua New Guinea, South Africa and Madagascar"
   ]
  },
  {
   "cell_type": "code",
   "execution_count": null,
   "metadata": {},
   "outputs": [],
   "source": []
  },
  {
   "cell_type": "code",
   "execution_count": 66,
   "metadata": {
    "scrolled": true,
    "slideshow": {
     "slide_type": "subslide"
    }
   },
   "outputs": [
    {
     "data": {
      "text/html": [
       "<div>\n",
       "<style scoped>\n",
       "    .dataframe tbody tr th:only-of-type {\n",
       "        vertical-align: middle;\n",
       "    }\n",
       "\n",
       "    .dataframe tbody tr th {\n",
       "        vertical-align: top;\n",
       "    }\n",
       "\n",
       "    .dataframe thead th {\n",
       "        text-align: right;\n",
       "    }\n",
       "</style>\n",
       "<table border=\"1\" class=\"dataframe\">\n",
       "  <thead>\n",
       "    <tr style=\"text-align: right;\">\n",
       "      <th></th>\n",
       "      <th>Airport Name</th>\n",
       "      <th>country</th>\n",
       "      <th>Altitude (ft)</th>\n",
       "      <th>Latitude (deg)</th>\n",
       "      <th>lat_category</th>\n",
       "    </tr>\n",
       "  </thead>\n",
       "  <tbody>\n",
       "    <tr>\n",
       "      <th>0</th>\n",
       "      <td>Tiska</td>\n",
       "      <td>Algeria</td>\n",
       "      <td>3176</td>\n",
       "      <td>24.292767</td>\n",
       "      <td>Central</td>\n",
       "    </tr>\n",
       "    <tr>\n",
       "      <th>1</th>\n",
       "      <td>Tamanrasset</td>\n",
       "      <td>Algeria</td>\n",
       "      <td>4518</td>\n",
       "      <td>22.811461</td>\n",
       "      <td>Central</td>\n",
       "    </tr>\n",
       "    <tr>\n",
       "      <th>2</th>\n",
       "      <td>Yakubu Gowon</td>\n",
       "      <td>Nigeria</td>\n",
       "      <td>4232</td>\n",
       "      <td>9.639828</td>\n",
       "      <td>Central</td>\n",
       "    </tr>\n",
       "    <tr>\n",
       "      <th>3</th>\n",
       "      <td>Francistown</td>\n",
       "      <td>Botswana</td>\n",
       "      <td>3283</td>\n",
       "      <td>-21.159597</td>\n",
       "      <td>Central</td>\n",
       "    </tr>\n",
       "    <tr>\n",
       "      <th>4</th>\n",
       "      <td>Jwaneng</td>\n",
       "      <td>Botswana</td>\n",
       "      <td>3900</td>\n",
       "      <td>-24.602333</td>\n",
       "      <td>Central</td>\n",
       "    </tr>\n",
       "    <tr>\n",
       "      <th>...</th>\n",
       "      <td>...</td>\n",
       "      <td>...</td>\n",
       "      <td>...</td>\n",
       "      <td>...</td>\n",
       "      <td>...</td>\n",
       "    </tr>\n",
       "    <tr>\n",
       "      <th>332</th>\n",
       "      <td>Yading Daocheng</td>\n",
       "      <td>China</td>\n",
       "      <td>14472</td>\n",
       "      <td>29.323100</td>\n",
       "      <td>Central</td>\n",
       "    </tr>\n",
       "    <tr>\n",
       "      <th>333</th>\n",
       "      <td>Santa Cruz des Quiche Airport</td>\n",
       "      <td>Guatemala</td>\n",
       "      <td>6631</td>\n",
       "      <td>15.012200</td>\n",
       "      <td>Central</td>\n",
       "    </tr>\n",
       "    <tr>\n",
       "      <th>334</th>\n",
       "      <td>Angguruk airstrip</td>\n",
       "      <td>Indonesia</td>\n",
       "      <td>4200</td>\n",
       "      <td>-4.200100</td>\n",
       "      <td>Central</td>\n",
       "    </tr>\n",
       "    <tr>\n",
       "      <th>335</th>\n",
       "      <td>Kabale</td>\n",
       "      <td>Uganda</td>\n",
       "      <td>5850</td>\n",
       "      <td>-1.223333</td>\n",
       "      <td>Central</td>\n",
       "    </tr>\n",
       "    <tr>\n",
       "      <th>336</th>\n",
       "      <td>Bus Stop</td>\n",
       "      <td>Reunion</td>\n",
       "      <td>4000</td>\n",
       "      <td>-21.135518</td>\n",
       "      <td>Central</td>\n",
       "    </tr>\n",
       "  </tbody>\n",
       "</table>\n",
       "<p>337 rows × 5 columns</p>\n",
       "</div>"
      ],
      "text/plain": [
       "                      Airport Name    country  Altitude (ft)  Latitude (deg)  \\\n",
       "0                            Tiska    Algeria           3176       24.292767   \n",
       "1                      Tamanrasset    Algeria           4518       22.811461   \n",
       "2                     Yakubu Gowon    Nigeria           4232        9.639828   \n",
       "3                      Francistown   Botswana           3283      -21.159597   \n",
       "4                          Jwaneng   Botswana           3900      -24.602333   \n",
       "..                             ...        ...            ...             ...   \n",
       "332                Yading Daocheng      China          14472       29.323100   \n",
       "333  Santa Cruz des Quiche Airport  Guatemala           6631       15.012200   \n",
       "334              Angguruk airstrip  Indonesia           4200       -4.200100   \n",
       "335                         Kabale     Uganda           5850       -1.223333   \n",
       "336                       Bus Stop    Reunion           4000      -21.135518   \n",
       "\n",
       "    lat_category  \n",
       "0        Central  \n",
       "1        Central  \n",
       "2        Central  \n",
       "3        Central  \n",
       "4        Central  \n",
       "..           ...  \n",
       "332      Central  \n",
       "333      Central  \n",
       "334      Central  \n",
       "335      Central  \n",
       "336      Central  \n",
       "\n",
       "[337 rows x 5 columns]"
      ]
     },
     "execution_count": 66,
     "metadata": {},
     "output_type": "execute_result"
    }
   ],
   "source": [
    "sql_query = pd.read_sql(\"\"\"\n",
    "SELECT name AS 'Airport Name',\n",
    "        country,\n",
    "        CAST(altitude as INT) AS 'Altitude (ft)',\n",
    "        CAST(latitude as FLOAT) AS 'Latitude (deg)',\n",
    "        CASE\n",
    "            WHEN CAST(latitude as FLOAT) >= 30 THEN 'Northern'\n",
    "            WHEN CAST(latitude as FLOAT) <= -30 THEN 'Southern'\n",
    "            ELSE 'Central'\n",
    "        END AS lat_category\n",
    "FROM airports\n",
    "WHERE CAST(altitude as INT) > 3000\n",
    "    AND country NOT IN ('Brazil', 'Venezuela', 'Papua New Guinea', 'South Africa', 'Madagascar')\n",
    "    AND lat_category IN ('Central', 'Southern')\n",
    "\n",
    "\n",
    "\"\"\", con)\n",
    "\n",
    "sql_query"
   ]
  },
  {
   "cell_type": "code",
   "execution_count": null,
   "metadata": {},
   "outputs": [],
   "source": []
  }
 ],
 "metadata": {
  "celltoolbar": "Slideshow",
  "kernelspec": {
   "display_name": "Python (wheelydope)",
   "language": "python",
   "name": "wheelydope"
  },
  "language_info": {
   "codemirror_mode": {
    "name": "ipython",
    "version": 3
   },
   "file_extension": ".py",
   "mimetype": "text/x-python",
   "name": "python",
   "nbconvert_exporter": "python",
   "pygments_lexer": "ipython3",
   "version": "3.8.16"
  }
 },
 "nbformat": 4,
 "nbformat_minor": 5
}
