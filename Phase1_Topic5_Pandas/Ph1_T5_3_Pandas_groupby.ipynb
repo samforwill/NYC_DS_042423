{
 "cells": [
  {
   "cell_type": "markdown",
   "metadata": {
    "slideshow": {
     "slide_type": "slide"
    }
   },
   "source": [
    "<div style=\"color:white;\n",
    "           display:fill;\n",
    "           border-radius:5px;\n",
    "           background-color:#5642C5;\n",
    "           font-size:200%;\n",
    "           font-family:Arial;letter-spacing:0.5px\">\n",
    "\n",
    "<p width = 20%, style=\"padding: 10px;\n",
    "              color:white;\">\n",
    "Pandas: Groupby Operations and Transformations\n",
    "              \n",
    "</p>\n",
    "</div>\n",
    "\n",
    "Data Science Cohort Live NYC Feb 2022\n",
    "<p>Phase 1: Topic 5</p>\n",
    "<br>\n",
    "<br>\n",
    "\n",
    "<div align = \"right\">\n",
    "<img src=\"Images/flatiron-school-logo.png\" align = \"right\" width=\"200\"/>\n",
    "</div>\n",
    "    \n",
    "    "
   ]
  },
  {
   "cell_type": "markdown",
   "metadata": {
    "slideshow": {
     "slide_type": "slide"
    }
   },
   "source": [
    "Categorical variable taking on a few discrete values.\n",
    "\n",
    "Each of these values form a group. Want to:\n",
    "- Calculate statistics on various quantities for each group (mean, etc.)\n",
    "- Transform/scale certain columns differently for each group.\n",
    "\n",
    "\n",
    "DataFrame.groupby() allows us to do this."
   ]
  },
  {
   "cell_type": "markdown",
   "metadata": {
    "slideshow": {
     "slide_type": "slide"
    }
   },
   "source": [
    "Take the Titanic dataset again:"
   ]
  },
  {
   "cell_type": "code",
   "execution_count": 1,
<<<<<<< HEAD
=======
   "id": "3309b922",
>>>>>>> upstream/main
   "metadata": {
    "slideshow": {
     "slide_type": "fragment"
    }
   },
   "outputs": [
    {
     "data": {
      "text/html": [
       "<div>\n",
       "<style scoped>\n",
       "    .dataframe tbody tr th:only-of-type {\n",
       "        vertical-align: middle;\n",
       "    }\n",
       "\n",
       "    .dataframe tbody tr th {\n",
       "        vertical-align: top;\n",
       "    }\n",
       "\n",
       "    .dataframe thead th {\n",
       "        text-align: right;\n",
       "    }\n",
       "</style>\n",
       "<table border=\"1\" class=\"dataframe\">\n",
       "  <thead>\n",
       "    <tr style=\"text-align: right;\">\n",
       "      <th></th>\n",
       "      <th>PassengerId</th>\n",
       "      <th>Survived</th>\n",
       "      <th>Pclass</th>\n",
       "      <th>Name</th>\n",
       "      <th>Sex</th>\n",
       "      <th>Age</th>\n",
       "      <th>SibSp</th>\n",
       "      <th>Parch</th>\n",
       "      <th>Ticket</th>\n",
       "      <th>Fare</th>\n",
       "      <th>Cabin</th>\n",
       "      <th>Embarked</th>\n",
       "    </tr>\n",
       "  </thead>\n",
       "  <tbody>\n",
       "    <tr>\n",
       "      <th>0</th>\n",
       "      <td>1</td>\n",
       "      <td>0</td>\n",
       "      <td>3</td>\n",
       "      <td>Braund, Mr. Owen Harris</td>\n",
       "      <td>male</td>\n",
       "      <td>22.0</td>\n",
       "      <td>1</td>\n",
       "      <td>0</td>\n",
       "      <td>A/5 21171</td>\n",
       "      <td>7.2500</td>\n",
       "      <td>NaN</td>\n",
       "      <td>S</td>\n",
       "    </tr>\n",
       "    <tr>\n",
       "      <th>1</th>\n",
       "      <td>2</td>\n",
       "      <td>1</td>\n",
       "      <td>1</td>\n",
       "      <td>Cumings, Mrs. John Bradley (Florence Briggs Th...</td>\n",
       "      <td>female</td>\n",
       "      <td>38.0</td>\n",
       "      <td>1</td>\n",
       "      <td>0</td>\n",
       "      <td>PC 17599</td>\n",
       "      <td>71.2833</td>\n",
       "      <td>C85</td>\n",
       "      <td>C</td>\n",
       "    </tr>\n",
       "    <tr>\n",
       "      <th>2</th>\n",
       "      <td>3</td>\n",
       "      <td>1</td>\n",
       "      <td>3</td>\n",
       "      <td>Heikkinen, Miss. Laina</td>\n",
       "      <td>female</td>\n",
       "      <td>26.0</td>\n",
       "      <td>0</td>\n",
       "      <td>0</td>\n",
       "      <td>STON/O2. 3101282</td>\n",
       "      <td>7.9250</td>\n",
       "      <td>NaN</td>\n",
       "      <td>S</td>\n",
       "    </tr>\n",
       "    <tr>\n",
       "      <th>3</th>\n",
       "      <td>4</td>\n",
       "      <td>1</td>\n",
       "      <td>1</td>\n",
       "      <td>Futrelle, Mrs. Jacques Heath (Lily May Peel)</td>\n",
       "      <td>female</td>\n",
       "      <td>35.0</td>\n",
       "      <td>1</td>\n",
       "      <td>0</td>\n",
       "      <td>113803</td>\n",
       "      <td>53.1000</td>\n",
       "      <td>C123</td>\n",
       "      <td>S</td>\n",
       "    </tr>\n",
       "    <tr>\n",
       "      <th>4</th>\n",
       "      <td>5</td>\n",
       "      <td>0</td>\n",
       "      <td>3</td>\n",
       "      <td>Allen, Mr. William Henry</td>\n",
       "      <td>male</td>\n",
       "      <td>35.0</td>\n",
       "      <td>0</td>\n",
       "      <td>0</td>\n",
       "      <td>373450</td>\n",
       "      <td>8.0500</td>\n",
       "      <td>NaN</td>\n",
       "      <td>S</td>\n",
       "    </tr>\n",
       "  </tbody>\n",
       "</table>\n",
       "</div>"
      ],
      "text/plain": [
       "   PassengerId  Survived  Pclass  \\\n",
       "0            1         0       3   \n",
       "1            2         1       1   \n",
       "2            3         1       3   \n",
       "3            4         1       1   \n",
       "4            5         0       3   \n",
       "\n",
       "                                                Name     Sex   Age  SibSp  \\\n",
       "0                            Braund, Mr. Owen Harris    male  22.0      1   \n",
       "1  Cumings, Mrs. John Bradley (Florence Briggs Th...  female  38.0      1   \n",
       "2                             Heikkinen, Miss. Laina  female  26.0      0   \n",
       "3       Futrelle, Mrs. Jacques Heath (Lily May Peel)  female  35.0      1   \n",
       "4                           Allen, Mr. William Henry    male  35.0      0   \n",
       "\n",
       "   Parch            Ticket     Fare Cabin Embarked  \n",
       "0      0         A/5 21171   7.2500   NaN        S  \n",
       "1      0          PC 17599  71.2833   C85        C  \n",
       "2      0  STON/O2. 3101282   7.9250   NaN        S  \n",
       "3      0            113803  53.1000  C123        S  \n",
       "4      0            373450   8.0500   NaN        S  "
      ]
     },
     "execution_count": 1,
     "metadata": {},
     "output_type": "execute_result"
    }
   ],
   "source": [
    "import numpy as np\n",
    "import pandas as pd\n",
    "import matplotlib.pyplot as plt\n",
    "\n",
    "titanic_df = pd.read_csv('Data/titanic.csv')\n",
    "titanic_df.head()"
   ]
  },
  {
   "cell_type": "markdown",
   "metadata": {
    "slideshow": {
     "slide_type": "slide"
    }
   },
   "source": [
    "Sex as  relevant categorical variable:\n",
    "- survival rate\n",
    "- distribution of ages\n",
    "- fare"
   ]
  },
  {
   "cell_type": "markdown",
   "metadata": {
    "slideshow": {
     "slide_type": "slide"
    }
   },
   "source": [
    "#### The groupby object"
   ]
  },
  {
   "cell_type": "code",
   "execution_count": 2,
<<<<<<< HEAD
=======
   "id": "0e82a941",
>>>>>>> upstream/main
   "metadata": {
    "slideshow": {
     "slide_type": "fragment"
    }
   },
   "outputs": [
    {
     "data": {
      "text/plain": [
<<<<<<< HEAD
       "<pandas.core.groupby.generic.DataFrameGroupBy object at 0x7f9a98140070>"
=======
       "<pandas.core.groupby.generic.DataFrameGroupBy object at 0x0000024E03B708E0>"
>>>>>>> upstream/main
      ]
     },
     "execution_count": 2,
     "metadata": {},
     "output_type": "execute_result"
    }
   ],
   "source": [
    "titanic_subset = titanic_df[['Sex', 'Survived', 'Age', 'Fare']]\n",
    "titanic_subset.groupby('Sex')"
   ]
  },
  {
   "cell_type": "markdown",
   "metadata": {
    "slideshow": {
     "slide_type": "fragment"
    }
   },
   "source": [
    "groupby object has many useful methods for processing data by group."
   ]
  },
  {
   "cell_type": "markdown",
   "metadata": {
    "slideshow": {
     "slide_type": "slide"
    }
   },
   "source": [
    "#### Aggregation methods \n",
    "\n",
    "- Methods that compute statistics across the different groups.\n",
    "- Common aggregation methods:\n",
    "    - .min(): returns the minimum value for each column by group\n",
    "    - .max(): returns the maximum value for each column by group\n",
    "    - .mean(): returns the average value for each column by group\n",
    "    - .median(): returns the median value for each column by group\n",
    "    - .count(): returns the count of each column by group\n",
    "    - .sum(): return sum of each column by group"
   ]
  },
  {
   "cell_type": "markdown",
   "metadata": {
    "slideshow": {
     "slide_type": "slide"
    }
   },
   "source": [
    "Computing the mean of columns by group:\n",
    "- Note: mean of Survived is the survival fraction."
   ]
  },
  {
   "cell_type": "code",
<<<<<<< HEAD
   "execution_count": 3,
=======
   "execution_count": 7,
   "id": "9c943888",
>>>>>>> upstream/main
   "metadata": {
    "slideshow": {
     "slide_type": "fragment"
    }
   },
   "outputs": [
    {
     "data": {
      "text/html": [
       "<div>\n",
       "<style scoped>\n",
       "    .dataframe tbody tr th:only-of-type {\n",
       "        vertical-align: middle;\n",
       "    }\n",
       "\n",
       "    .dataframe tbody tr th {\n",
       "        vertical-align: top;\n",
       "    }\n",
       "\n",
       "    .dataframe thead th {\n",
       "        text-align: right;\n",
       "    }\n",
       "</style>\n",
       "<table border=\"1\" class=\"dataframe\">\n",
       "  <thead>\n",
       "    <tr style=\"text-align: right;\">\n",
       "      <th></th>\n",
       "      <th>Survived</th>\n",
       "      <th>Age</th>\n",
       "      <th>Fare</th>\n",
       "    </tr>\n",
       "    <tr>\n",
       "      <th>Sex</th>\n",
       "      <th></th>\n",
       "      <th></th>\n",
       "      <th></th>\n",
       "    </tr>\n",
       "  </thead>\n",
       "  <tbody>\n",
       "    <tr>\n",
       "      <th>female</th>\n",
       "      <td>0.742038</td>\n",
       "      <td>27.915709</td>\n",
       "      <td>44.479818</td>\n",
       "    </tr>\n",
       "    <tr>\n",
       "      <th>male</th>\n",
       "      <td>0.188908</td>\n",
       "      <td>30.726645</td>\n",
       "      <td>25.523893</td>\n",
       "    </tr>\n",
       "  </tbody>\n",
       "</table>\n",
       "</div>"
      ],
      "text/plain": [
       "        Survived        Age       Fare\n",
       "Sex                                   \n",
       "female  0.742038  27.915709  44.479818\n",
       "male    0.188908  30.726645  25.523893"
      ]
     },
     "execution_count": 7,
     "metadata": {},
     "output_type": "execute_result"
    }
   ],
   "source": [
    "titanic_subset.groupby('Sex').mean()"
   ]
  },
  {
   "cell_type": "markdown",
   "metadata": {
    "slideshow": {
     "slide_type": "fragment"
    }
   },
   "source": [
    "Any obvious distinctions between groups here?"
   ]
  },
  {
   "cell_type": "markdown",
   "metadata": {
    "slideshow": {
     "slide_type": "slide"
    }
   },
   "source": [
    "#### .agg(func) method\n",
    "Can write your own aggregations.\n",
    "- Get square root of the sum of squares of desired columns."
   ]
  },
  {
   "cell_type": "code",
   "execution_count": 4,
   "metadata": {
    "slideshow": {
     "slide_type": "fragment"
    }
   },
   "outputs": [
    {
     "data": {
      "text/html": [
       "<div>\n",
       "<style scoped>\n",
       "    .dataframe tbody tr th:only-of-type {\n",
       "        vertical-align: middle;\n",
       "    }\n",
       "\n",
       "    .dataframe tbody tr th {\n",
       "        vertical-align: top;\n",
       "    }\n",
       "\n",
       "    .dataframe thead th {\n",
       "        text-align: right;\n",
       "    }\n",
       "</style>\n",
       "<table border=\"1\" class=\"dataframe\">\n",
       "  <thead>\n",
       "    <tr style=\"text-align: right;\">\n",
       "      <th></th>\n",
       "      <th>Survived</th>\n",
       "      <th>Age</th>\n",
       "      <th>Fare</th>\n",
       "    </tr>\n",
       "    <tr>\n",
       "      <th>Sex</th>\n",
       "      <th></th>\n",
       "      <th></th>\n",
       "      <th></th>\n",
       "    </tr>\n",
       "  </thead>\n",
       "  <tbody>\n",
       "    <tr>\n",
       "      <th>female</th>\n",
       "      <td>15.264338</td>\n",
       "      <td>505.132532</td>\n",
       "      <td>1293.863603</td>\n",
       "    </tr>\n",
       "    <tr>\n",
       "      <th>male</th>\n",
       "      <td>10.440307</td>\n",
       "      <td>724.618934</td>\n",
       "      <td>1203.237998</td>\n",
       "    </tr>\n",
       "  </tbody>\n",
       "</table>\n",
       "</div>"
      ],
      "text/plain": [
       "         Survived         Age         Fare\n",
       "Sex                                       \n",
       "female  15.264338  505.132532  1293.863603\n",
       "male    10.440307  724.618934  1203.237998"
      ]
     },
     "execution_count": 4,
     "metadata": {},
     "output_type": "execute_result"
    }
   ],
   "source": [
    "titanic_subset.groupby('Sex').agg(lambda x: np.sqrt(np.sum(x**2)))"
   ]
  },
  {
   "cell_type": "markdown",
   "metadata": {
    "slideshow": {
     "slide_type": "slide"
    }
   },
   "source": [
    "#### .transform(func) method\n",
    "- This is not an aggregation.\n",
    "- Transforms entries in each column differently according to their group.\n",
    "\n",
    "\n"
   ]
  },
  {
   "cell_type": "markdown",
   "metadata": {
    "slideshow": {
     "slide_type": "fragment"
    }
   },
   "source": [
    "Example: standardize columns for each sex separately:\n",
    "\n",
    "- Subtract entries of columns in each sex category by the column mean for that sex.\n",
    "- Then divide by the standard deviation of fare for that sex."
   ]
  },
  {
   "cell_type": "code",
   "execution_count": 5,
   "metadata": {
    "scrolled": true,
    "slideshow": {
     "slide_type": "subslide"
    }
   },
   "outputs": [],
   "source": [
    "sexdifferentiated = titanic_subset.groupby('Sex').transform(lambda col: (col - col.mean())/col.std(ddof = 1) )\n",
    "sexdifferentiated['Sex'] = titanic_subset['Sex']\n",
    "#titanic_subset.apply(lambda col: (col - col.mean())/col.std(ddof = 1))"
   ]
  },
  {
   "cell_type": "code",
   "execution_count": 6,
   "metadata": {},
   "outputs": [
    {
     "data": {
      "text/html": [
       "<div>\n",
       "<style scoped>\n",
       "    .dataframe tbody tr th:only-of-type {\n",
       "        vertical-align: middle;\n",
       "    }\n",
       "\n",
       "    .dataframe tbody tr th {\n",
       "        vertical-align: top;\n",
       "    }\n",
       "\n",
       "    .dataframe thead th {\n",
       "        text-align: right;\n",
       "    }\n",
       "</style>\n",
       "<table border=\"1\" class=\"dataframe\">\n",
       "  <thead>\n",
       "    <tr style=\"text-align: right;\">\n",
       "      <th></th>\n",
       "      <th>Survived</th>\n",
       "      <th>Age</th>\n",
       "      <th>Fare</th>\n",
       "      <th>Sex</th>\n",
       "    </tr>\n",
       "  </thead>\n",
       "  <tbody>\n",
       "    <tr>\n",
       "      <th>0</th>\n",
       "      <td>-0.482185</td>\n",
       "      <td>-0.594531</td>\n",
       "      <td>-0.423612</td>\n",
       "      <td>male</td>\n",
       "    </tr>\n",
       "    <tr>\n",
       "      <th>1</th>\n",
       "      <td>0.588670</td>\n",
       "      <td>0.714684</td>\n",
       "      <td>0.462147</td>\n",
       "      <td>female</td>\n",
       "    </tr>\n",
       "    <tr>\n",
       "      <th>2</th>\n",
       "      <td>0.588670</td>\n",
       "      <td>-0.135768</td>\n",
       "      <td>-0.630280</td>\n",
       "      <td>female</td>\n",
       "    </tr>\n",
       "    <tr>\n",
       "      <th>3</th>\n",
       "      <td>0.588670</td>\n",
       "      <td>0.502071</td>\n",
       "      <td>0.148630</td>\n",
       "      <td>female</td>\n",
       "    </tr>\n",
       "    <tr>\n",
       "      <th>4</th>\n",
       "      <td>-0.482185</td>\n",
       "      <td>0.291136</td>\n",
       "      <td>-0.405067</td>\n",
       "      <td>male</td>\n",
       "    </tr>\n",
       "    <tr>\n",
       "      <th>...</th>\n",
       "      <td>...</td>\n",
       "      <td>...</td>\n",
       "      <td>...</td>\n",
       "      <td>...</td>\n",
       "    </tr>\n",
       "    <tr>\n",
       "      <th>886</th>\n",
       "      <td>-0.482185</td>\n",
       "      <td>-0.253890</td>\n",
       "      <td>-0.290320</td>\n",
       "      <td>male</td>\n",
       "    </tr>\n",
       "    <tr>\n",
       "      <th>887</th>\n",
       "      <td>0.588670</td>\n",
       "      <td>-0.631865</td>\n",
       "      <td>-0.249662</td>\n",
       "      <td>female</td>\n",
       "    </tr>\n",
       "    <tr>\n",
       "      <th>888</th>\n",
       "      <td>-1.693335</td>\n",
       "      <td>NaN</td>\n",
       "      <td>-0.362597</td>\n",
       "      <td>female</td>\n",
       "    </tr>\n",
       "    <tr>\n",
       "      <th>889</th>\n",
       "      <td>2.070299</td>\n",
       "      <td>-0.322018</td>\n",
       "      <td>0.103762</td>\n",
       "      <td>male</td>\n",
       "    </tr>\n",
       "    <tr>\n",
       "      <th>890</th>\n",
       "      <td>-0.482185</td>\n",
       "      <td>0.086751</td>\n",
       "      <td>-0.412022</td>\n",
       "      <td>male</td>\n",
       "    </tr>\n",
       "  </tbody>\n",
       "</table>\n",
       "<p>891 rows × 4 columns</p>\n",
       "</div>"
      ],
      "text/plain": [
       "     Survived       Age      Fare     Sex\n",
       "0   -0.482185 -0.594531 -0.423612    male\n",
       "1    0.588670  0.714684  0.462147  female\n",
       "2    0.588670 -0.135768 -0.630280  female\n",
       "3    0.588670  0.502071  0.148630  female\n",
       "4   -0.482185  0.291136 -0.405067    male\n",
       "..        ...       ...       ...     ...\n",
       "886 -0.482185 -0.253890 -0.290320    male\n",
       "887  0.588670 -0.631865 -0.249662  female\n",
       "888 -1.693335       NaN -0.362597  female\n",
       "889  2.070299 -0.322018  0.103762    male\n",
       "890 -0.482185  0.086751 -0.412022    male\n",
       "\n",
       "[891 rows x 4 columns]"
      ]
     },
     "execution_count": 6,
     "metadata": {},
     "output_type": "execute_result"
    }
   ],
   "source": [
    "sexdifferentiated"
   ]
  },
  {
   "cell_type": "markdown",
   "metadata": {
    "slideshow": {
     "slide_type": "slide"
    }
   },
   "source": [
    "#### Grouping by multiple categorical variables\n",
    "\n",
    "- Split data into multiple levels of groups. \n",
    "- Group by sex (Male/Female) with subgroups in each according to passenger class.\n",
    "\n",
    "df.groupby() takes in list of categorical columns to group on:"
   ]
  },
  {
   "cell_type": "code",
   "execution_count": 8,
<<<<<<< HEAD
=======
   "id": "cd1eef20",
>>>>>>> upstream/main
   "metadata": {
    "slideshow": {
     "slide_type": "fragment"
    }
   },
   "outputs": [
    {
     "data": {
      "text/plain": [
<<<<<<< HEAD
       "<pandas.core.groupby.generic.DataFrameGroupBy object at 0x7f9a987bb640>"
=======
       "<pandas.core.groupby.generic.DataFrameGroupBy object at 0x0000024E00AB7C40>"
>>>>>>> upstream/main
      ]
     },
     "execution_count": 8,
     "metadata": {},
     "output_type": "execute_result"
    }
   ],
   "source": [
    "titanic_subset2 = titanic_df[['Sex', 'Pclass', 'Survived', 'Age', 'Fare']]\n",
    "titanic_subset2.groupby(['Sex','Pclass'])"
   ]
  },
  {
   "cell_type": "markdown",
   "metadata": {
    "slideshow": {
     "slide_type": "slide"
    }
   },
   "source": [
    "Calculate mean of attributes within these groups/subgroups:"
   ]
  },
  {
   "cell_type": "code",
   "execution_count": 9,
<<<<<<< HEAD
=======
   "id": "3534e9ad",
>>>>>>> upstream/main
   "metadata": {
    "slideshow": {
     "slide_type": "fragment"
    }
   },
   "outputs": [
    {
     "data": {
      "text/html": [
       "<div>\n",
       "<style scoped>\n",
       "    .dataframe tbody tr th:only-of-type {\n",
       "        vertical-align: middle;\n",
       "    }\n",
       "\n",
       "    .dataframe tbody tr th {\n",
       "        vertical-align: top;\n",
       "    }\n",
       "\n",
       "    .dataframe thead th {\n",
       "        text-align: right;\n",
       "    }\n",
       "</style>\n",
       "<table border=\"1\" class=\"dataframe\">\n",
       "  <thead>\n",
       "    <tr style=\"text-align: right;\">\n",
       "      <th></th>\n",
       "      <th></th>\n",
       "      <th>Survived</th>\n",
       "      <th>Age</th>\n",
       "      <th>Fare</th>\n",
       "    </tr>\n",
       "    <tr>\n",
       "      <th>Sex</th>\n",
       "      <th>Pclass</th>\n",
       "      <th></th>\n",
       "      <th></th>\n",
       "      <th></th>\n",
       "    </tr>\n",
       "  </thead>\n",
       "  <tbody>\n",
       "    <tr>\n",
       "      <th rowspan=\"3\" valign=\"top\">female</th>\n",
       "      <th>1</th>\n",
       "      <td>0.968085</td>\n",
       "      <td>34.611765</td>\n",
       "      <td>106.125798</td>\n",
       "    </tr>\n",
       "    <tr>\n",
       "      <th>2</th>\n",
       "      <td>0.921053</td>\n",
       "      <td>28.722973</td>\n",
       "      <td>21.970121</td>\n",
       "    </tr>\n",
       "    <tr>\n",
       "      <th>3</th>\n",
       "      <td>0.500000</td>\n",
       "      <td>21.750000</td>\n",
       "      <td>16.118810</td>\n",
       "    </tr>\n",
       "    <tr>\n",
       "      <th rowspan=\"3\" valign=\"top\">male</th>\n",
       "      <th>1</th>\n",
       "      <td>0.368852</td>\n",
       "      <td>41.281386</td>\n",
       "      <td>67.226127</td>\n",
       "    </tr>\n",
       "    <tr>\n",
       "      <th>2</th>\n",
       "      <td>0.157407</td>\n",
       "      <td>30.740707</td>\n",
       "      <td>19.741782</td>\n",
       "    </tr>\n",
       "    <tr>\n",
       "      <th>3</th>\n",
       "      <td>0.135447</td>\n",
       "      <td>26.507589</td>\n",
       "      <td>12.661633</td>\n",
       "    </tr>\n",
       "  </tbody>\n",
       "</table>\n",
       "</div>"
      ],
      "text/plain": [
       "               Survived        Age        Fare\n",
       "Sex    Pclass                                 \n",
       "female 1       0.968085  34.611765  106.125798\n",
       "       2       0.921053  28.722973   21.970121\n",
       "       3       0.500000  21.750000   16.118810\n",
       "male   1       0.368852  41.281386   67.226127\n",
       "       2       0.157407  30.740707   19.741782\n",
       "       3       0.135447  26.507589   12.661633"
      ]
     },
     "execution_count": 9,
     "metadata": {},
     "output_type": "execute_result"
    }
   ],
   "source": [
    "grouped_df = titanic_subset2.groupby(['Sex','Pclass']).mean()\n",
    "grouped_df"
   ]
  },
  {
   "cell_type": "markdown",
   "metadata": {
    "slideshow": {
     "slide_type": "slide"
    }
   },
   "source": [
    "The values are now set on a hierarchical multi-index.\n",
    "\n",
    "- Multi-indexing: extremely powerful.\n",
    "- Will cover the mechanics next lecture.\n",
    "\n",
    "Visualize survival rates and average fare paid by the subgroups."
   ]
  },
  {
   "cell_type": "code",
   "execution_count": 10,
   "metadata": {
    "scrolled": false,
    "slideshow": {
     "slide_type": "slide"
    }
   },
   "outputs": [
    {
     "data": {
      "image/png": "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",
      "text/plain": [
       "<Figure size 700x700 with 9 Axes>"
      ]
     },
     "metadata": {},
     "output_type": "display_data"
    }
   ],
   "source": [
    "# a little column renaming\n",
    "grouped_df.rename(columns = {'Survived': 'Survival'}, \n",
    "                  index = {1: 'Class 1', 2: 'Class 2', 3: 'Class 3'}, inplace = True)\n",
    "grouped_df.index.set_names('Passenger class', level = 1, inplace = True)\n",
    "\n",
    "# quick and dirty plot for sex/class disparity information\n",
    "grouped_df[['Survival', 'Fare']].unstack().plot.bar(subplots=True, layout = (3,3), figsize = (7,7),\n",
    "                                                         legend = False, sharex = True)\n",
    "plt.tight_layout()\n",
    "plt.show()"
   ]
  },
  {
   "cell_type": "markdown",
   "metadata": {
    "slideshow": {
     "slide_type": "slide"
    }
   },
   "source": [
    "Essentially: \n",
    "- One groupby operation\n",
    "- One pandas plot call\n",
    "\n",
    "Result: informative visualization on sex/class disparity.\n",
    "\n",
    "Groupbys clearly allow us to start reforming data/asking interesting questions!"
   ]
  }
 ],
 "metadata": {
  "celltoolbar": "Slideshow",
  "kernelspec": {
   "display_name": "Python (wheelydope)",
   "language": "python",
   "name": "wheelydope"
  },
  "language_info": {
   "codemirror_mode": {
    "name": "ipython",
    "version": 3
   },
   "file_extension": ".py",
   "mimetype": "text/x-python",
   "name": "python",
   "nbconvert_exporter": "python",
   "pygments_lexer": "ipython3",
   "version": "3.8.16"
  }
 },
 "nbformat": 4,
 "nbformat_minor": 5
}
